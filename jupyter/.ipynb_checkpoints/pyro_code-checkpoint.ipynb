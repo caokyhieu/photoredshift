{
 "cells": [
  {
   "cell_type": "code",
   "execution_count": 2,
   "id": "985e6a25",
   "metadata": {},
   "outputs": [],
   "source": [
    "import os\n",
    "import torch\n",
    "import pyro\n",
    "import pyro.distributions as dist\n",
    "from pyro.infer import SVI, Trace_ELBO\n",
    "from pyro.contrib.easyguide import easy_guide\n",
    "from pyro.optim import Adam\n",
    "from torch.distributions import constraints\n",
    "\n",
    "smoke_test = ('CI' in os.environ)\n",
    "assert pyro.__version__.startswith('1.6.0')"
   ]
  },
  {
   "cell_type": "markdown",
   "id": "c7d2e6e5",
   "metadata": {},
   "source": [
    "## Modeling time series data\n",
    "\n",
    "* Consider a time-series model with a slowly-varying continuous latent state and Bernoulli observations with a logistic link function."
   ]
  },
  {
   "cell_type": "code",
   "execution_count": 3,
   "id": "681981be",
   "metadata": {},
   "outputs": [],
   "source": [
    "def model(batch, subsample, full_size):\n",
    "    batch = list(batch)\n",
    "    num_time_steps = len(batch)\n",
    "    drift = pyro.sample(\"drift\", dist.LogNormal(-1, 0.5))\n",
    "    with pyro.plate(\"data\", full_size, subsample=subsample):\n",
    "        z = 0.\n",
    "        for t in range(num_time_steps):\n",
    "            z = pyro.sample(\"state_{}\".format(t),\n",
    "                            dist.Normal(z, drift))\n",
    "            batch[t] = pyro.sample(\"obs_{}\".format(t),\n",
    "                                   dist.Bernoulli(logits=z),\n",
    "                                   obs=batch[t])\n",
    "    return torch.stack(batch)"
   ]
  },
  {
   "cell_type": "markdown",
   "id": "ca6809a8",
   "metadata": {},
   "source": [
    "Let’s generate some data directly from the model."
   ]
  },
  {
   "cell_type": "code",
   "execution_count": 4,
   "id": "adb750bd",
   "metadata": {},
   "outputs": [],
   "source": [
    "full_size = 100\n",
    "num_time_steps = 7\n",
    "pyro.set_rng_seed(123456789)\n",
    "data = model([None] * num_time_steps, torch.arange(full_size), full_size)\n",
    "assert data.shape == (num_time_steps, full_size)"
   ]
  },
  {
   "cell_type": "markdown",
   "id": "6964c89f",
   "metadata": {},
   "source": [
    "## Writing a guide without EasyGuide\n",
    "\n",
    "* Consider a possible guide for this model where we point-estimate the drift parameter using a `Delta` distribution, and then model local time series using shared uncertainty but local means, using a `LowRankMultivariateNormal` distribution. There is a single global sample site which we can model with a param and sample statement. Then we sample a global pair of uncertainty parameters `cov_diag` and `cov_factor`. Next we sample a local `loc` parameter using `pyro.param(..., event_dim=...)` and an auxiliary sample site. Finally we unpack that auxiliary site into one element per time series. The auxiliary-unpacked-to-`Deltas` pattern is quite common."
   ]
  },
  {
   "cell_type": "code",
   "execution_count": 7,
   "id": "023dff63",
   "metadata": {},
   "outputs": [],
   "source": [
    "rank = 3\n",
    "\n",
    "def guide(batch, subsample, full_size):\n",
    "    num_time_steps, batch_size = batch.shape\n",
    "\n",
    "    # MAP estimate the drift.\n",
    "    drift_loc = pyro.param(\"drift_loc\", lambda: torch.tensor(0.1),\n",
    "                           constraint=constraints.positive)\n",
    "    pyro.sample(\"drift\", dist.Delta(drift_loc))\n",
    "\n",
    "    # Model local states using shared uncertainty + local mean.\n",
    "    cov_diag = pyro.param(\"state_cov_diag\",\n",
    "                          lambda: torch.full((num_time_steps,), 0.01),\n",
    "                         constraint=constraints.positive)\n",
    "    cov_factor = pyro.param(\"state_cov_factor\",\n",
    "                            lambda: torch.randn(num_time_steps, rank) * 0.01)\n",
    "    with pyro.plate(\"data\", full_size, subsample=subsample):\n",
    "        # Sample local mean.\n",
    "        loc = pyro.param(\"state_loc\",\n",
    "                         lambda: torch.full((full_size, num_time_steps), 0.5),\n",
    "                         event_dim=1)\n",
    "        states = pyro.sample(\"states\",\n",
    "                             dist.LowRankMultivariateNormal(loc, cov_factor, cov_diag),\n",
    "                             infer={\"is_auxiliary\": True})\n",
    "        # Unpack the joint states into one sample site per time step.\n",
    "        for t in range(num_time_steps):\n",
    "            pyro.sample(\"state_{}\".format(t), dist.Delta(states[:, t]))"
   ]
  },
  {
   "cell_type": "code",
   "execution_count": 8,
   "id": "c8b9fe1c",
   "metadata": {},
   "outputs": [],
   "source": [
    "def train(guide, num_epochs=1 if smoke_test else 101, batch_size=20):\n",
    "    full_size = data.size(-1)\n",
    "    pyro.get_param_store().clear()\n",
    "    pyro.set_rng_seed(123456789)\n",
    "    svi = SVI(model, guide, Adam({\"lr\": 0.02}), Trace_ELBO())\n",
    "    for epoch in range(num_epochs):\n",
    "        pos = 0\n",
    "        losses = []\n",
    "        while pos < full_size:\n",
    "            subsample = torch.arange(pos, pos + batch_size)\n",
    "            batch = data[:, pos:pos + batch_size]\n",
    "            pos += batch_size\n",
    "            losses.append(svi.step(batch, subsample, full_size=full_size))\n",
    "        epoch_loss = sum(losses) / len(losses)\n",
    "        if epoch % 10 == 0:\n",
    "            print(\"epoch {} loss = {}\".format(epoch, epoch_loss / data.numel()))"
   ]
  },
  {
   "cell_type": "code",
   "execution_count": 11,
   "id": "d995bc8a",
   "metadata": {},
   "outputs": [
    {
     "name": "stdout",
     "output_type": "stream",
     "text": [
      "epoch 0 loss = 1.6502663679691647\n",
      "epoch 10 loss = 0.9041729503988972\n",
      "epoch 20 loss = 0.8520573250656035\n",
      "epoch 30 loss = 0.8516711521805681\n",
      "epoch 40 loss = 0.835139897467542\n",
      "epoch 50 loss = 0.8183378660552194\n",
      "epoch 60 loss = 0.825986212509424\n",
      "epoch 70 loss = 0.7948076713645764\n",
      "epoch 80 loss = 0.8093483115833656\n",
      "epoch 90 loss = 0.7926308777143313\n",
      "epoch 100 loss = 0.7611237818634327\n"
     ]
    }
   ],
   "source": [
    "train(guide)"
   ]
  },
  {
   "cell_type": "code",
   "execution_count": 10,
   "id": "4f01c32b",
   "metadata": {},
   "outputs": [],
   "source": [
    "@easy_guide(model)\n",
    "def guide(self, batch, subsample, full_size):\n",
    "    # MAP estimate the drift.\n",
    "    self.map_estimate(\"drift\")\n",
    "\n",
    "    # Model local states using shared uncertainty + local mean.\n",
    "    group = self.group(match=\"state_[0-9]*\")  # Selects all local variables.\n",
    "    cov_diag = pyro.param(\"state_cov_diag\",\n",
    "                          lambda: torch.full(group.event_shape, 0.01),\n",
    "                          constraint=constraints.positive)\n",
    "    cov_factor = pyro.param(\"state_cov_factor\",\n",
    "                            lambda: torch.randn(group.event_shape + (rank,)) * 0.01)\n",
    "    with self.plate(\"data\", full_size, subsample=subsample):\n",
    "        # Sample local mean.\n",
    "        loc = pyro.param(\"state_loc\",\n",
    "                         lambda: torch.full((full_size,) + group.event_shape, 0.5),\n",
    "                         event_dim=1)\n",
    "        # Automatically sample the joint latent, then unpack and replay model sites.\n",
    "        group.sample(\"states\", dist.LowRankMultivariateNormal(loc, cov_factor, cov_diag))"
   ]
  },
  {
   "cell_type": "markdown",
   "id": "b8a97c77",
   "metadata": {},
   "source": [
    "# CVAE"
   ]
  },
  {
   "cell_type": "code",
   "execution_count": 2,
   "id": "28f96b28",
   "metadata": {},
   "outputs": [],
   "source": [
    "import os\n",
    "\n",
    "import numpy as np\n",
    "import torch\n",
    "from pyro.contrib.examples.util import MNIST\n",
    "import torch.nn as nn\n",
    "import torchvision.transforms as transforms\n",
    "\n",
    "import pyro\n",
    "import pyro.distributions as dist\n",
    "import pyro.contrib.examples.util  # patches torchvision\n",
    "from pyro.infer import SVI, Trace_ELBO\n",
    "from pyro.optim import Adam\n",
    "from torch.utils.data import Dataset"
   ]
  },
  {
   "cell_type": "code",
   "execution_count": 3,
   "id": "f10d1652",
   "metadata": {},
   "outputs": [],
   "source": [
    "class CVAEMNIST(Dataset):\n",
    "    def __init__(self, root, train=True, transform=None, download=False):\n",
    "        self.original = MNIST(root, train=train, download=download)\n",
    "        self.transform = transform\n",
    "\n",
    "    def __len__(self):\n",
    "        return len(self.original)\n",
    "\n",
    "    def __getitem__(self, item):\n",
    "        image, digit = self.original[item]\n",
    "        sample = {'original': image, 'digit': digit}\n",
    "        if self.transform:\n",
    "            sample = self.transform(sample)\n",
    "\n",
    "        return sample\n",
    "\n",
    "\n",
    "class ToTensor:\n",
    "    def __call__(self, sample):\n",
    "        sample['original'] = functional.to_tensor(sample['original'])\n",
    "        sample['digit'] = torch.as_tensor(np.asarray(sample['digit']),\n",
    "                                          dtype=torch.int64)\n",
    "        return sample\n",
    "\n",
    "\n",
    "class MaskImages:\n",
    "    \"\"\"This torchvision image transformation prepares the MNIST digits to be\n",
    "    used in the tutorial. Depending on the number of quadrants to be used as\n",
    "    inputs (1, 2, or 3), the transformation masks the remaining (3, 2, 1)\n",
    "    quadrant(s) setting their pixels with -1. Additionally, the transformation\n",
    "    adds the target output in the sample dict as the complementary of the input\n",
    "    \"\"\"\n",
    "    def __init__(self, num_quadrant_inputs, mask_with=-1):\n",
    "        if num_quadrant_inputs <= 0 or num_quadrant_inputs >= 4:\n",
    "            raise ValueError('Number of quadrants as inputs must be 1, 2 or 3')\n",
    "        self.num = num_quadrant_inputs\n",
    "        self.mask_with = mask_with\n",
    "\n",
    "    def __call__(self, sample):\n",
    "        tensor = sample['original'].squeeze()\n",
    "        out = tensor.detach().clone()\n",
    "        h, w = tensor.shape\n",
    "\n",
    "        # removes the bottom left quadrant from the target output\n",
    "        out[h // 2:, :w // 2] = self.mask_with\n",
    "        # if num of quadrants to be used as input is 2,\n",
    "        # also removes the top left quadrant from the target output\n",
    "        if self.num == 2:\n",
    "            out[:, :w // 2] = self.mask_with\n",
    "        # if num of quadrants to be used as input is 3,\n",
    "        # also removes the top right quadrant from the target output\n",
    "        if self.num == 3:\n",
    "            out[:h // 2, :] = self.mask_with\n",
    "\n",
    "        # now, sets the input as complementary\n",
    "        inp = tensor.clone()\n",
    "        inp[out != -1] = self.mask_with\n",
    "\n",
    "        sample['input'] = inp\n",
    "        sample['output'] = out\n",
    "        return sample\n",
    "\n",
    "\n",
    "def get_data(num_quadrant_inputs, batch_size):\n",
    "    transforms = Compose([\n",
    "        ToTensor(),\n",
    "        MaskImages(num_quadrant_inputs=num_quadrant_inputs)\n",
    "    ])\n",
    "    datasets, dataloaders, dataset_sizes = {}, {}, {}\n",
    "    for mode in ['train', 'val']:\n",
    "        datasets[mode] = CVAEMNIST(\n",
    "            '../data',\n",
    "            download=True,\n",
    "            transform=transforms,\n",
    "            train=mode == 'train'\n",
    "        )\n",
    "        dataloaders[mode] = DataLoader(\n",
    "            datasets[mode],\n",
    "            batch_size=batch_size,\n",
    "            shuffle=mode == 'train',\n",
    "            num_workers=0\n",
    "        )\n",
    "        dataset_sizes[mode] = len(datasets[mode])\n",
    "\n",
    "    return datasets, dataloaders, dataset_sizes"
   ]
  },
  {
   "cell_type": "code",
   "execution_count": 4,
   "id": "625ec4c1",
   "metadata": {},
   "outputs": [],
   "source": [
    "class BaselineNet(nn.Module):\n",
    "    def __init__(self, hidden_1, hidden_2):\n",
    "        super().__init__()\n",
    "        self.fc1 = nn.Linear(784, hidden_1)\n",
    "        self.fc2 = nn.Linear(hidden_1, hidden_2)\n",
    "        self.fc3 = nn.Linear(hidden_2, 784)\n",
    "        self.relu = nn.ReLU()\n",
    "\n",
    "    def forward(self, x):\n",
    "        x = x.view(-1, 784)\n",
    "        hidden = self.relu(self.fc1(x))\n",
    "        hidden = self.relu(self.fc2(hidden))\n",
    "        y = torch.sigmoid(self.fc3(hidden))\n",
    "        return y"
   ]
  },
  {
   "cell_type": "code",
   "execution_count": 5,
   "id": "d40b06e1",
   "metadata": {},
   "outputs": [],
   "source": [
    "class MaskedBCELoss(nn.Module):\n",
    "    def __init__(self, masked_with=-1):\n",
    "        super().__init__()\n",
    "        self.masked_with = masked_with\n",
    "\n",
    "    def forward(self, input, target):\n",
    "        target = target.view(input.shape)\n",
    "        loss = F.binary_cross_entropy(input, target, reduction='none')\n",
    "        loss[target == self.masked_with] = 0\n",
    "        return loss.sum()"
   ]
  },
  {
   "cell_type": "code",
   "execution_count": 6,
   "id": "ff9b00e3",
   "metadata": {},
   "outputs": [],
   "source": [
    "class Encoder(nn.Module):\n",
    "    def __init__(self, z_dim, hidden_1, hidden_2):\n",
    "        super().__init__()\n",
    "        self.fc1 = nn.Linear(784, hidden_1)\n",
    "        self.fc2 = nn.Linear(hidden_1, hidden_2)\n",
    "        self.fc31 = nn.Linear(hidden_2, z_dim)\n",
    "        self.fc32 = nn.Linear(hidden_2, z_dim)\n",
    "        self.relu = nn.ReLU()\n",
    "\n",
    "    def forward(self, x, y):\n",
    "        # put x and y together in the same image for simplification\n",
    "        xc = x.clone()\n",
    "        xc[x == -1] = y[x == -1]\n",
    "        xc = xc.view(-1, 784)\n",
    "        # then compute the hidden units\n",
    "        hidden = self.relu(self.fc1(xc))\n",
    "        hidden = self.relu(self.fc2(hidden))\n",
    "        # then return a mean vector and a (positive) square root covariance\n",
    "        # each of size batch_size x z_dim\n",
    "        z_loc = self.fc31(hidden)\n",
    "        z_scale = torch.exp(self.fc32(hidden))\n",
    "        return z_loc, z_scale\n",
    "\n",
    "\n",
    "class Decoder(nn.Module):\n",
    "    def __init__(self, z_dim, hidden_1, hidden_2):\n",
    "        super().__init__()\n",
    "        self.fc1 = nn.Linear(z_dim, hidden_1)\n",
    "        self.fc2 = nn.Linear(hidden_1, hidden_2)\n",
    "        self.fc3 = nn.Linear(hidden_2, 784)\n",
    "        self.relu = nn.ReLU()\n",
    "\n",
    "    def forward(self, z):\n",
    "        y = self.relu(self.fc1(z))\n",
    "        y = self.relu(self.fc2(y))\n",
    "        y = torch.sigmoid(self.fc3(y))\n",
    "        return y\n",
    "\n",
    "\n",
    "class CVAE(nn.Module):\n",
    "    def __init__(self, z_dim, hidden_1, hidden_2, pre_trained_baseline_net):\n",
    "        super().__init__()\n",
    "        # The CVAE is composed of multiple MLPs, such as recognition network\n",
    "        # qφ(z|x, y), (conditional) prior network pθ(z|x), and generation\n",
    "        # network pθ(y|x, z). Also, CVAE is built on top of the NN: not only\n",
    "        # the direct input x, but also the initial guess y_hat made by the NN\n",
    "        # are fed into the prior network.\n",
    "        self.baseline_net = pre_trained_baseline_net\n",
    "        self.prior_net = Encoder(z_dim, hidden_1, hidden_2)\n",
    "        self.generation_net = Decoder(z_dim, hidden_1, hidden_2)\n",
    "        self.recognition_net = Encoder(z_dim, hidden_1, hidden_2)\n",
    "\n",
    "    def model(self, xs, ys=None):\n",
    "        # register this pytorch module and all of its sub-modules with pyro\n",
    "        pyro.module(\"generation_net\", self)\n",
    "        batch_size = xs.shape[0]\n",
    "        with pyro.plate(\"data\"):\n",
    "\n",
    "            # Prior network uses the baseline predictions as initial guess.\n",
    "            # This is the generative process with recurrent connection\n",
    "            with torch.no_grad():\n",
    "                # this ensures the training process does not change the\n",
    "                # baseline network\n",
    "                y_hat = self.baseline_net(xs).view(xs.shape)\n",
    "\n",
    "            # sample the handwriting style from the prior distribution, which is\n",
    "            # modulated by the input xs.\n",
    "            prior_loc, prior_scale = self.prior_net(xs, y_hat)\n",
    "            zs = pyro.sample('z', dist.Normal(prior_loc, prior_scale).to_event(1))\n",
    "\n",
    "            # the output y is generated from the distribution pθ(y|x, z)\n",
    "            loc = self.generation_net(zs)\n",
    "\n",
    "            if ys is not None:\n",
    "                # In training, we will only sample in the masked image\n",
    "                mask_loc = loc[(xs == -1).view(-1, 784)].view(batch_size, -1)\n",
    "                mask_ys = ys[xs == -1].view(batch_size, -1)\n",
    "                pyro.sample('y', dist.Bernoulli(mask_loc).to_event(1), obs=mask_ys)\n",
    "            else:\n",
    "                # In testing, no need to sample: the output is already a\n",
    "                # probability in [0, 1] range, which better represent pixel\n",
    "                # values considering grayscale. If we sample, we will force\n",
    "                # each pixel to be  either 0 or 1, killing the grayscale\n",
    "                pyro.deterministic('y', loc.detach())\n",
    "\n",
    "            # return the loc so we can visualize it later\n",
    "            return loc\n",
    "\n",
    "    def guide(self, xs, ys=None):\n",
    "        with pyro.plate(\"data\"):\n",
    "            if ys is None:\n",
    "                # at inference time, ys is not provided. In that case,\n",
    "                # the model uses the prior network\n",
    "                y_hat = self.baseline_net(xs).view(xs.shape)\n",
    "                loc, scale = self.prior_net(xs, y_hat)\n",
    "            else:\n",
    "                # at training time, uses the variational distribution\n",
    "                # q(z|x,y) = normal(loc(x,y),scale(x,y))\n",
    "                loc, scale = self.recognition_net(xs, ys)\n",
    "\n",
    "            pyro.sample(\"z\", dist.Normal(loc, scale).to_event(1))"
   ]
  },
  {
   "cell_type": "markdown",
   "id": "a0d06616",
   "metadata": {},
   "source": [
    "## EXPLORE DATA"
   ]
  },
  {
   "cell_type": "code",
   "execution_count": 2,
   "id": "cd870f76",
   "metadata": {},
   "outputs": [],
   "source": [
    "import matplotlib.pyplot as plt\n",
    "import numpy as np\n",
    "import pandas as pd"
   ]
  },
  {
   "cell_type": "code",
   "execution_count": 2,
   "id": "a33cc3c6",
   "metadata": {},
   "outputs": [],
   "source": [
    "PHOTO_PATH = \"/home/phuocbui/MCMC/reimplement/data_freeman/photometric.txt\"\n",
    "SPECTRO_PATH = \"/home/phuocbui/MCMC/reimplement/data_freeman/spectroscopic.txt\""
   ]
  },
  {
   "cell_type": "code",
   "execution_count": 5,
   "id": "cf3ec47b",
   "metadata": {},
   "outputs": [],
   "source": [
    "photo_df = pd.read_csv(PHOTO_PATH,skiprows=2,header=0,delimiter=' ')\n",
    "photo_data = photo_df[(photo_df.u_mod<21)|(photo_df.g_mod<22)|(photo_df.r_mod<22)|(photo_df.i_mod<20.5)|(photo_df.z_mod<20.1)]\n",
    "photo_data = photo_data[(photo_data.u_mod<=29)&(photo_data.u_mod>=15)]\n",
    "photo_data=photo_data[(photo_data.g_mod<=29)&(photo_data.g_mod>=15)]\n",
    "photo_data=photo_data[(photo_data.r_mod<=29)&(photo_data.r_mod>=15)]\n",
    "photo_data=photo_data[(photo_data.i_mod<=29)&(photo_data.i_mod>=15)]\n",
    "photo_data=photo_data[(photo_data.z_mod<=29)&(photo_data.z_mod>=15)]"
   ]
  },
  {
   "cell_type": "code",
   "execution_count": 6,
   "id": "5b29eb64",
   "metadata": {},
   "outputs": [
    {
     "data": {
      "text/html": [
       "<div>\n",
       "<style scoped>\n",
       "    .dataframe tbody tr th:only-of-type {\n",
       "        vertical-align: middle;\n",
       "    }\n",
       "\n",
       "    .dataframe tbody tr th {\n",
       "        vertical-align: top;\n",
       "    }\n",
       "\n",
       "    .dataframe thead th {\n",
       "        text-align: right;\n",
       "    }\n",
       "</style>\n",
       "<table border=\"1\" class=\"dataframe\">\n",
       "  <thead>\n",
       "    <tr style=\"text-align: right;\">\n",
       "      <th></th>\n",
       "      <th>ra</th>\n",
       "      <th>dec</th>\n",
       "      <th>u_mod</th>\n",
       "      <th>g_mod</th>\n",
       "      <th>r_mod</th>\n",
       "      <th>i_mod</th>\n",
       "      <th>z_mod</th>\n",
       "      <th>u_cmod</th>\n",
       "      <th>g_cmod</th>\n",
       "      <th>r_cmod</th>\n",
       "      <th>i_cmod</th>\n",
       "      <th>z_cmod</th>\n",
       "    </tr>\n",
       "  </thead>\n",
       "  <tbody>\n",
       "    <tr>\n",
       "      <th>0</th>\n",
       "      <td>168.736</td>\n",
       "      <td>-0.212</td>\n",
       "      <td>22.514</td>\n",
       "      <td>21.684</td>\n",
       "      <td>20.656</td>\n",
       "      <td>20.216</td>\n",
       "      <td>19.848</td>\n",
       "      <td>22.361</td>\n",
       "      <td>21.760</td>\n",
       "      <td>20.656</td>\n",
       "      <td>20.122</td>\n",
       "      <td>20.049</td>\n",
       "    </tr>\n",
       "    <tr>\n",
       "      <th>1</th>\n",
       "      <td>170.091</td>\n",
       "      <td>-0.528</td>\n",
       "      <td>21.649</td>\n",
       "      <td>20.501</td>\n",
       "      <td>19.704</td>\n",
       "      <td>19.375</td>\n",
       "      <td>19.109</td>\n",
       "      <td>21.170</td>\n",
       "      <td>20.397</td>\n",
       "      <td>19.665</td>\n",
       "      <td>19.395</td>\n",
       "      <td>19.105</td>\n",
       "    </tr>\n",
       "    <tr>\n",
       "      <th>2</th>\n",
       "      <td>170.292</td>\n",
       "      <td>-0.020</td>\n",
       "      <td>22.033</td>\n",
       "      <td>20.331</td>\n",
       "      <td>18.827</td>\n",
       "      <td>18.257</td>\n",
       "      <td>17.907</td>\n",
       "      <td>21.546</td>\n",
       "      <td>20.303</td>\n",
       "      <td>18.859</td>\n",
       "      <td>18.298</td>\n",
       "      <td>17.868</td>\n",
       "    </tr>\n",
       "    <tr>\n",
       "      <th>3</th>\n",
       "      <td>170.218</td>\n",
       "      <td>0.335</td>\n",
       "      <td>22.159</td>\n",
       "      <td>21.972</td>\n",
       "      <td>21.449</td>\n",
       "      <td>21.065</td>\n",
       "      <td>20.358</td>\n",
       "      <td>21.466</td>\n",
       "      <td>21.937</td>\n",
       "      <td>21.449</td>\n",
       "      <td>21.157</td>\n",
       "      <td>20.386</td>\n",
       "    </tr>\n",
       "    <tr>\n",
       "      <th>4</th>\n",
       "      <td>169.021</td>\n",
       "      <td>-0.632</td>\n",
       "      <td>23.779</td>\n",
       "      <td>22.148</td>\n",
       "      <td>21.010</td>\n",
       "      <td>20.619</td>\n",
       "      <td>20.694</td>\n",
       "      <td>24.329</td>\n",
       "      <td>21.780</td>\n",
       "      <td>21.010</td>\n",
       "      <td>20.680</td>\n",
       "      <td>20.568</td>\n",
       "    </tr>\n",
       "  </tbody>\n",
       "</table>\n",
       "</div>"
      ],
      "text/plain": [
       "        ra    dec   u_mod   g_mod   r_mod   i_mod   z_mod  u_cmod  g_cmod  \\\n",
       "0  168.736 -0.212  22.514  21.684  20.656  20.216  19.848  22.361  21.760   \n",
       "1  170.091 -0.528  21.649  20.501  19.704  19.375  19.109  21.170  20.397   \n",
       "2  170.292 -0.020  22.033  20.331  18.827  18.257  17.907  21.546  20.303   \n",
       "3  170.218  0.335  22.159  21.972  21.449  21.065  20.358  21.466  21.937   \n",
       "4  169.021 -0.632  23.779  22.148  21.010  20.619  20.694  24.329  21.780   \n",
       "\n",
       "   r_cmod  i_cmod  z_cmod  \n",
       "0  20.656  20.122  20.049  \n",
       "1  19.665  19.395  19.105  \n",
       "2  18.859  18.298  17.868  \n",
       "3  21.449  21.157  20.386  \n",
       "4  21.010  20.680  20.568  "
      ]
     },
     "execution_count": 6,
     "metadata": {},
     "output_type": "execute_result"
    }
   ],
   "source": [
    "photo_data.head()"
   ]
  },
  {
   "cell_type": "code",
   "execution_count": 7,
   "id": "18d4562a",
   "metadata": {},
   "outputs": [],
   "source": [
    "spectro_df = pd.read_csv(SPECTRO_PATH,header=0,delimiter=' ')"
   ]
  },
  {
   "cell_type": "code",
   "execution_count": 8,
   "id": "a4ed38aa",
   "metadata": {},
   "outputs": [
    {
     "data": {
      "text/html": [
       "<div>\n",
       "<style scoped>\n",
       "    .dataframe tbody tr th:only-of-type {\n",
       "        vertical-align: middle;\n",
       "    }\n",
       "\n",
       "    .dataframe tbody tr th {\n",
       "        vertical-align: top;\n",
       "    }\n",
       "\n",
       "    .dataframe thead th {\n",
       "        text-align: right;\n",
       "    }\n",
       "</style>\n",
       "<table border=\"1\" class=\"dataframe\">\n",
       "  <thead>\n",
       "    <tr style=\"text-align: right;\">\n",
       "      <th></th>\n",
       "      <th>u_mod</th>\n",
       "      <th>g_mod</th>\n",
       "      <th>r_mod</th>\n",
       "      <th>i_mod</th>\n",
       "      <th>z_mod</th>\n",
       "      <th>u_cmod</th>\n",
       "      <th>g_cmod</th>\n",
       "      <th>r_cmod</th>\n",
       "      <th>i_cmod</th>\n",
       "      <th>z_cmod</th>\n",
       "      <th>redshift</th>\n",
       "    </tr>\n",
       "  </thead>\n",
       "  <tbody>\n",
       "    <tr>\n",
       "      <th>0</th>\n",
       "      <td>23.601</td>\n",
       "      <td>22.218</td>\n",
       "      <td>20.538</td>\n",
       "      <td>19.645</td>\n",
       "      <td>19.306</td>\n",
       "      <td>20.110</td>\n",
       "      <td>21.733</td>\n",
       "      <td>20.538</td>\n",
       "      <td>19.552</td>\n",
       "      <td>19.057</td>\n",
       "      <td>0.492</td>\n",
       "    </tr>\n",
       "    <tr>\n",
       "      <th>1</th>\n",
       "      <td>24.780</td>\n",
       "      <td>22.228</td>\n",
       "      <td>20.644</td>\n",
       "      <td>19.677</td>\n",
       "      <td>19.434</td>\n",
       "      <td>24.264</td>\n",
       "      <td>22.447</td>\n",
       "      <td>20.715</td>\n",
       "      <td>19.746</td>\n",
       "      <td>19.911</td>\n",
       "      <td>0.494</td>\n",
       "    </tr>\n",
       "    <tr>\n",
       "      <th>2</th>\n",
       "      <td>23.278</td>\n",
       "      <td>22.170</td>\n",
       "      <td>20.441</td>\n",
       "      <td>19.542</td>\n",
       "      <td>19.214</td>\n",
       "      <td>20.497</td>\n",
       "      <td>22.376</td>\n",
       "      <td>20.473</td>\n",
       "      <td>19.576</td>\n",
       "      <td>19.239</td>\n",
       "      <td>0.589</td>\n",
       "    </tr>\n",
       "    <tr>\n",
       "      <th>3</th>\n",
       "      <td>23.471</td>\n",
       "      <td>21.920</td>\n",
       "      <td>19.937</td>\n",
       "      <td>19.004</td>\n",
       "      <td>18.585</td>\n",
       "      <td>20.357</td>\n",
       "      <td>22.574</td>\n",
       "      <td>19.937</td>\n",
       "      <td>19.167</td>\n",
       "      <td>18.348</td>\n",
       "      <td>0.526</td>\n",
       "    </tr>\n",
       "    <tr>\n",
       "      <th>4</th>\n",
       "      <td>23.867</td>\n",
       "      <td>22.316</td>\n",
       "      <td>20.368</td>\n",
       "      <td>19.432</td>\n",
       "      <td>18.857</td>\n",
       "      <td>24.331</td>\n",
       "      <td>22.454</td>\n",
       "      <td>20.433</td>\n",
       "      <td>19.560</td>\n",
       "      <td>19.230</td>\n",
       "      <td>0.490</td>\n",
       "    </tr>\n",
       "  </tbody>\n",
       "</table>\n",
       "</div>"
      ],
      "text/plain": [
       "    u_mod   g_mod   r_mod   i_mod   z_mod  u_cmod  g_cmod  r_cmod  i_cmod  \\\n",
       "0  23.601  22.218  20.538  19.645  19.306  20.110  21.733  20.538  19.552   \n",
       "1  24.780  22.228  20.644  19.677  19.434  24.264  22.447  20.715  19.746   \n",
       "2  23.278  22.170  20.441  19.542  19.214  20.497  22.376  20.473  19.576   \n",
       "3  23.471  21.920  19.937  19.004  18.585  20.357  22.574  19.937  19.167   \n",
       "4  23.867  22.316  20.368  19.432  18.857  24.331  22.454  20.433  19.560   \n",
       "\n",
       "   z_cmod  redshift  \n",
       "0  19.057     0.492  \n",
       "1  19.911     0.494  \n",
       "2  19.239     0.589  \n",
       "3  18.348     0.526  \n",
       "4  19.230     0.490  "
      ]
     },
     "execution_count": 8,
     "metadata": {},
     "output_type": "execute_result"
    }
   ],
   "source": [
    "spectro_df.head()"
   ]
  },
  {
   "cell_type": "code",
   "execution_count": 9,
   "id": "10dd7d83",
   "metadata": {},
   "outputs": [
    {
     "data": {
      "text/html": [
       "<div>\n",
       "<style scoped>\n",
       "    .dataframe tbody tr th:only-of-type {\n",
       "        vertical-align: middle;\n",
       "    }\n",
       "\n",
       "    .dataframe tbody tr th {\n",
       "        vertical-align: top;\n",
       "    }\n",
       "\n",
       "    .dataframe thead th {\n",
       "        text-align: right;\n",
       "    }\n",
       "</style>\n",
       "<table border=\"1\" class=\"dataframe\">\n",
       "  <thead>\n",
       "    <tr style=\"text-align: right;\">\n",
       "      <th></th>\n",
       "      <th>u_mod</th>\n",
       "      <th>g_mod</th>\n",
       "      <th>r_mod</th>\n",
       "      <th>i_mod</th>\n",
       "      <th>z_mod</th>\n",
       "      <th>u_cmod</th>\n",
       "      <th>g_cmod</th>\n",
       "      <th>r_cmod</th>\n",
       "      <th>i_cmod</th>\n",
       "      <th>z_cmod</th>\n",
       "      <th>redshift</th>\n",
       "    </tr>\n",
       "  </thead>\n",
       "  <tbody>\n",
       "    <tr>\n",
       "      <th>count</th>\n",
       "      <td>467710.000000</td>\n",
       "      <td>467710.000000</td>\n",
       "      <td>467710.000000</td>\n",
       "      <td>467710.000000</td>\n",
       "      <td>467710.000000</td>\n",
       "      <td>467710.000000</td>\n",
       "      <td>467710.000000</td>\n",
       "      <td>467710.000000</td>\n",
       "      <td>467710.000000</td>\n",
       "      <td>467710.000000</td>\n",
       "      <td>467710.000000</td>\n",
       "    </tr>\n",
       "    <tr>\n",
       "      <th>mean</th>\n",
       "      <td>20.113855</td>\n",
       "      <td>18.451474</td>\n",
       "      <td>17.501365</td>\n",
       "      <td>17.069236</td>\n",
       "      <td>16.783894</td>\n",
       "      <td>19.704050</td>\n",
       "      <td>18.403653</td>\n",
       "      <td>17.495799</td>\n",
       "      <td>17.086163</td>\n",
       "      <td>16.816536</td>\n",
       "      <td>0.158993</td>\n",
       "    </tr>\n",
       "    <tr>\n",
       "      <th>std</th>\n",
       "      <td>1.522090</td>\n",
       "      <td>1.317011</td>\n",
       "      <td>1.102293</td>\n",
       "      <td>1.053315</td>\n",
       "      <td>1.069859</td>\n",
       "      <td>1.332745</td>\n",
       "      <td>1.314288</td>\n",
       "      <td>1.102509</td>\n",
       "      <td>1.054066</td>\n",
       "      <td>1.030596</td>\n",
       "      <td>0.123475</td>\n",
       "    </tr>\n",
       "    <tr>\n",
       "      <th>min</th>\n",
       "      <td>15.633000</td>\n",
       "      <td>15.147000</td>\n",
       "      <td>15.043000</td>\n",
       "      <td>15.002000</td>\n",
       "      <td>15.000000</td>\n",
       "      <td>13.585000</td>\n",
       "      <td>15.147000</td>\n",
       "      <td>15.022000</td>\n",
       "      <td>14.406000</td>\n",
       "      <td>13.756000</td>\n",
       "      <td>0.000000</td>\n",
       "    </tr>\n",
       "    <tr>\n",
       "      <th>25%</th>\n",
       "      <td>19.119000</td>\n",
       "      <td>17.665000</td>\n",
       "      <td>16.884000</td>\n",
       "      <td>16.487000</td>\n",
       "      <td>16.192000</td>\n",
       "      <td>18.858000</td>\n",
       "      <td>17.618000</td>\n",
       "      <td>16.882000</td>\n",
       "      <td>16.506000</td>\n",
       "      <td>16.241000</td>\n",
       "      <td>0.080000</td>\n",
       "    </tr>\n",
       "    <tr>\n",
       "      <th>50%</th>\n",
       "      <td>19.801000</td>\n",
       "      <td>18.177000</td>\n",
       "      <td>17.346000</td>\n",
       "      <td>16.936000</td>\n",
       "      <td>16.645000</td>\n",
       "      <td>19.461000</td>\n",
       "      <td>18.127000</td>\n",
       "      <td>17.341000</td>\n",
       "      <td>16.955000</td>\n",
       "      <td>16.688000</td>\n",
       "      <td>0.122000</td>\n",
       "    </tr>\n",
       "    <tr>\n",
       "      <th>75%</th>\n",
       "      <td>20.624000</td>\n",
       "      <td>18.697000</td>\n",
       "      <td>17.676000</td>\n",
       "      <td>17.276000</td>\n",
       "      <td>17.029000</td>\n",
       "      <td>20.231000</td>\n",
       "      <td>18.654000</td>\n",
       "      <td>17.652000</td>\n",
       "      <td>17.273000</td>\n",
       "      <td>17.050000</td>\n",
       "      <td>0.184000</td>\n",
       "    </tr>\n",
       "    <tr>\n",
       "      <th>max</th>\n",
       "      <td>28.984000</td>\n",
       "      <td>28.877000</td>\n",
       "      <td>21.966000</td>\n",
       "      <td>27.887000</td>\n",
       "      <td>27.918000</td>\n",
       "      <td>30.000000</td>\n",
       "      <td>30.000000</td>\n",
       "      <td>21.799000</td>\n",
       "      <td>30.000000</td>\n",
       "      <td>30.000000</td>\n",
       "      <td>1.916000</td>\n",
       "    </tr>\n",
       "  </tbody>\n",
       "</table>\n",
       "</div>"
      ],
      "text/plain": [
       "               u_mod          g_mod          r_mod          i_mod  \\\n",
       "count  467710.000000  467710.000000  467710.000000  467710.000000   \n",
       "mean       20.113855      18.451474      17.501365      17.069236   \n",
       "std         1.522090       1.317011       1.102293       1.053315   \n",
       "min        15.633000      15.147000      15.043000      15.002000   \n",
       "25%        19.119000      17.665000      16.884000      16.487000   \n",
       "50%        19.801000      18.177000      17.346000      16.936000   \n",
       "75%        20.624000      18.697000      17.676000      17.276000   \n",
       "max        28.984000      28.877000      21.966000      27.887000   \n",
       "\n",
       "               z_mod         u_cmod         g_cmod         r_cmod  \\\n",
       "count  467710.000000  467710.000000  467710.000000  467710.000000   \n",
       "mean       16.783894      19.704050      18.403653      17.495799   \n",
       "std         1.069859       1.332745       1.314288       1.102509   \n",
       "min        15.000000      13.585000      15.147000      15.022000   \n",
       "25%        16.192000      18.858000      17.618000      16.882000   \n",
       "50%        16.645000      19.461000      18.127000      17.341000   \n",
       "75%        17.029000      20.231000      18.654000      17.652000   \n",
       "max        27.918000      30.000000      30.000000      21.799000   \n",
       "\n",
       "              i_cmod         z_cmod       redshift  \n",
       "count  467710.000000  467710.000000  467710.000000  \n",
       "mean       17.086163      16.816536       0.158993  \n",
       "std         1.054066       1.030596       0.123475  \n",
       "min        14.406000      13.756000       0.000000  \n",
       "25%        16.506000      16.241000       0.080000  \n",
       "50%        16.955000      16.688000       0.122000  \n",
       "75%        17.273000      17.050000       0.184000  \n",
       "max        30.000000      30.000000       1.916000  "
      ]
     },
     "execution_count": 9,
     "metadata": {},
     "output_type": "execute_result"
    }
   ],
   "source": [
    "spectro_df.describe()"
   ]
  },
  {
   "cell_type": "code",
   "execution_count": 10,
   "id": "80220706",
   "metadata": {},
   "outputs": [
    {
     "data": {
      "text/html": [
       "<div>\n",
       "<style scoped>\n",
       "    .dataframe tbody tr th:only-of-type {\n",
       "        vertical-align: middle;\n",
       "    }\n",
       "\n",
       "    .dataframe tbody tr th {\n",
       "        vertical-align: top;\n",
       "    }\n",
       "\n",
       "    .dataframe thead th {\n",
       "        text-align: right;\n",
       "    }\n",
       "</style>\n",
       "<table border=\"1\" class=\"dataframe\">\n",
       "  <thead>\n",
       "    <tr style=\"text-align: right;\">\n",
       "      <th></th>\n",
       "      <th>ra</th>\n",
       "      <th>dec</th>\n",
       "      <th>u_mod</th>\n",
       "      <th>g_mod</th>\n",
       "      <th>r_mod</th>\n",
       "      <th>i_mod</th>\n",
       "      <th>z_mod</th>\n",
       "      <th>u_cmod</th>\n",
       "      <th>g_cmod</th>\n",
       "      <th>r_cmod</th>\n",
       "      <th>i_cmod</th>\n",
       "      <th>z_cmod</th>\n",
       "    </tr>\n",
       "  </thead>\n",
       "  <tbody>\n",
       "    <tr>\n",
       "      <th>count</th>\n",
       "      <td>538974.000000</td>\n",
       "      <td>538974.000000</td>\n",
       "      <td>538974.000000</td>\n",
       "      <td>538974.000000</td>\n",
       "      <td>538974.000000</td>\n",
       "      <td>538974.000000</td>\n",
       "      <td>538974.000000</td>\n",
       "      <td>538974.000000</td>\n",
       "      <td>538974.000000</td>\n",
       "      <td>538974.000000</td>\n",
       "      <td>538974.000000</td>\n",
       "      <td>538974.000000</td>\n",
       "    </tr>\n",
       "    <tr>\n",
       "      <th>mean</th>\n",
       "      <td>180.109093</td>\n",
       "      <td>-0.000428</td>\n",
       "      <td>23.019434</td>\n",
       "      <td>21.844877</td>\n",
       "      <td>20.764929</td>\n",
       "      <td>20.393730</td>\n",
       "      <td>20.166075</td>\n",
       "      <td>22.029342</td>\n",
       "      <td>21.729491</td>\n",
       "      <td>20.745736</td>\n",
       "      <td>20.405421</td>\n",
       "      <td>19.946982</td>\n",
       "    </tr>\n",
       "    <tr>\n",
       "      <th>std</th>\n",
       "      <td>6.792968</td>\n",
       "      <td>0.850757</td>\n",
       "      <td>1.424150</td>\n",
       "      <td>1.170114</td>\n",
       "      <td>0.984282</td>\n",
       "      <td>1.106627</td>\n",
       "      <td>1.218043</td>\n",
       "      <td>1.703849</td>\n",
       "      <td>1.150652</td>\n",
       "      <td>0.962770</td>\n",
       "      <td>1.092464</td>\n",
       "      <td>1.146454</td>\n",
       "    </tr>\n",
       "    <tr>\n",
       "      <th>min</th>\n",
       "      <td>168.000000</td>\n",
       "      <td>-1.499000</td>\n",
       "      <td>15.021000</td>\n",
       "      <td>15.027000</td>\n",
       "      <td>15.000000</td>\n",
       "      <td>15.012000</td>\n",
       "      <td>15.001000</td>\n",
       "      <td>14.311000</td>\n",
       "      <td>14.928000</td>\n",
       "      <td>15.000000</td>\n",
       "      <td>13.307000</td>\n",
       "      <td>13.648000</td>\n",
       "    </tr>\n",
       "    <tr>\n",
       "      <th>25%</th>\n",
       "      <td>174.333000</td>\n",
       "      <td>-0.728000</td>\n",
       "      <td>22.134000</td>\n",
       "      <td>21.302250</td>\n",
       "      <td>20.328000</td>\n",
       "      <td>19.864000</td>\n",
       "      <td>19.521000</td>\n",
       "      <td>20.875000</td>\n",
       "      <td>21.169000</td>\n",
       "      <td>20.317000</td>\n",
       "      <td>19.869000</td>\n",
       "      <td>19.306000</td>\n",
       "    </tr>\n",
       "    <tr>\n",
       "      <th>50%</th>\n",
       "      <td>180.229000</td>\n",
       "      <td>-0.005000</td>\n",
       "      <td>22.878000</td>\n",
       "      <td>21.999000</td>\n",
       "      <td>21.031000</td>\n",
       "      <td>20.566000</td>\n",
       "      <td>20.228000</td>\n",
       "      <td>21.858000</td>\n",
       "      <td>21.876000</td>\n",
       "      <td>21.022000</td>\n",
       "      <td>20.570000</td>\n",
       "      <td>20.003000</td>\n",
       "    </tr>\n",
       "    <tr>\n",
       "      <th>75%</th>\n",
       "      <td>185.785000</td>\n",
       "      <td>0.733000</td>\n",
       "      <td>23.879000</td>\n",
       "      <td>22.515000</td>\n",
       "      <td>21.473000</td>\n",
       "      <td>21.079000</td>\n",
       "      <td>20.864000</td>\n",
       "      <td>22.980000</td>\n",
       "      <td>22.422000</td>\n",
       "      <td>21.463000</td>\n",
       "      <td>21.094000</td>\n",
       "      <td>20.620000</td>\n",
       "    </tr>\n",
       "    <tr>\n",
       "      <th>max</th>\n",
       "      <td>191.999000</td>\n",
       "      <td>1.499000</td>\n",
       "      <td>28.999000</td>\n",
       "      <td>28.993000</td>\n",
       "      <td>28.807000</td>\n",
       "      <td>28.995000</td>\n",
       "      <td>28.997000</td>\n",
       "      <td>32.422000</td>\n",
       "      <td>31.265000</td>\n",
       "      <td>21.799000</td>\n",
       "      <td>32.848000</td>\n",
       "      <td>29.370000</td>\n",
       "    </tr>\n",
       "  </tbody>\n",
       "</table>\n",
       "</div>"
      ],
      "text/plain": [
       "                  ra            dec          u_mod          g_mod  \\\n",
       "count  538974.000000  538974.000000  538974.000000  538974.000000   \n",
       "mean      180.109093      -0.000428      23.019434      21.844877   \n",
       "std         6.792968       0.850757       1.424150       1.170114   \n",
       "min       168.000000      -1.499000      15.021000      15.027000   \n",
       "25%       174.333000      -0.728000      22.134000      21.302250   \n",
       "50%       180.229000      -0.005000      22.878000      21.999000   \n",
       "75%       185.785000       0.733000      23.879000      22.515000   \n",
       "max       191.999000       1.499000      28.999000      28.993000   \n",
       "\n",
       "               r_mod          i_mod          z_mod         u_cmod  \\\n",
       "count  538974.000000  538974.000000  538974.000000  538974.000000   \n",
       "mean       20.764929      20.393730      20.166075      22.029342   \n",
       "std         0.984282       1.106627       1.218043       1.703849   \n",
       "min        15.000000      15.012000      15.001000      14.311000   \n",
       "25%        20.328000      19.864000      19.521000      20.875000   \n",
       "50%        21.031000      20.566000      20.228000      21.858000   \n",
       "75%        21.473000      21.079000      20.864000      22.980000   \n",
       "max        28.807000      28.995000      28.997000      32.422000   \n",
       "\n",
       "              g_cmod         r_cmod         i_cmod         z_cmod  \n",
       "count  538974.000000  538974.000000  538974.000000  538974.000000  \n",
       "mean       21.729491      20.745736      20.405421      19.946982  \n",
       "std         1.150652       0.962770       1.092464       1.146454  \n",
       "min        14.928000      15.000000      13.307000      13.648000  \n",
       "25%        21.169000      20.317000      19.869000      19.306000  \n",
       "50%        21.876000      21.022000      20.570000      20.003000  \n",
       "75%        22.422000      21.463000      21.094000      20.620000  \n",
       "max        31.265000      21.799000      32.848000      29.370000  "
      ]
     },
     "execution_count": 10,
     "metadata": {},
     "output_type": "execute_result"
    }
   ],
   "source": [
    "photo_data.describe()"
   ]
  },
  {
   "cell_type": "markdown",
   "id": "e2e4ada9",
   "metadata": {},
   "source": [
    "## Bias Sample base on x_r"
   ]
  },
  {
   "cell_type": "code",
   "execution_count": 11,
   "id": "1cda858b",
   "metadata": {},
   "outputs": [
    {
     "data": {
      "text/plain": [
       "u_mod       15.633\n",
       "g_mod       15.147\n",
       "r_mod       15.043\n",
       "i_mod       15.002\n",
       "z_mod       15.000\n",
       "u_cmod      13.585\n",
       "g_cmod      15.147\n",
       "r_cmod      15.022\n",
       "i_cmod      14.406\n",
       "z_cmod      13.756\n",
       "redshift     0.000\n",
       "dtype: float64"
      ]
     },
     "execution_count": 11,
     "metadata": {},
     "output_type": "execute_result"
    }
   ],
   "source": [
    "spectro_df.min(axis=0)"
   ]
  },
  {
   "cell_type": "code",
   "execution_count": 12,
   "id": "cfe1784c",
   "metadata": {},
   "outputs": [
    {
     "data": {
      "text/plain": [
       "ra        168.000\n",
       "dec        -1.499\n",
       "u_mod      15.021\n",
       "g_mod      15.027\n",
       "r_mod      15.000\n",
       "i_mod      15.012\n",
       "z_mod      15.001\n",
       "u_cmod     14.311\n",
       "g_cmod     14.928\n",
       "r_cmod     15.000\n",
       "i_cmod     13.307\n",
       "z_cmod     13.648\n",
       "dtype: float64"
      ]
     },
     "execution_count": 12,
     "metadata": {},
     "output_type": "execute_result"
    }
   ],
   "source": [
    "photo_data.min()"
   ]
  },
  {
   "cell_type": "code",
   "execution_count": 13,
   "id": "589eb7f3",
   "metadata": {},
   "outputs": [],
   "source": [
    "from scipy.stats import beta\n",
    "\n",
    "def scheme_sample(spectro_xr,a,b,return_index=False):\n",
    "    \"\"\"\"sumary_line\n",
    "    This function helps to sample according Beta distribution Beta(a,b)\n",
    "    Keyword arguments:\n",
    "    argument :\n",
    "             -- spectro_xr: spectro data of band x_r\n",
    "             -- a,b : parameter of beta distribution\n",
    "    Return: sample_spectro\n",
    "    \"\"\"\n",
    "    x_r = (spectro_xr-spectro_xr.min())/(spectro_xr.max() - spectro_xr.min()) ## scale to 0-1\n",
    "    mode = (a-1)/(a+b-2)\n",
    "    f_mode = beta.pdf(mode,a,b)\n",
    "    f_x = beta.pdf(x_r,a,b)\n",
    "    u = np.random.uniform(low=0,high=1,size=len(x_r))\n",
    "    mask = f_x/f_mode > u\n",
    "    if return_index:\n",
    "        return spectro_xr[mask],np.arange(0,len(x_r))[mask]\n",
    "\n",
    "    return spectro_xr[mask]\n",
    "\n",
    "\n",
    "## Scheme 1: Beta(13,4)\n",
    "spec_sample,index = scheme_sample(spectro_df.r_mod.values,18,4,return_index=True)"
   ]
  },
  {
   "cell_type": "code",
   "execution_count": 14,
   "id": "ccb5901c",
   "metadata": {},
   "outputs": [],
   "source": [
    "min_spec = spec_sample.min()\n",
    "max_spec = spec_sample.max()\n",
    "mask = (spectro_df.r_mod.values > min_spec) & (spectro_df.r_mod.values < max_spec)\n",
    "truncate_spec = spectro_df.r_mod.values[mask]"
   ]
  },
  {
   "cell_type": "code",
   "execution_count": 15,
   "id": "d0f49744",
   "metadata": {},
   "outputs": [
    {
     "data": {
      "text/plain": [
       "<AxesSubplot:ylabel='Density'>"
      ]
     },
     "execution_count": 15,
     "metadata": {},
     "output_type": "execute_result"
    },
    {
     "data": {
      "image/png": "[encoded data removed]",
      "text/plain": [
       "<Figure size 144x288 with 1 Axes>"
      ]
     },
     "metadata": {
      "needs_background": "light"
     },
     "output_type": "display_data"
    }
   ],
   "source": [
    "import seaborn as sns\n",
    "fig,ax = plt.subplots(figsize=(2,4))\n",
    "# sns.displot(spec_sample,kind=\"kde\",axes=ax)\n",
    "photo_total = np.concatenate((spec_sample,photo_data.r_mod.values))\n",
    "sns.kdeplot(spec_sample, ax=ax)\n",
    "sns.kdeplot(spectro_df.r_mod.values, ax=ax)"
   ]
  },
  {
   "cell_type": "markdown",
   "id": "c212787c",
   "metadata": {},
   "source": [
    "## Try idea that near region unlabeled data, the variance of model will be smaller"
   ]
  },
  {
   "cell_type": "code",
   "execution_count": 2,
   "id": "a2806def",
   "metadata": {},
   "outputs": [],
   "source": [
    "\n",
    "# ## set parameters for generative model\n",
    "# ### unlabeled x ~ N(-1,1)\n",
    "# ### labeled x ~ N(0.5,1)\n",
    "# m1,m2 = 0.5,-1\n",
    "# sig1=sig2 = 1\n",
    "# n_l = n_u = 1000\n",
    "# a,c =1,2\n",
    "\n",
    "# x_l = np.random.normal(m1,sig,size=n_l)\n",
    "# x_u = np.random.normal(m2,sig,size=n_u)\n",
    "# y = np.random.normal(0,sig,size=n_l) + a*x_l + c\n",
    "\n",
    "# with open('x_l.npy', 'wb') as f:\n",
    "#     np.save(f,x_l)\n",
    "# with open('x_u.npy', 'wb') as f:\n",
    "#     np.save(f,x_u)\n",
    "# with open('y.npy', 'wb') as f:\n",
    "#     np.save(f,y)"
   ]
  },
  {
   "cell_type": "code",
   "execution_count": 4,
   "id": "4bddad76",
   "metadata": {},
   "outputs": [],
   "source": [
    "with open('x_l.npy', 'rb') as f:\n",
    "    x_l = np.load(f)\n",
    "with open('x_u.npy', 'rb') as f:\n",
    "    x_u = np.load(f)\n",
    "with open('y.npy', 'rb') as f:\n",
    "    y = np.load(f)"
   ]
  },
  {
   "cell_type": "code",
   "execution_count": 4,
   "id": "e38a1c76",
   "metadata": {},
   "outputs": [
    {
     "data": {
      "text/plain": [
       "Text(0, 0.5, 'y')"
      ]
     },
     "execution_count": 4,
     "metadata": {},
     "output_type": "execute_result"
    },
    {
     "data": {
      "image/png": "[encoded data removed]",
      "text/plain": [
       "<Figure size 432x288 with 1 Axes>"
      ]
     },
     "metadata": {
      "needs_background": "light"
     },
     "output_type": "display_data"
    }
   ],
   "source": [
    "plt.plot(x_l,y,'bo')\n",
    "plt.xlabel('x_l')\n",
    "plt.ylabel('y')"
   ]
  },
  {
   "cell_type": "markdown",
   "id": "5ab7f03a",
   "metadata": {},
   "source": [
    "\n",
    "## set up model\n",
    "## prior for m1,m2 ~"
   ]
  },
  {
   "cell_type": "code",
   "execution_count": null,
   "id": "23f9a5fa",
   "metadata": {},
   "outputs": [],
   "source": []
  },
  {
   "cell_type": "code",
   "execution_count": null,
   "id": "cd130cb7",
   "metadata": {},
   "outputs": [],
   "source": [
    "from models.gibbs_sampling import ConditionalDistribution,GibbsSampling\n",
    "from models.metropolis_hasting import MHSampling\n",
    "from scipy.stats import invgamma\n",
    "\n",
    "### theta is parameter of condiotnal model (prediction model) (a,c and sig)\n",
    "## phi1 and phi2 are paramter of geneartive model of covariate x  label and unlabel (m1,m2,sig1,sig2)\n",
    "\n",
    "def log_likelihood(y,x,theta,phi2,return_params=False):\n",
    "     \n",
    "    \"\"\"Calculate likelihood of labeled data.\n",
    "    Use parameter of unlabel distribution to calculate\n",
    "    with assumption data in region of high prob of unlabel data, the variance will be small ^_^\n",
    "    \n",
    "    Keyword arguments:\n",
    "    argument -- y: label\n",
    "                x : labeled data\n",
    "                theta: parameter of predictive model [a,c]\n",
    "                phi2: parameter of unlabel covariate generative mdoel [m2,sig2]\n",
    "        \n",
    "    Return: likelihood of labeled covariate with our assumption\n",
    "    \"\"\"\n",
    "    \n",
    "    _mean = x* theta[0] + theta[1]\n",
    "    dist = (x-phi2[0])**2\n",
    "    _var = np.max(dist)/dist\n",
    "    llh = - (y-_mean)**2/(2*_var) - 1/2 *np.log(2*np.pi * _var)\n",
    "\n",
    "    if return_params:\n",
    "        return np.sum(llh),_mean,_var\n",
    "    return np.sum(llh)\n",
    "\n",
    "def log_prob_normal(x,params):\n",
    "    \"\"\"calculate log prob of normal distribution\n",
    "    \n",
    "    Keyword arguments:\n",
    "    argument -- params: mu and sigma\n",
    "    Return: log prob\n",
    "    \"\"\"\n",
    "\n",
    "    result = np.sum(-(x-params[0])**2/(2*params[1]) - 1/2 * np.log(2*np.pi*params[1]))\n",
    "    # print(f'log_prob_normal shape {result.shape}')\n",
    "    return result \n",
    "\n",
    "\n",
    "def log_prob_phi(x):\n",
    "    \"\"\"calculate log prob of phi distribution Normal-Inverse-Gamma dist\n",
    "    \n",
    "    Keyword arguments:\n",
    "    argument -- params: mu and sigma\n",
    "    Return: log prob\n",
    "    \"\"\"\n",
    "\n",
    "    score = log_prob_normal(x[0],np.array([0,100])) ## params[0] is mean and var of Normal\n",
    "    score += invgamma.logpdf(x[1], 1/2, loc=0, scale=1/2)\n",
    "    # print(f\"log_prob_phi shape {score.shape}\")\n",
    "    return score\n",
    "\n",
    "\n",
    "import scipy.stats as stats\n",
    "class MetropolisHasting(MHSampling):\n",
    "    \n",
    "    def __init__(self,target,scale=10.0):\n",
    "        super().__init__(scale)\n",
    "\n",
    "        \"\"\"\n",
    "        target: target log pdf function. with parameter x, return pdf of x value.\n",
    "                  It has func logpdf(val) to return pdf of value and rvs to random value \n",
    "        n_sample : num_sample\n",
    "        \"\"\"\n",
    "\n",
    "        self.target = target\n",
    "\n",
    "    def set_target(self,target):\n",
    "        self.target = target\n",
    "\n",
    "    def score(self,x,y):\n",
    "        s_ = self.target(x) - np.sum(stats.norm.logpdf(x,loc=y-5,scale=10.))\n",
    "        print(f\"Theta : {s_}\")\n",
    "        return s_\n",
    "\n",
    "    def jump(self,loc):\n",
    "        # return stats.uniform(loc=loc/(1 + self.step_size),scale= loc *(1 +self.step_size)-loc/(1 + self.step_size) ).rvs()\n",
    "        # return np.random.uniform(low=loc/(1 + self.step_size),high=loc *(1 +self.step_size))\n",
    "        return np.random.uniform(low=loc - 5.,high=loc+5.)\n",
    "\n",
    "class PhiMetropolisHasting(MHSampling):\n",
    "    \n",
    "    def __init__(self,target,scale=10.0):\n",
    "        super().__init__(scale)\n",
    "\n",
    "        \"\"\"\n",
    "        target: target log pdf function. with parameter x, return pdf of x value.\n",
    "                  It has func logpdf(val) to return pdf of value and rvs to random value \n",
    "        n_sample : num_sample\n",
    "        \"\"\"\n",
    "\n",
    "        self.target = target\n",
    "\n",
    "    def set_target(self,target):\n",
    "        self.target = target\n",
    "\n",
    "    def score(self,x,y):\n",
    "        s_ = self.target(x) \\\n",
    "                -   stats.uniform.logpdf(x[1],loc=y[1]/(1 + self.step_size),scale =y[1] *(1 +self.step_size)-y[1]/(1 + self.step_size))\\\n",
    "                 - stats.norm.logpdf(x[0],loc=y[0] -5.,scale=10.)\n",
    "    \n",
    "        print(f\"Phi {s_}\")\n",
    "        return s_\n",
    "    def jump(self,loc):\n",
    "        # return stats.uniform(loc=loc/(1 + self.step_size),scale= loc *(1 +self.step_size)-loc/(1 + self.step_size) ).rvs()\n",
    "        mean = loc[0]\n",
    "        var = loc[1]\n",
    "        ran_mean = np.random.uniform(low=mean - 5.,high=mean + 5.)\n",
    "        ran_var = np.random.uniform(low=var/(1 + self.step_size),high=var *(1 +self.step_size))\n",
    "\n",
    "        return np.array([ran_mean,ran_var])\n",
    "        # return np.random.uniform(low=loc/(1 + self.step_size),high=loc *(1 +self.step_size))\n",
    "        # return np.random.normal(loc=loc,scale=1)\n",
    "\n",
    "class ConditionalDistributionTheta(ConditionalDistribution):\n",
    "    def __init__(self,y,x_l,scale=1.0,n_samples=100):\n",
    "        self.y = y\n",
    "        self.x_l = x_l\n",
    "        self.scale = scale\n",
    "        self.n_samples = n_samples\n",
    "        self.generator = MetropolisHasting(None,scale=self.scale)\n",
    "        \n",
    "        pass\n",
    "    def prob_func(self,phi2):\n",
    "        return  lambda x: log_prob_normal(x,np.array([0,100]))\\\n",
    "                          +  log_likelihood(self.y,self.x_l,x,phi2)\n",
    "\n",
    "    def set_params(self,**kwargs):\n",
    "        ## update sampling params in gibbs (theta,phi1,phi2)\n",
    "        self.__dict__.update(kwargs)\n",
    "        self.generator.set_target(self.prob_func(phi2=self.phi2))\n",
    "\n",
    "        pass \n",
    "    def sample(self):\n",
    "        sample_ =  self.generator(self.theta,n_samples=self.n_samples,progress_bar=False)[-1]\n",
    "        # print(f\"sample from theta {sample_}\")\n",
    "\n",
    "        return sample_\n",
    "\n",
    "class ConditionalDistributionPhi1(ConditionalDistribution):\n",
    "    def __init__(self,x_l,scale=1.0,n_samples=100):\n",
    "        self.x_l = x_l\n",
    "        self.scale = scale\n",
    "        self.n_samples = n_samples\n",
    "        self.generator = PhiMetropolisHasting(None,scale=self.scale)\n",
    "        self.generator.set_target(self.prob_func())\n",
    "\n",
    "    def prob_func(self):\n",
    "        return lambda x: log_prob_normal(self.x_l,x)\\\n",
    "                         + log_prob_phi(x)\n",
    "                        \n",
    "    def set_params(self,**kwargs):\n",
    "        self.__dict__.update(kwargs)\n",
    "        pass \n",
    "    def sample(self):\n",
    "        sample_ = self.generator(self.phi1,n_samples=self.n_samples,progress_bar=False)[-1]\n",
    "        # print(f\"sample from phi1 {sample_}\")\n",
    "        return sample_\n",
    "        \n",
    "\n",
    "class ConditionalDistributionPhi2(ConditionalDistribution):\n",
    "    def __init__(self,y,x_l,x_u,scale=1.0,n_samples=100):\n",
    "        self.y = y\n",
    "        self.x_l = x_l\n",
    "        self.x_u=x_u\n",
    "        self.scale = scale\n",
    "        self.n_samples = n_samples\n",
    "        self.generator = PhiMetropolisHasting(None,scale=self.scale)\n",
    "        pass\n",
    "\n",
    "    def prob_func(self,theta):\n",
    "        return lambda x: log_prob_normal(self.x_u,x)\\\n",
    "                         + log_likelihood(self.y,self.x_l,theta,x)\\\n",
    "                          + log_prob_phi(x)\n",
    "                        \n",
    "    def set_params(self,**kwargs):\n",
    "        ## update sampling params in gibbs (theta,phi1,phi2)\n",
    "        self.__dict__.update(kwargs)\n",
    "        self.generator.set_target(self.prob_func(theta=self.theta))\n",
    "        pass \n",
    "    def sample(self):\n",
    "        sample_ = self.generator(self.phi2,n_samples=self.n_samples,progress_bar=False)[-1]\n",
    "        # print(f\"sample from phi2 {sample_}\")\n",
    "\n",
    "        return sample_\n",
    "    \n",
    "\n",
    "class TestGibbsSampling(GibbsSampling):\n",
    "\n",
    "    def __init__(self,y,x_l,x_u,scale=1.,n_samples=1):\n",
    "        self.y = y\n",
    "        self.x_l = x_l \n",
    "        self.x_u = x_u\n",
    "        self.scale = scale\n",
    "        self.n_samples = n_samples\n",
    "        # self.flux = read_flux(path_obs)\n",
    "        \n",
    "        # self.n_samples=n_samples\n",
    "        self.set_conditional()\n",
    "        pass\n",
    "\n",
    "    def set_conditional(self):\n",
    "        self.conditional = {'theta':ConditionalDistributionTheta( self.y,self.x_l,scale=self.scale,n_samples=self.n_samples),\n",
    "                            'phi1':ConditionalDistributionPhi1(self.x_l,scale=self.scale,n_samples=self.n_samples),\n",
    "                            'phi2':ConditionalDistributionPhi2(self.y,self.x_l,self.x_u,scale=self.scale,n_samples=self.n_samples)\n",
    "                            }\n",
    "\n",
    "init_values = {'theta':[np.random.normal(loc=0,scale=10,size=2)],\n",
    "                'phi1':[np.array([np.random.normal(loc=0,scale=10),invgamma.rvs(1/2, loc=0, scale=1/2)])],\n",
    "                'phi2': [np.array([np.random.normal(loc=0,scale=10),invgamma.rvs(1/2, loc=0, scale=1/2)])]}\n",
    "\n",
    "n_samples=10000\n",
    "photometric = TestGibbsSampling(y,x_l,x_u,scale=0.5,n_samples=1)\n",
    "samples = photometric(init_values,n_samples=n_samples,progress_bar=True)"
   ]
  },
  {
   "cell_type": "code",
   "execution_count": 41,
   "id": "c49cd062",
   "metadata": {},
   "outputs": [
    {
     "data": {
      "text/plain": [
       "array([-1.40728008, 11.51377349])"
      ]
     },
     "execution_count": 41,
     "metadata": {},
     "output_type": "execute_result"
    }
   ],
   "source": [
    "np.random.normal([1.,5.], 4.)"
   ]
  },
  {
   "cell_type": "code",
   "execution_count": 36,
   "id": "348aae5e",
   "metadata": {},
   "outputs": [
    {
     "data": {
      "text/plain": [
       "(array([    0.,     0.,     0.,     0.,     0., 10000.,     0.,     0.,\n",
       "            0.,     0.]),\n",
       " array([-7.96544909, -7.86544909, -7.76544909, -7.66544909, -7.56544909,\n",
       "        -7.46544909, -7.36544909, -7.26544909, -7.16544909, -7.06544909,\n",
       "        -6.96544909]),\n",
       " <BarContainer object of 10 artists>)"
      ]
     },
     "execution_count": 36,
     "metadata": {},
     "output_type": "execute_result"
    },
    {
     "data": {
      "image/png": "[encoded data removed]",
      "text/plain": [
       "<Figure size 432x288 with 1 Axes>"
      ]
     },
     "metadata": {
      "needs_background": "light"
     },
     "output_type": "display_data"
    }
   ],
   "source": [
    "plt.hist([i[0] for i in samples['theta']])"
   ]
  },
  {
   "cell_type": "code",
   "execution_count": 37,
   "id": "f80fe4fa",
   "metadata": {},
   "outputs": [
    {
     "data": {
      "text/plain": [
       "(array([    0.,     0.,     0.,     0.,     0., 10000.,     0.,     0.,\n",
       "            0.,     0.]),\n",
       " array([-11.80781643, -11.70781643, -11.60781643, -11.50781643,\n",
       "        -11.40781643, -11.30781643, -11.20781643, -11.10781643,\n",
       "        -11.00781643, -10.90781643, -10.80781643]),\n",
       " <BarContainer object of 10 artists>)"
      ]
     },
     "execution_count": 37,
     "metadata": {},
     "output_type": "execute_result"
    },
    {
     "data": {
      "image/png": "[encoded data removed]",
      "text/plain": [
       "<Figure size 432x288 with 1 Axes>"
      ]
     },
     "metadata": {
      "needs_background": "light"
     },
     "output_type": "display_data"
    }
   ],
   "source": [
    "plt.hist([i[1] for i in samples['theta']])"
   ]
  },
  {
   "cell_type": "code",
   "execution_count": 29,
   "id": "13890c4b",
   "metadata": {},
   "outputs": [
    {
     "data": {
      "text/plain": [
       "(array([    0.,     0.,     0.,     0.,     0., 10000.,     0.,     0.,\n",
       "            0.,     0.]),\n",
       " array([-8.98274816, -8.88274816, -8.78274816, -8.68274816, -8.58274816,\n",
       "        -8.48274816, -8.38274816, -8.28274816, -8.18274816, -8.08274816,\n",
       "        -7.98274816]),\n",
       " <BarContainer object of 10 artists>)"
      ]
     },
     "execution_count": 29,
     "metadata": {},
     "output_type": "execute_result"
    },
    {
     "data": {
      "image/png": "[encoded data removed]",
      "text/plain": [
       "<Figure size 432x288 with 1 Axes>"
      ]
     },
     "metadata": {
      "needs_background": "light"
     },
     "output_type": "display_data"
    }
   ],
   "source": [
    "plt.hist([i[0] for i in samples['phi1']])"
   ]
  },
  {
   "cell_type": "code",
   "execution_count": 30,
   "id": "c4a3a549",
   "metadata": {},
   "outputs": [
    {
     "data": {
      "text/plain": [
       "(array([    0.,     0.,     0.,     0.,     0., 10000.,     0.,     0.,\n",
       "            0.,     0.]),\n",
       " array([103.20255865, 103.30255865, 103.40255865, 103.50255865,\n",
       "        103.60255865, 103.70255865, 103.80255865, 103.90255865,\n",
       "        104.00255865, 104.10255865, 104.20255865]),\n",
       " <BarContainer object of 10 artists>)"
      ]
     },
     "execution_count": 30,
     "metadata": {},
     "output_type": "execute_result"
    },
    {
     "data": {
      "image/png": "[encoded data removed]",
      "text/plain": [
       "<Figure size 432x288 with 1 Axes>"
      ]
     },
     "metadata": {
      "needs_background": "light"
     },
     "output_type": "display_data"
    }
   ],
   "source": [
    "plt.hist([i[1] for i in samples['phi1']])"
   ]
  },
  {
   "cell_type": "code",
   "execution_count": 31,
   "id": "650724fd",
   "metadata": {},
   "outputs": [
    {
     "data": {
      "text/plain": [
       "(array([    0.,     0.,     0.,     0.,     0., 10000.,     0.,     0.,\n",
       "            0.,     0.]),\n",
       " array([-15.36132877, -15.26132877, -15.16132877, -15.06132877,\n",
       "        -14.96132877, -14.86132877, -14.76132877, -14.66132877,\n",
       "        -14.56132877, -14.46132877, -14.36132877]),\n",
       " <BarContainer object of 10 artists>)"
      ]
     },
     "execution_count": 31,
     "metadata": {},
     "output_type": "execute_result"
    },
    {
     "data": {
      "image/png": "[encoded data removed]",
      "text/plain": [
       "<Figure size 432x288 with 1 Axes>"
      ]
     },
     "metadata": {
      "needs_background": "light"
     },
     "output_type": "display_data"
    }
   ],
   "source": [
    "plt.hist([i[0] for i in samples['phi2']])"
   ]
  },
  {
   "cell_type": "code",
   "execution_count": 32,
   "id": "58afc3a8",
   "metadata": {},
   "outputs": [
    {
     "data": {
      "text/plain": [
       "(array([    0.,     0.,     0.,     0.,     0., 10000.,     0.,     0.,\n",
       "            0.,     0.]),\n",
       " array([-0.35584492, -0.25584492, -0.15584492, -0.05584492,  0.04415508,\n",
       "         0.14415508,  0.24415508,  0.34415508,  0.44415508,  0.54415508,\n",
       "         0.64415508]),\n",
       " <BarContainer object of 10 artists>)"
      ]
     },
     "execution_count": 32,
     "metadata": {},
     "output_type": "execute_result"
    },
    {
     "data": {
      "image/png": "[encoded data removed]",
      "text/plain": [
       "<Figure size 432x288 with 1 Axes>"
      ]
     },
     "metadata": {
      "needs_background": "light"
     },
     "output_type": "display_data"
    }
   ],
   "source": [
    "plt.hist([i[1] for i in samples['phi2']])"
   ]
  },
  {
   "cell_type": "markdown",
   "id": "5a6fc3be",
   "metadata": {},
   "source": [
    "## Try with MCMC inference\n"
   ]
  },
  {
   "cell_type": "code",
   "execution_count": 1,
   "id": "b722e796",
   "metadata": {},
   "outputs": [],
   "source": [
    "import logging\n",
    "import os\n",
    "\n",
    "import torch\n",
    "import matplotlib.pyplot as plt\n",
    "import numpy as np\n",
    "import pandas as pd\n",
    "import seaborn as sns\n",
    "from torch.distributions import constraints\n",
    "\n",
    "import pyro\n",
    "import pyro.distributions as dist\n",
    "import pyro.optim as optim\n",
    "from sklearn.neighbors import KNeighborsClassifier,NearestNeighbors,DistanceMetric\n",
    "import numpy as np\n",
    "\n",
    "from pyro.infer import MCMC, NUTS,HMC\n",
    "pyro.set_rng_seed(1)\n",
    "assert pyro.__version__.startswith('1.7.0')"
   ]
  },
  {
   "cell_type": "markdown",
   "id": "cd07bb81",
   "metadata": {},
   "source": [
    "## Clean code"
   ]
  },
  {
   "cell_type": "code",
   "execution_count": 3,
   "id": "84a120aa",
   "metadata": {},
   "outputs": [],
   "source": [
    "\n",
    "\n",
    "class ToyExmaple:\n",
    "    M = 5\n",
    "    neigh = NearestNeighbors(metric='euclidean',n_neighbors=M)\n",
    "    \n",
    "        \n",
    "    \n",
    "    def model(self,x_l, x_u, y,n_l,n_u,p,gamma,**kwargs):\n",
    "        prior = kwargs.get('prior',None)\n",
    "        assert prior is not None,'Need to set prior'\n",
    "        \n",
    "        a = pyro.sample(\"a\", dist.Normal(*prior['a']))\n",
    "        b = pyro.sample(\"b\", dist.Normal(*prior['b']))\n",
    "   \n",
    "        m1 = pyro.sample(\"m1\", dist.Normal(*prior['m1']))\n",
    "        m2 = pyro.sample(\"m2\", dist.Normal(*prior['m2']))\n",
    "        sigma1 = pyro.sample(\"sigma1\", dist.InverseGamma(*prior['sigma1']))\n",
    "        sigma2 = pyro.sample(\"sigma2\", dist.InverseGamma(*prior['sigma2']))\n",
    "        with pyro.plate(\"x_L\", n_l):\n",
    "            x_label = pyro.sample(\"obs_x\", dist.Normal(m1, sigma1), obs=x_l)\n",
    "        with pyro.plate(\"x_U\", n_u):\n",
    "            x_unlabel = pyro.sample(\"unobs_x\", dist.Normal(m2, sigma2), obs=x_u)\n",
    "        \n",
    "        covariate = self.covariate_export(x_label,p,gamma).float()\n",
    "        params = torch.stack([a,b]).float()\n",
    "        mean =  torch.matmul(covariate,params)\n",
    "        \n",
    "#         self.neigh.fit(x_unlabel.cpu().detach().numpy().reshape(-1,1))\n",
    "#         distance ,idx = self.neigh.kneighbors(x_label.cpu().detach().numpy().reshape(-1,1)) ## shape n_x,M\n",
    "#         self.neigh.fit(x_label.cpu().detach().numpy().reshape(-1,1))\n",
    "#         self_distance,_ = self.neigh.kneighbors() ## shape n_x,M\n",
    "        \n",
    "#         sigma = np.sum(distance,axis=1)/np.sum(self_distance,axis=1)\n",
    "#         sigma = torch.from_numpy(sigma)\n",
    "        sigma = (x_label - x_unlabel.mean())**2\n",
    "        \n",
    "        with pyro.plate(\"y\", n_l):\n",
    "            y_observer = pyro.sample(\"obs_y\", dist.Normal(mean, np.sqrt(sigma)), obs=y)  \n",
    "        \n",
    "        return {'x_l':x_label.detach().numpy(),'x_u':x_unlabel.detach().numpy(),'y':y_observer.detach().numpy()}\n",
    "    \n",
    "    def model_2(self,x_l, x_u, y,n_l,n_u,p,gamma,**kwargs):\n",
    "        prior = kwargs.get('prior',None)\n",
    "        assert prior is not None,'Need to set prior'\n",
    "\n",
    "        a = pyro.sample(\"a\", dist.Normal(*prior['a']))\n",
    "        b = pyro.sample(\"b\", dist.Normal(*prior['b']))\n",
    "\n",
    "        m1 = pyro.sample(\"m1\", dist.Normal(*prior['m1']))\n",
    "        m2 = pyro.sample(\"m2\", dist.Normal(*prior['m2']))\n",
    "        sigma1 = pyro.sample(\"sigma1\", dist.InverseGamma(*prior['sigma1']))\n",
    "        sigma2 = pyro.sample(\"sigma2\", dist.InverseGamma(*prior['sigma2']))\n",
    "        with pyro.plate(\"x_L\", n_l):\n",
    "            x_label = pyro.sample(\"obs_x\", dist.Normal(m1, sigma1), obs=x_l)\n",
    "        with pyro.plate(\"x_U\", n_u):\n",
    "            x_unlabel = pyro.sample(\"unobs_x\", dist.Normal(m2, sigma2), obs=x_u)\n",
    "\n",
    "        covariate = self.covariate_export(x_label,p,gamma).float()\n",
    "        params = torch.stack([a,b]).float()\n",
    "        mean =  torch.matmul(covariate,params)\n",
    "\n",
    "        with pyro.plate(\"y\", n_l):\n",
    "            y_observer = pyro.sample(\"obs_y\", dist.Normal(mean, 1.), obs=y)  \n",
    "\n",
    "        return {'x_l':x_label.detach().numpy(),'x_u':x_unlabel.detach().numpy(),'y':y_observer.detach().numpy()}\n",
    "    \n",
    "    def  covariate_export(self,x,p,gamma):\n",
    "        \"\"\"\n",
    "        p: a list of param\n",
    "        gamma : alsit of param\n",
    "        \"\"\"\n",
    "        assert len(p) == len(gamma),'p and gamma need have the same length'\n",
    "        def radial_basic_function(x,p,gamma):\n",
    "            \"\"\"\n",
    "            This function for scalar inputs\n",
    "            \"\"\"\n",
    "            return torch.exp(-(x-p)**2/gamma**2)\n",
    "        \n",
    "        return torch.cat([radial_basic_function(x.view(-1,1),p_,gam_) for p_,gam_ in zip(p,gamma)],axis=1)\n",
    "    \n",
    "    def wrong_export(self,x,p,gamma):\n",
    "        return torch.cat([torch.ones_like(x).view(-1,1),x.view(-1,1)],axis=1)\n",
    "    \n",
    "    def model_wrong(self,x_l, x_u, y,n_l,n_u,p,gamma,**kwargs):\n",
    "        prior = kwargs.get('prior',None)\n",
    "        assert prior is not None,'Need to set prior'\n",
    "        \n",
    "        a = pyro.sample(\"a\", dist.Normal(*prior['a']))\n",
    "        b = pyro.sample(\"b\", dist.Normal(*prior['b']))\n",
    "   \n",
    "        m1 = pyro.sample(\"m1\", dist.Normal(*prior['m1']))\n",
    "        m2 = pyro.sample(\"m2\", dist.Normal(*prior['m2']))\n",
    "        sigma1 = pyro.sample(\"sigma1\", dist.InverseGamma(*prior['sigma1']))\n",
    "        sigma2 = pyro.sample(\"sigma2\", dist.InverseGamma(*prior['sigma2']))\n",
    "        with pyro.plate(\"x_L\", n_l):\n",
    "            x_label = pyro.sample(\"obs_x\", dist.Normal(m1, sigma1), obs=x_l)\n",
    "        with pyro.plate(\"x_U\", n_u):\n",
    "            x_unlabel = pyro.sample(\"unobs_x\", dist.Normal(m2, sigma2), obs=x_u)\n",
    "        \n",
    "        covariate = self.wrong_export(x_label,p,gamma).float()\n",
    "        params = torch.stack([a,b]).float()\n",
    "        mean =  torch.matmul(covariate,params)\n",
    "        \n",
    "#         self.neigh.fit(x_unlabel.cpu().detach().numpy().reshape(-1,1))\n",
    "#         distance ,idx = self.neigh.kneighbors(x_label.cpu().detach().numpy().reshape(-1,1)) ## shape n_x,M\n",
    "#         self.neigh.fit(x_label.cpu().detach().numpy().reshape(-1,1))\n",
    "#         self_distance,_ = self.neigh.kneighbors() ## shape n_x,M\n",
    "#         sigma = np.sum(distance,axis=1)/np.sum(self_distance,axis=1)\n",
    "#         sigma = torch.from_numpy(sigma)\n",
    "        sigma = (x_label - x_unlabel.mean())**2\n",
    "        with pyro.plate(\"y\", n_l):\n",
    "            y_observer = pyro.sample(\"obs_y\", dist.Normal(mean, np.sqrt(sigma)), obs=y)  \n",
    "        \n",
    "        return {'x_l':x_label.detach().numpy(),'x_u':x_unlabel.detach().numpy(),'y':y_observer.detach().numpy()}\n",
    "    \n",
    "    def model_2_wrong(self,x_l, x_u, y,n_l,n_u,p,gamma,**kwargs):\n",
    "        prior = kwargs.get('prior',None)\n",
    "        assert prior is not None,'Need to set prior'\n",
    "\n",
    "        a = pyro.sample(\"a\", dist.Normal(*prior['a']))\n",
    "        b = pyro.sample(\"b\", dist.Normal(*prior['b']))\n",
    "\n",
    "        m1 = pyro.sample(\"m1\", dist.Normal(*prior['m1']))\n",
    "        m2 = pyro.sample(\"m2\", dist.Normal(*prior['m2']))\n",
    "        sigma1 = pyro.sample(\"sigma1\", dist.InverseGamma(*prior['sigma1']))\n",
    "        sigma2 = pyro.sample(\"sigma2\", dist.InverseGamma(*prior['sigma2']))\n",
    "        with pyro.plate(\"x_L\", n_l):\n",
    "            x_label = pyro.sample(\"obs_x\", dist.Normal(m1, sigma1), obs=x_l)\n",
    "        with pyro.plate(\"x_U\", n_u):\n",
    "            x_unlabel = pyro.sample(\"unobs_x\", dist.Normal(m2, sigma2), obs=x_u)\n",
    "\n",
    "        covariate = self.wrong_export(x_label,p,gamma).float()\n",
    "        params = torch.stack([a,b]).float()\n",
    "        mean =  torch.matmul(covariate,params)\n",
    "\n",
    "        with pyro.plate(\"y\", n_l):\n",
    "            y_observer = pyro.sample(\"obs_y\", dist.Normal(mean, 1.), obs=y)  \n",
    "\n",
    "        return {'x_l':x_label.detach().numpy(),'x_u':x_unlabel.detach().numpy(),'y':y_observer.detach().numpy()}\n",
    "    \n",
    "    def inference(self,model,prior,data):\n",
    "        hmc_kernel =  HMC(model, step_size=0.0855, num_steps=4)\n",
    "        mcmc = MCMC(hmc_kernel, num_samples=20000, warmup_steps=200)\n",
    "        \n",
    "        ## prior checking\n",
    "        d = data.copy()\n",
    "        d['y'] = None\n",
    "        d['x_l'] = None\n",
    "        d['x_u'] = None\n",
    "        prior_samples = self.prior_checking(model,prior,d)\n",
    "        \n",
    "        mcmc.run(**data,prior=prior)\n",
    "        samples = {k: v.detach().cpu().numpy() for k, v in mcmc.get_samples().items()}\n",
    "        return prior_samples,samples\n",
    "    \n",
    "    def prior_checking(self,model,prior,data):\n",
    "        \"\"\"\n",
    "        data: A dictionary data, which require for your model(both covariate and rensponse)\n",
    "        prior: a prior you want to set for model\n",
    "        both need in from of dictionary\n",
    "        \"\"\"\n",
    "        assert isinstance(prior,dict),\"prior must in dict form\"\n",
    "        assert isinstance(data,dict),\"data must in dict form\"\n",
    "        assert set(data.keys()).intersection(set(model.__code__.co_varnames)) == set(data.keys()),\\\n",
    "           f'data need have key as the argument name in model {data.keys()}'\n",
    "        assert None in data.values(),\"you need to set None to obs sample\"\n",
    "        d = data.copy()\n",
    "        d.update({'prior':prior})\n",
    "        return model(**d)"
   ]
  },
  {
   "cell_type": "code",
   "execution_count": 11,
   "id": "cf581afc",
   "metadata": {},
   "outputs": [],
   "source": [
    "b =  dist.Normal(torch.tensor([1,2]).float(),torch.tensor([1.,22]).float())"
   ]
  },
  {
   "cell_type": "code",
   "execution_count": 11,
   "id": "cbafb79a",
   "metadata": {},
   "outputs": [
    {
     "data": {
      "text/plain": [
       "tensor([[1., 1., 1., 1., 1.],\n",
       "        [1., 1., 1., 1., 1.]])"
      ]
     },
     "execution_count": 11,
     "metadata": {},
     "output_type": "execute_result"
    }
   ],
   "source": [
    "torch.ones((2,5))"
   ]
  },
  {
   "cell_type": "code",
   "execution_count": 2,
   "id": "3cb4e0a7-8dfb-4d2f-8cc9-da68ac83f32a",
   "metadata": {},
   "outputs": [],
   "source": [
    "num_c = 10\n",
    "y = np.random.randn(100,)\n",
    "pi = np.linspace(0.1,1,10)\n",
    "max_y = np.max(y)\n",
    "min_y = np.min(y)\n",
    "y_arr = np.linspace(min_y,max_y,num_c +1)\n",
    "y_arr_val = (y_arr[1:] + y_arr[:-1])/2\n",
    "\n",
    "with pyro.plate('data'), pyro.poutine.scale(scale=w):\n",
    "    pyro.sample('y', dist.Bernoulli(logits=p), obs=y)"
   ]
  },
  {
   "cell_type": "code",
   "execution_count": 5,
   "id": "6c5f1170-97a7-42ae-b7cb-9285ea84f58f",
   "metadata": {},
   "outputs": [],
   "source": [
    "r = np.searchsorted(y_arr, y)"
   ]
  },
  {
   "cell_type": "code",
   "execution_count": 11,
   "id": "64517cbb-293d-4f5e-97c4-ebeae713e6ca",
   "metadata": {},
   "outputs": [],
   "source": [
    "tensor = torch.randn(2,12)"
   ]
  },
  {
   "cell_type": "code",
   "execution_count": 15,
   "id": "bd366719-f71a-4624-8972-b9194329fb35",
   "metadata": {},
   "outputs": [
    {
     "data": {
      "text/plain": [
       "array([ 9,  4,  4,  3,  8,  0, 10,  4,  6,  5,  9,  1,  5,  5,  8,  3,  5,\n",
       "        4,  6,  7,  3,  8,  8,  7,  8,  4,  5,  4,  5,  7,  4,  5,  4,  4,\n",
       "        4,  6,  3,  6,  9,  7,  5,  4,  4,  9,  6,  4,  6, 10,  6,  7,  6,\n",
       "        5,  3,  5,  5,  7,  7,  8,  6,  8,  4,  8,  7,  5,  7,  5,  8,  9,\n",
       "       10,  3,  2,  5,  6,  8,  6,  1,  5,  7,  6,  7,  5,  5,  6,  7,  6,\n",
       "        6,  4,  6,  6,  8,  8,  6,  5,  4,  7,  6,  5,  6,  4,  7])"
      ]
     },
     "execution_count": 15,
     "metadata": {},
     "output_type": "execute_result"
    }
   ],
   "source": [
    "r"
   ]
  },
  {
   "cell_type": "code",
   "execution_count": 16,
   "id": "6e86a35b-54d9-409b-bb0b-54e3e5d7ed6e",
   "metadata": {},
   "outputs": [
    {
     "data": {
      "text/plain": [
       "tensor([[-0.9274,  0.5451,  0.0663, -0.4370,  0.7626,  0.4415,  1.1651,  2.0154,\n",
       "          0.9837,  0.8793, -1.4504, -1.1802],\n",
       "        [ 0.4100,  0.4085,  0.2579,  1.0950,  1.3264,  0.8547, -0.2805,  0.7000,\n",
       "         -1.4567,  1.6089,  0.0938, -1.2597]])"
      ]
     },
     "execution_count": 16,
     "metadata": {},
     "output_type": "execute_result"
    }
   ],
   "source": [
    "tensor"
   ]
  },
  {
   "cell_type": "code",
   "execution_count": 14,
   "id": "83912c93-3dc4-44e0-8504-0602085a33c3",
   "metadata": {},
   "outputs": [
    {
     "data": {
      "text/plain": [
       "tensor([[ 0.8793,  0.7626,  0.7626, -0.4370,  0.9837, -0.9274, -1.4504,  0.7626,\n",
       "          1.1651,  0.4415,  0.8793,  0.5451,  0.4415,  0.4415,  0.9837, -0.4370,\n",
       "          0.4415,  0.7626,  1.1651,  2.0154, -0.4370,  0.9837,  0.9837,  2.0154,\n",
       "          0.9837,  0.7626,  0.4415,  0.7626,  0.4415,  2.0154,  0.7626,  0.4415,\n",
       "          0.7626,  0.7626,  0.7626,  1.1651, -0.4370,  1.1651,  0.8793,  2.0154,\n",
       "          0.4415,  0.7626,  0.7626,  0.8793,  1.1651,  0.7626,  1.1651, -1.4504,\n",
       "          1.1651,  2.0154,  1.1651,  0.4415, -0.4370,  0.4415,  0.4415,  2.0154,\n",
       "          2.0154,  0.9837,  1.1651,  0.9837,  0.7626,  0.9837,  2.0154,  0.4415,\n",
       "          2.0154,  0.4415,  0.9837,  0.8793, -1.4504, -0.4370,  0.0663,  0.4415,\n",
       "          1.1651,  0.9837,  1.1651,  0.5451,  0.4415,  2.0154,  1.1651,  2.0154,\n",
       "          0.4415,  0.4415,  1.1651,  2.0154,  1.1651,  1.1651,  0.7626,  1.1651,\n",
       "          1.1651,  0.9837,  0.9837,  1.1651,  0.4415,  0.7626,  2.0154,  1.1651,\n",
       "          0.4415,  1.1651,  0.7626,  2.0154],\n",
       "        [ 1.6089,  1.3264,  1.3264,  1.0950, -1.4567,  0.4100,  0.0938,  1.3264,\n",
       "         -0.2805,  0.8547,  1.6089,  0.4085,  0.8547,  0.8547, -1.4567,  1.0950,\n",
       "          0.8547,  1.3264, -0.2805,  0.7000,  1.0950, -1.4567, -1.4567,  0.7000,\n",
       "         -1.4567,  1.3264,  0.8547,  1.3264,  0.8547,  0.7000,  1.3264,  0.8547,\n",
       "          1.3264,  1.3264,  1.3264, -0.2805,  1.0950, -0.2805,  1.6089,  0.7000,\n",
       "          0.8547,  1.3264,  1.3264,  1.6089, -0.2805,  1.3264, -0.2805,  0.0938,\n",
       "         -0.2805,  0.7000, -0.2805,  0.8547,  1.0950,  0.8547,  0.8547,  0.7000,\n",
       "          0.7000, -1.4567, -0.2805, -1.4567,  1.3264, -1.4567,  0.7000,  0.8547,\n",
       "          0.7000,  0.8547, -1.4567,  1.6089,  0.0938,  1.0950,  0.2579,  0.8547,\n",
       "         -0.2805, -1.4567, -0.2805,  0.4085,  0.8547,  0.7000, -0.2805,  0.7000,\n",
       "          0.8547,  0.8547, -0.2805,  0.7000, -0.2805, -0.2805,  1.3264, -0.2805,\n",
       "         -0.2805, -1.4567, -1.4567, -0.2805,  0.8547,  1.3264,  0.7000, -0.2805,\n",
       "          0.8547, -0.2805,  1.3264,  0.7000]])"
      ]
     },
     "execution_count": 14,
     "metadata": {},
     "output_type": "execute_result"
    }
   ],
   "source": [
    "tensor[:,r]"
   ]
  },
  {
   "cell_type": "code",
   "execution_count": 33,
   "id": "8279c0fa-2c9e-4994-a40e-685458b5b7da",
   "metadata": {},
   "outputs": [],
   "source": [
    "a = dist.Dirichlet(torch.tensor([[1,1],[2,1]]).float())"
   ]
  },
  {
   "cell_type": "code",
   "execution_count": 36,
   "id": "08c61977-6171-4b98-be42-c2a46c981f69",
   "metadata": {},
   "outputs": [],
   "source": [
    "s = a.sample()"
   ]
  },
  {
   "cell_type": "code",
   "execution_count": 39,
   "id": "11917da8-1251-409f-a7c2-a6fada4a870d",
   "metadata": {},
   "outputs": [
    {
     "data": {
      "text/plain": [
       "tensor([[0.4265, 0.5735],\n",
       "        [0.5497, 0.4503]])"
      ]
     },
     "execution_count": 39,
     "metadata": {},
     "output_type": "execute_result"
    }
   ],
   "source": [
    "s"
   ]
  },
  {
   "cell_type": "code",
   "execution_count": 45,
   "id": "4cf79523-4638-4f60-a8d3-5b93a833c197",
   "metadata": {},
   "outputs": [],
   "source": [
    "am = s.argmax(axis=1)"
   ]
  },
  {
   "cell_type": "code",
   "execution_count": 54,
   "id": "d4119bd0-42b1-4bdd-a48d-d39b3854578a",
   "metadata": {},
   "outputs": [],
   "source": [
    "b = torch.randn((2,))"
   ]
  },
  {
   "cell_type": "code",
   "execution_count": 57,
   "id": "3e5219b8-c448-49d8-bb2d-f0dac0714399",
   "metadata": {},
   "outputs": [
    {
     "data": {
      "text/plain": [
       "tensor([-0.1153,  0.8922])"
      ]
     },
     "execution_count": 57,
     "metadata": {},
     "output_type": "execute_result"
    }
   ],
   "source": [
    "b"
   ]
  },
  {
   "cell_type": "code",
   "execution_count": 56,
   "id": "777c3e23-3591-4a17-964f-7bbce5db6aba",
   "metadata": {},
   "outputs": [
    {
     "data": {
      "text/plain": [
       "tensor([ 0.8922, -0.1153])"
      ]
     },
     "execution_count": 56,
     "metadata": {},
     "output_type": "execute_result"
    }
   ],
   "source": [
    "b[am]"
   ]
  },
  {
   "cell_type": "code",
   "execution_count": 53,
   "id": "cdb0cf06-da37-46b6-814d-7d6829f99031",
   "metadata": {},
   "outputs": [
    {
     "data": {
      "text/plain": [
       "tensor([1, 0])"
      ]
     },
     "execution_count": 53,
     "metadata": {},
     "output_type": "execute_result"
    }
   ],
   "source": [
    "am"
   ]
  },
  {
   "cell_type": "code",
   "execution_count": 52,
   "id": "71186824-0a5a-40bc-90ba-94bf3924d0fa",
   "metadata": {},
   "outputs": [
    {
     "data": {
      "text/plain": [
       "tensor([[0.5735, 0.4265],\n",
       "        [0.4503, 0.5497]])"
      ]
     },
     "execution_count": 52,
     "metadata": {},
     "output_type": "execute_result"
    }
   ],
   "source": [
    "s[:,am.numpy()]"
   ]
  },
  {
   "cell_type": "code",
   "execution_count": 35,
   "id": "5da47225-5621-4b87-aa56-99d4cce70658",
   "metadata": {},
   "outputs": [
    {
     "data": {
      "text/plain": [
       "tensor([1, 0])"
      ]
     },
     "execution_count": 35,
     "metadata": {},
     "output_type": "execute_result"
    }
   ],
   "source": [
    "dist.Categorical(a.sample()).sample()"
   ]
  },
  {
   "cell_type": "code",
   "execution_count": null,
   "id": "ecf4b7d7",
   "metadata": {},
   "outputs": [],
   "source": [
    "def model(x_l, x_u, y,n_l,n_u,**kwargs):\n",
    "        prior = kwargs.get('prior',None)\n",
    "        assert prior is not None,'Need to set prior'\n",
    "        ## need to discrete y and pi\n",
    "        ### pi is an 1D array\n",
    "#         num_c = kwargs.get('num_c',None)\n",
    "#         pi = kwargs.get('pi',None)\n",
    "        max_y = np.max(y.detach().cpu().numpy())\n",
    "        min_y = np.min(y.detach().cpu().numpy())\n",
    "        num_c = 10\n",
    "        y_arr = np.linspace(min_y,max_y,num_c +1)\n",
    "        y_arr_val = (y_arr[1:] + y[:-1])/2\n",
    "        \n",
    "        pi = torch.linspace(start=0.1, end=1, steps=10)  #np.linspace(0.1,1,10)\n",
    "        theta = pyro.sample('theta',dist.Dirichlet(torch.ones_like(pi.reshape(1,-1)).tile(num_c,1)))\n",
    "        \n",
    "        argmax_theta = theta.argmax(axis=1)\n",
    "        pi_ = pi[argmax_theta]\n",
    "        \n",
    "        typ = kwargs.pop('typ',False)\n",
    "        weight = pyro.sample(\"weight\", dist.Normal(torch.tensor(prior['weight']['mean']).float(),\n",
    "                                                   torch.tensor(prior['weight']['std']).float()))\n",
    "    \n",
    "   \n",
    "        m1 = pyro.sample(\"m1\", dist.Normal(*prior['m1']))\n",
    "        m2 = pyro.sample(\"m2\", dist.Normal(*prior['m2']))\n",
    "        sigma1 = pyro.sample(\"sigma1\", dist.InverseGamma(*prior['sigma1']))\n",
    "        sigma2 = pyro.sample(\"sigma2\", dist.InverseGamma(*prior['sigma2']))\n",
    "        \n",
    "        with pyro.plate(\"x_L\", n_l):\n",
    "            x_label = pyro.sample(\"obs_x\", dist.Normal(m1, sigma1), obs=x_l)\n",
    "        with pyro.plate(\"x_U\", n_u):\n",
    "            x_unlabel = pyro.sample(\"unobs_x\", dist.Normal(m2, sigma2), obs=x_u)\n",
    "        \n",
    "        p = pyro.sample(\"p\", dist.Normal(torch.tensor(prior['p']['mean']).float(),\n",
    "                                         torch.tensor(prior['p']['std']).float()))\n",
    "        \n",
    "        gamma = pyro.sample(\"gamma\", dist.InverseGamma(torch.tensor(prior['gamma']['concentration']).float(),\n",
    "                                                      torch.tensor(prior['gamma']['rate']).float()))\n",
    "        \n",
    "        covariate = self.covariate_export(x_label,p,gamma).float()\n",
    "        mean =  torch.matmul(covariate,weight.float())\n",
    "        if typ:\n",
    "\n",
    "            sigma =  (x_label - x_unlabel.mean())**2/(x_label.mean() -x_unlabel.mean())**2\n",
    "        else:\n",
    "            sigma = 1.\n",
    "        \n",
    "        with pyro.plate(\"y\", n_l),pyro.poutine.scale(scale=pi_):\n",
    "            y_observer = pyro.sample(\"obs_y\", dist.Normal(mean, np.sqrt(sigma)), obs=y)  \n",
    "        \n",
    "        return {'x_l':x_label.detach().numpy(),'x_u':x_unlabel.detach().numpy(),'y':y_observer.detach().numpy()}"
   ]
  },
  {
   "cell_type": "code",
   "execution_count": 63,
   "id": "29595ec2",
   "metadata": {},
   "outputs": [
    {
     "name": "stdout",
     "output_type": "stream",
     "text": [
      "{'x_l': None, 'x_u': None, 'y': None, 'n_l': 100, 'n_u': 100}\n",
      "{'x_l': None, 'x_u': None, 'y': None, 'n_l': 100, 'n_u': 100, 'prior': {'weight': {'mean': [-1, -4.0, -3], 'std': [1.0, 2.0, 5]}, 'p': {'mean': [2, -6, 6], 'std': [5, 4, 7]}, 'gamma': {'concentration': [1, 2, 3], 'rate': [1, 1, 2]}, 'm1': [-5, 5], 'm2': [-5, 5], 'sigma1': [1, 3], 'sigma2': [4, 4]}}\n"
     ]
    },
    {
     "ename": "TypeError",
     "evalue": "model_GMC() got multiple values for argument 'x_l'",
     "output_type": "error",
     "traceback": [
      "\u001b[0;31m---------------------------------------------------------------------------\u001b[0m",
      "\u001b[0;31mTypeError\u001b[0m                                 Traceback (most recent call last)",
      "\u001b[0;32m<ipython-input-63-4c745c7ffbf6>\u001b[0m in \u001b[0;36m<module>\u001b[0;34m\u001b[0m\n\u001b[1;32m    211\u001b[0m \u001b[0;34m\u001b[0m\u001b[0m\n\u001b[1;32m    212\u001b[0m \u001b[0mtoy\u001b[0m \u001b[0;34m=\u001b[0m \u001b[0mToyExmaple\u001b[0m\u001b[0;34m(\u001b[0m\u001b[0mnum_samples\u001b[0m\u001b[0;34m=\u001b[0m\u001b[0;36m4000\u001b[0m\u001b[0;34m)\u001b[0m\u001b[0;34m\u001b[0m\u001b[0;34m\u001b[0m\u001b[0m\n\u001b[0;32m--> 213\u001b[0;31m \u001b[0mprior_samples\u001b[0m\u001b[0;34m,\u001b[0m\u001b[0msamples\u001b[0m \u001b[0;34m=\u001b[0m \u001b[0mtoy\u001b[0m\u001b[0;34m.\u001b[0m\u001b[0minference\u001b[0m\u001b[0;34m(\u001b[0m\u001b[0mtoy\u001b[0m\u001b[0;34m.\u001b[0m\u001b[0mmodel_GMC\u001b[0m\u001b[0;34m,\u001b[0m\u001b[0mprior\u001b[0m\u001b[0;34m,\u001b[0m\u001b[0mdata\u001b[0m\u001b[0;34m,\u001b[0m\u001b[0mtyp\u001b[0m\u001b[0;34m=\u001b[0m\u001b[0;32mTrue\u001b[0m\u001b[0;34m)\u001b[0m\u001b[0;34m\u001b[0m\u001b[0;34m\u001b[0m\u001b[0m\n\u001b[0m",
      "\u001b[0;32m<ipython-input-63-4c745c7ffbf6>\u001b[0m in \u001b[0;36minference\u001b[0;34m(self, model, prior, data, typ)\u001b[0m\n\u001b[1;32m    131\u001b[0m         \u001b[0md\u001b[0m\u001b[0;34m[\u001b[0m\u001b[0;34m'x_u'\u001b[0m\u001b[0;34m]\u001b[0m \u001b[0;34m=\u001b[0m \u001b[0;32mNone\u001b[0m\u001b[0;34m\u001b[0m\u001b[0;34m\u001b[0m\u001b[0m\n\u001b[1;32m    132\u001b[0m         \u001b[0mprint\u001b[0m\u001b[0;34m(\u001b[0m\u001b[0md\u001b[0m\u001b[0;34m)\u001b[0m\u001b[0;34m\u001b[0m\u001b[0;34m\u001b[0m\u001b[0m\n\u001b[0;32m--> 133\u001b[0;31m         \u001b[0mprior_samples\u001b[0m \u001b[0;34m=\u001b[0m \u001b[0mself\u001b[0m\u001b[0;34m.\u001b[0m\u001b[0mprior_checking\u001b[0m\u001b[0;34m(\u001b[0m\u001b[0mmodel\u001b[0m\u001b[0;34m,\u001b[0m\u001b[0mprior\u001b[0m\u001b[0;34m,\u001b[0m\u001b[0md\u001b[0m\u001b[0;34m,\u001b[0m\u001b[0mtyp\u001b[0m\u001b[0;34m=\u001b[0m\u001b[0mtyp\u001b[0m\u001b[0;34m)\u001b[0m\u001b[0;34m\u001b[0m\u001b[0;34m\u001b[0m\u001b[0m\n\u001b[0m\u001b[1;32m    134\u001b[0m \u001b[0;34m\u001b[0m\u001b[0m\n\u001b[1;32m    135\u001b[0m         \u001b[0mmcmc\u001b[0m\u001b[0;34m.\u001b[0m\u001b[0mrun\u001b[0m\u001b[0;34m(\u001b[0m\u001b[0;34m**\u001b[0m\u001b[0mdata\u001b[0m\u001b[0;34m,\u001b[0m\u001b[0mtyp\u001b[0m\u001b[0;34m=\u001b[0m\u001b[0mtyp\u001b[0m\u001b[0;34m,\u001b[0m\u001b[0mprior\u001b[0m\u001b[0;34m=\u001b[0m\u001b[0mprior\u001b[0m\u001b[0;34m)\u001b[0m\u001b[0;34m\u001b[0m\u001b[0;34m\u001b[0m\u001b[0m\n",
      "\u001b[0;32m<ipython-input-63-4c745c7ffbf6>\u001b[0m in \u001b[0;36mprior_checking\u001b[0;34m(self, model, prior, data, typ)\u001b[0m\n\u001b[1;32m    151\u001b[0m         \u001b[0md\u001b[0m\u001b[0;34m.\u001b[0m\u001b[0mupdate\u001b[0m\u001b[0;34m(\u001b[0m\u001b[0;34m{\u001b[0m\u001b[0;34m'prior'\u001b[0m\u001b[0;34m:\u001b[0m\u001b[0mprior\u001b[0m\u001b[0;34m}\u001b[0m\u001b[0;34m)\u001b[0m\u001b[0;34m\u001b[0m\u001b[0;34m\u001b[0m\u001b[0m\n\u001b[1;32m    152\u001b[0m         \u001b[0mprint\u001b[0m\u001b[0;34m(\u001b[0m\u001b[0md\u001b[0m\u001b[0;34m)\u001b[0m\u001b[0;34m\u001b[0m\u001b[0;34m\u001b[0m\u001b[0m\n\u001b[0;32m--> 153\u001b[0;31m         \u001b[0;32mreturn\u001b[0m \u001b[0mmodel\u001b[0m\u001b[0;34m(\u001b[0m\u001b[0;34m**\u001b[0m\u001b[0md\u001b[0m\u001b[0;34m,\u001b[0m\u001b[0mtyp\u001b[0m\u001b[0;34m=\u001b[0m\u001b[0mtyp\u001b[0m\u001b[0;34m)\u001b[0m\u001b[0;34m\u001b[0m\u001b[0;34m\u001b[0m\u001b[0m\n\u001b[0m\u001b[1;32m    154\u001b[0m \u001b[0;34m\u001b[0m\u001b[0m\n\u001b[1;32m    155\u001b[0m \u001b[0;34m\u001b[0m\u001b[0m\n",
      "\u001b[0;31mTypeError\u001b[0m: model_GMC() got multiple values for argument 'x_l'"
     ]
    }
   ],
   "source": [
    "from abc import ABC,abstractmethod\n",
    "from scipy.stats import wasserstein_distance\n",
    "\n",
    "class ToyExmaple:\n",
    "    def __init__(self,num_m=5,num_samples=20000):\n",
    "        \n",
    "        self.M = num_m\n",
    "        self.neigh = NearestNeighbors(metric='euclidean',n_neighbors=self.M)\n",
    "        self.n_samples = num_samples\n",
    "        \n",
    "    def model_GMC(x_l, x_u, y,n_l,n_u,**kwargs):\n",
    "        prior = kwargs.get('prior',None)\n",
    "        assert prior is not None,'Need to set prior'\n",
    "        ## need to discrete y and pi\n",
    "        ### pi is an 1D array\n",
    "        \n",
    "        max_y = np.max(y.detach().cpu().numpy())\n",
    "        min_y = np.min(y.detach().cpu().numpy())\n",
    "        num_c = 10\n",
    "        y_arr = np.linspace(min_y,max_y,num_c +1)\n",
    "        y_arr_val = (y_arr[1:] + y[:-1])/2\n",
    "        \n",
    "        pi = torch.linspace(start=0.1, end=1, steps=10)  #np.linspace(0.1,1,10)\n",
    "        theta = pyro.sample('theta',dist.Dirichlet(torch.ones_like(pi.reshape(1,-1)).tile(num_c,1)))\n",
    "        \n",
    "#         argmax_theta = theta.argmax(axis=1)\n",
    "#         pi_ = pi[argmax_theta]\n",
    "        \n",
    "        typ = kwargs.pop('typ',False)\n",
    "        weight = pyro.sample(\"weight\", dist.Normal(torch.tensor(prior['weight']['mean']).float(),\n",
    "                                                   torch.tensor(prior['weight']['std']).float()))\n",
    "    \n",
    "   \n",
    "        m1 = pyro.sample(\"m1\", dist.Normal(*prior['m1']))\n",
    "        m2 = pyro.sample(\"m2\", dist.Normal(*prior['m2']))\n",
    "        sigma1 = pyro.sample(\"sigma1\", dist.InverseGamma(*prior['sigma1']))\n",
    "        sigma2 = pyro.sample(\"sigma2\", dist.InverseGamma(*prior['sigma2']))\n",
    "        \n",
    "        with pyro.plate(\"x_L\", n_l):\n",
    "            x_label = pyro.sample(\"obs_x\", dist.Normal(m1, sigma1), obs=x_l)\n",
    "        with pyro.plate(\"x_U\", n_u):\n",
    "            x_unlabel = pyro.sample(\"unobs_x\", dist.Normal(m2, sigma2), obs=x_u)\n",
    "        \n",
    "        p = pyro.sample(\"p\", dist.Normal(torch.tensor(prior['p']['mean']).float(),\n",
    "                                         torch.tensor(prior['p']['std']).float()))\n",
    "        \n",
    "        gamma = pyro.sample(\"gamma\", dist.InverseGamma(torch.tensor(prior['gamma']['concentration']).float(),\n",
    "                                                      torch.tensor(prior['gamma']['rate']).float()))\n",
    "        \n",
    "        covariate = self.covariate_export(x_label,p,gamma).float()\n",
    "        mean =  torch.matmul(covariate,weight.float())\n",
    "        if typ:\n",
    "\n",
    "            sigma =  (x_label - x_unlabel.mean())**2/(x_label.mean() -x_unlabel.mean())**2\n",
    "        else:\n",
    "            sigma = 1.\n",
    "        \n",
    "        with pyro.plate(\"y\", n_l): #,pyro.poutine.scale(scale=pi_)\n",
    "            y_observer = pyro.sample(\"obs_y\", dist.Normal(mean, np.sqrt(sigma)), obs=y)  \n",
    "        \n",
    "        return {'x_l':x_label.detach().numpy(),'x_u':x_unlabel.detach().numpy(),'y':y_observer.detach().numpy()}\n",
    "    \n",
    "    \n",
    "    def model(self,x_l, x_u, y,n_l,n_u,**kwargs):\n",
    "        prior = kwargs.get('prior',None)\n",
    "        assert prior is not None,'Need to set prior'\n",
    "        \n",
    "#         a = pyro.sample(\"a\", dist.Normal(*prior['a']))\n",
    "#         b = pyro.sample(\"b\", dist.Normal(*prior['b']))\n",
    "        typ = kwargs.pop('typ',False)\n",
    "        weight = pyro.sample(\"weight\", dist.Normal(torch.tensor(prior['weight']['mean']).float(),\n",
    "                                                   torch.tensor(prior['weight']['std']).float()))\n",
    "   \n",
    "        m1 = pyro.sample(\"m1\", dist.Normal(*prior['m1']))\n",
    "        m2 = pyro.sample(\"m2\", dist.Normal(*prior['m2']))\n",
    "        sigma1 = pyro.sample(\"sigma1\", dist.InverseGamma(*prior['sigma1']))\n",
    "        sigma2 = pyro.sample(\"sigma2\", dist.InverseGamma(*prior['sigma2']))\n",
    "        \n",
    "        with pyro.plate(\"x_L\", n_l):\n",
    "            x_label = pyro.sample(\"obs_x\", dist.Normal(m1, sigma1), obs=x_l)\n",
    "        with pyro.plate(\"x_U\", n_u):\n",
    "            x_unlabel = pyro.sample(\"unobs_x\", dist.Normal(m2, sigma2), obs=x_u)\n",
    "        \n",
    "        p = pyro.sample(\"p\", dist.Normal(torch.tensor(prior['p']['mean']).float(),\n",
    "                                         torch.tensor(prior['p']['std']).float()))\n",
    "        \n",
    "        gamma = pyro.sample(\"gamma\", dist.InverseGamma(torch.tensor(prior['gamma']['concentration']).float(),\n",
    "                                                      torch.tensor(prior['gamma']['rate']).float()))\n",
    "        covariate = self.covariate_export(x_label,p,gamma).float()\n",
    "        mean =  torch.matmul(covariate,weight.float())\n",
    "        if typ:\n",
    "#             sigma = (x_label  - x_unlabel.mean())**2\n",
    "            sigma =  (x_label - x_unlabel.mean())**2/(x_label.mean() -x_unlabel.mean())**2\n",
    "#             self.neigh.fit(x_unlabel.cpu().detach().numpy().reshape(-1,1))\n",
    "#             distance ,idx = self.neigh.kneighbors(x_label.cpu().detach().numpy().reshape(-1,1)) ## shape n_x,M\n",
    "#             self.neigh.fit(x_label.cpu().detach().numpy().reshape(-1,1))\n",
    "#             self_distance,_ = self.neigh.kneighbors() ## shape n_x,M\n",
    "#             sigma = np.sum(distance,axis=1)/np.sum(self_distance,axis=1)\n",
    "#             sigma = torch.from_numpy(sigma)\n",
    "        else:\n",
    "            sigma = 1.\n",
    "        \n",
    "        with pyro.plate(\"y\", n_l):\n",
    "            y_observer = pyro.sample(\"obs_y\", dist.Normal(mean, np.sqrt(sigma)), obs=y)  \n",
    "        \n",
    "        return {'x_l':x_label.detach().numpy(),'x_u':x_unlabel.detach().numpy(),'y':y_observer.detach().numpy()}\n",
    "    \n",
    "    \n",
    "    def  covariate_export(self,x,p,gamma):\n",
    "        \"\"\"\n",
    "        p: a list of param\n",
    "        gamma : alsit of param\n",
    "        \"\"\"\n",
    "        assert len(p) == len(gamma),'p and gamma need have the same length' \n",
    "        if p.ndim ==1:\n",
    "        \n",
    "            return torch.exp(-(x.view(-1,1)-p.view(1,-1))**2/gamma.view(1,-1)**2)\n",
    "        else:\n",
    "            \n",
    "            return torch.exp(-(x.view(-1,1)-p)**2/gamma**2)\n",
    "    \n",
    "    def inference(self,model,prior,data,typ=False):\n",
    "        hmc_kernel =  HMC(model, step_size=0.0855, num_steps=4)\n",
    "        mcmc = MCMC(hmc_kernel, num_samples=self.n_samples, warmup_steps=200)\n",
    "        \n",
    "        ## prior checking\n",
    "        d = data.copy()\n",
    "        d['y'] = None\n",
    "        d['x_l'] = None\n",
    "        d['x_u'] = None\n",
    "        print(d)\n",
    "        prior_samples = self.prior_checking(model,prior,d,typ=typ)\n",
    "        \n",
    "        mcmc.run(**data,typ=typ,prior=prior)\n",
    "        samples = {k: v.detach().cpu().numpy() for k, v in mcmc.get_samples().items()}\n",
    "        return prior_samples,samples\n",
    "    \n",
    "    def prior_checking(self,model,prior,data,typ=False):\n",
    "        \"\"\"\n",
    "        data: A dictionary data, which require for your model(both covariate and rensponse)\n",
    "        prior: a prior you want to set for model\n",
    "        both need in from of dictionary\n",
    "        \"\"\"\n",
    "        assert isinstance(prior,dict),\"prior must in dict form\"\n",
    "        assert isinstance(data,dict),\"data must in dict form\"\n",
    "        assert set(data.keys()).intersection(set(model.__code__.co_varnames)) == set(data.keys()),\\\n",
    "           f'data need have key as the argument name in model {data.keys()}'\n",
    "        assert None in data.values(),\"you need to set None to obs sample\"\n",
    "        d = data.copy()\n",
    "        d.update({'prior':prior})\n",
    "        print(d)\n",
    "        return model(**d,typ=typ)\n",
    "                            \n",
    "                            \n",
    "## prepare data\n",
    "\n",
    "m1=-1\n",
    "m2=3.\n",
    "sig1=3.\n",
    "sig2=4.\n",
    "\n",
    "weight = np.array([1.,2.,3.])\n",
    "p = np.array([1,2,5])\n",
    "gamma = np.array([5,6.,1.])\n",
    "n_l =100\n",
    "n_u = 100\n",
    "def radial_basic_function(x,p,gamma):\n",
    "    \"\"\"\n",
    "    This function for scalar inputs\n",
    "    \"\"\"\n",
    "    if p.ndim ==1:\n",
    "        return np.exp((-(x.reshape(-1,1)-p.reshape(1,-1))**2/gamma.reshape(1,-1)**2) )\n",
    "    else:\n",
    "        \n",
    "        return np.exp((-(x.reshape(-1,1)-p)**2/gamma**2) )\n",
    "\n",
    "x_l = np.random.normal(m1,np.sqrt(sig1),size=n_l)\n",
    "x_u = np.random.normal(m2,np.sqrt(sig2),size=n_u)\n",
    "\n",
    "y = np.random.normal(0,0.5,size=n_l) + np.matmul(radial_basic_function(x_l,p,gamma),weight) \n",
    "y_u = np.random.normal(0,0.5,size=n_u) +  np.matmul(radial_basic_function(x_u,p,gamma),weight) \n",
    "\n",
    "## change to tensor\n",
    "true_params = {\"weight\":weight,\n",
    "               \"m1\":m1,\n",
    "               \"m2\":m2,\n",
    "                \"p\":p,\n",
    "                \"gamma\":gamma,\n",
    "               \"sigma1\":sig1,\n",
    "               \"sigma2\":sig2,\n",
    "                }\n",
    "data = {\"x_l\": torch.from_numpy(x_l),\n",
    "        \"x_u\":torch.from_numpy(x_u),\n",
    "        \"y\":torch.from_numpy(y),\n",
    "    \n",
    "        \"n_l\":n_l,\n",
    "        \"n_u\":n_u}\n",
    "\n",
    "prior = {\"weight\":{\"mean\":[-1,-4.,-3],\n",
    "                   \"std\":[1.,2.,5]},\n",
    "         \"p\":{\"mean\":[2,-6,6],\n",
    "              \"std\":[5,4,7]},\n",
    "         \"gamma\":{\"concentration\":[1,2,3],\n",
    "                  \"rate\":[1,1,2]},\n",
    "         \n",
    "         \"m1\":[-5,5],\n",
    "         \"m2\":[-5,5],\n",
    "         \"sigma1\":[1,3],\n",
    "         \"sigma2\":[4,4]}\n",
    "\n",
    "toy = ToyExmaple(num_samples=4000)\n",
    "prior_samples,samples = toy.inference(toy.model_GMC,prior,data,typ=True)"
   ]
  },
  {
   "cell_type": "code",
   "execution_count": 9,
   "id": "0e5ce99d",
   "metadata": {},
   "outputs": [
    {
     "name": "stderr",
     "output_type": "stream",
     "text": [
      "Sample: 100%|██████████| 4200/4200 [00:17, 233.50it/s, step size=3.20e-01, acc. prob=0.692]\n"
     ]
    }
   ],
   "source": [
    "prior_samples_2,samples_2 = toy.inference(toy.model,prior,data,typ=False)"
   ]
  },
  {
   "cell_type": "code",
   "execution_count": 4,
   "id": "f68f9d2c",
   "metadata": {},
   "outputs": [],
   "source": [
    "def plot_samples_prior(samples,data=None):\n",
    "    assert set(samples.keys()).intersection(set(data.keys())) == set(samples.keys()),'samples do not have in data'\n",
    "    sites = list(samples.keys())\n",
    "    fig, axs = plt.subplots(nrows=1, ncols=len(sites), figsize=(12, 5))\n",
    "    fig.suptitle(\"Prior Checking\", fontsize=16)\n",
    "    for i, ax in enumerate(axs.reshape(-1)):\n",
    "        site = sites[i]\n",
    "        sns.distplot(samples[site], ax=ax, label=\"Prior\")\n",
    "        sns.distplot(data[site].cpu().numpy(), ax=ax, label=\"True\")\n",
    "        ax.set_title(site)\n",
    "    handles, labels = ax.get_legend_handles_labels()\n",
    "    fig.legend(handles, labels, loc='upper right');\n",
    "        \n",
    "    \n",
    "def plot_samples_post(samples,true_params=None):\n",
    "    sites = list(samples.keys())\n",
    "    fig, axs = plt.subplots(nrows=1, ncols=len(sites), figsize=(12, 5))\n",
    "    fig.suptitle(\"Posterior Checking\", fontsize=16)\n",
    "    for i, ax in enumerate(axs.reshape(-1)):\n",
    "        site = sites[i]\n",
    "        if samples[site].ndim ==1:\n",
    "            sns.distplot(samples[site], ax=ax, label=\"posterior\")\n",
    "            ax.axvline(true_params[site],ymin=0,ymax=1,color='red',label='True')\n",
    "            ax.set_title(site)\n",
    "        else:\n",
    "            for i in range(samples[site].shape[-1]):\n",
    "                sns.distplot(samples[site][:,i], ax=ax, label= f\"posterior {site}_{i}\")\n",
    "                ax.axvline(true_params[site][i],ymin=0,ymax=1,color='red',label=f'True {site}_{i}')\n",
    "\n",
    "    handles, labels = ax.get_legend_handles_labels()\n",
    "    fig.legend(handles, labels, loc='upper right');\n",
    "    \n",
    "def plot_predictive(x_l,x_u,y,y_u,sample1,sample2,true_params):\n",
    "    fig,axes = plt.subplots(figsize=(5,5))\n",
    "    predict_df = pd.DataFrame(columns=['x','y_pred','sigma'])\n",
    "    model_weight1 = sample1['weight']\n",
    "    model_weight2 = sample2['weight']\n",
    "  \n",
    "    \n",
    "    covariate1 = radial_basic_function(x_u,sample1['p'].mean(axis=0),sample1['gamma'].mean(axis=0))\n",
    "    covariate2 = radial_basic_function(x_u,sample2['p'].mean(axis=0),sample2['gamma'].mean(axis=0))\n",
    "    \n",
    "    our_model_error = np.mean((y_u - np.matmul(covariate1 ,np.mean(model_weight1,axis=0,keepdims=True).T))**2)#0.0\n",
    "    sig_1_model_error = np.mean((y_u - np.matmul(covariate2 ,np.mean(model_weight2,axis=0,keepdims=True).T))**2)#0.0\n",
    "\n",
    "    print(f\"model 1 error: {our_model_error}\")\n",
    "    print(f\"model 2 error: {sig_1_model_error}\")\n",
    "    \n",
    "    covariate_full1 = list(map(lambda x:radial_basic_function(x_u,x[0],x[1]), zip(sample1['p'],sample1['gamma'])))\n",
    "    covariate_full2 = list(map(lambda x:radial_basic_function(x_u,x[0],x[1]), zip(sample2['p'],sample2['gamma'])))\n",
    "    y_pred1 = list(map(lambda x: np.matmul(x[0],x[1].T).flatten(),zip(covariate_full1,model_weight1)))\n",
    "    y_pred2 = list(map(lambda x: np.matmul(x[0],x[1].T).flatten(),zip(covariate_full2,model_weight2)))\n",
    "\n",
    "    predict_df_1 = pd.DataFrame({'x':np.tile(x_u,len(model_weight1)),'y_pred':np.concatenate(y_pred1),\\\n",
    "                                         'sigma':['our model']*len(model_weight1) * len(x_u) })\n",
    "    predict_df_2 = pd.DataFrame({'x':np.tile(x_u,len(model_weight2)),'y_pred':np.concatenate(y_pred2),\\\n",
    "                                         'sigma':['1']*len(model_weight2) * len(x_u) })\n",
    "\n",
    "    predict_df = pd.concat([predict_df_1,predict_df_2])\n",
    "    axes.set_title(\"Our model Error {:.3f}, {} model error {:.3f}\".format(our_model_error\\\n",
    "                    ,r'$\\sigma=1$',sig_1_model_error))\n",
    "    axes.plot(x_u,y_u,'ro',label=\"unlabel data\")\n",
    "    axes.plot(x_l,y,'go',label=\"label data\" )\n",
    "\n",
    "    pseu_do = np.linspace(min(min(x_u),min(x_l)),max(max(x_l),max(x_u)),100)\n",
    "    axes.plot(pseu_do,np.matmul(radial_basic_function(pseu_do,true_params['p'],true_params['gamma']),\\\n",
    "                                                        true_params['weight']),'-.',label=\"true func\" )\n",
    "\n",
    "    sns.lineplot(data=predict_df, x=\"x\", y=\"y_pred\", hue=\"sigma\",ax=axes,ci='sd')\n",
    "    plt.show()\n",
    "    return predict_df\n",
    "    \n"
   ]
  },
  {
   "cell_type": "code",
   "execution_count": 5,
   "id": "269ba7e0",
   "metadata": {},
   "outputs": [
    {
     "name": "stderr",
     "output_type": "stream",
     "text": [
      "/home/phuocbui/.local/share/virtualenvs/reimplement-5tNh0ajX/lib/python3.6/site-packages/seaborn/distributions.py:2557: FutureWarning: `distplot` is a deprecated function and will be removed in a future version. Please adapt your code to use either `displot` (a figure-level function with similar flexibility) or `histplot` (an axes-level function for histograms).\n",
      "  warnings.warn(msg, FutureWarning)\n",
      "/home/phuocbui/.local/share/virtualenvs/reimplement-5tNh0ajX/lib/python3.6/site-packages/seaborn/distributions.py:2557: FutureWarning: `distplot` is a deprecated function and will be removed in a future version. Please adapt your code to use either `displot` (a figure-level function with similar flexibility) or `histplot` (an axes-level function for histograms).\n",
      "  warnings.warn(msg, FutureWarning)\n",
      "/home/phuocbui/.local/share/virtualenvs/reimplement-5tNh0ajX/lib/python3.6/site-packages/seaborn/distributions.py:2557: FutureWarning: `distplot` is a deprecated function and will be removed in a future version. Please adapt your code to use either `displot` (a figure-level function with similar flexibility) or `histplot` (an axes-level function for histograms).\n",
      "  warnings.warn(msg, FutureWarning)\n",
      "/home/phuocbui/.local/share/virtualenvs/reimplement-5tNh0ajX/lib/python3.6/site-packages/seaborn/distributions.py:2557: FutureWarning: `distplot` is a deprecated function and will be removed in a future version. Please adapt your code to use either `displot` (a figure-level function with similar flexibility) or `histplot` (an axes-level function for histograms).\n",
      "  warnings.warn(msg, FutureWarning)\n",
      "/home/phuocbui/.local/share/virtualenvs/reimplement-5tNh0ajX/lib/python3.6/site-packages/seaborn/distributions.py:2557: FutureWarning: `distplot` is a deprecated function and will be removed in a future version. Please adapt your code to use either `displot` (a figure-level function with similar flexibility) or `histplot` (an axes-level function for histograms).\n",
      "  warnings.warn(msg, FutureWarning)\n",
      "/home/phuocbui/.local/share/virtualenvs/reimplement-5tNh0ajX/lib/python3.6/site-packages/seaborn/distributions.py:2557: FutureWarning: `distplot` is a deprecated function and will be removed in a future version. Please adapt your code to use either `displot` (a figure-level function with similar flexibility) or `histplot` (an axes-level function for histograms).\n",
      "  warnings.warn(msg, FutureWarning)\n"
     ]
    },
    {
     "data": {
      "image/png": "[encoded data removed]",
      "text/plain": [
       "<Figure size 864x360 with 3 Axes>"
      ]
     },
     "metadata": {
      "needs_background": "light"
     },
     "output_type": "display_data"
    }
   ],
   "source": [
    "plot_samples_prior(prior_samples,data)"
   ]
  },
  {
   "cell_type": "code",
   "execution_count": 6,
   "id": "be41a052",
   "metadata": {},
   "outputs": [
    {
     "name": "stderr",
     "output_type": "stream",
     "text": [
      "/home/phuocbui/.local/share/virtualenvs/reimplement-5tNh0ajX/lib/python3.6/site-packages/seaborn/distributions.py:2557: FutureWarning: `distplot` is a deprecated function and will be removed in a future version. Please adapt your code to use either `displot` (a figure-level function with similar flexibility) or `histplot` (an axes-level function for histograms).\n",
      "  warnings.warn(msg, FutureWarning)\n",
      "/home/phuocbui/.local/share/virtualenvs/reimplement-5tNh0ajX/lib/python3.6/site-packages/seaborn/distributions.py:2557: FutureWarning: `distplot` is a deprecated function and will be removed in a future version. Please adapt your code to use either `displot` (a figure-level function with similar flexibility) or `histplot` (an axes-level function for histograms).\n",
      "  warnings.warn(msg, FutureWarning)\n",
      "/home/phuocbui/.local/share/virtualenvs/reimplement-5tNh0ajX/lib/python3.6/site-packages/seaborn/distributions.py:2557: FutureWarning: `distplot` is a deprecated function and will be removed in a future version. Please adapt your code to use either `displot` (a figure-level function with similar flexibility) or `histplot` (an axes-level function for histograms).\n",
      "  warnings.warn(msg, FutureWarning)\n",
      "/home/phuocbui/.local/share/virtualenvs/reimplement-5tNh0ajX/lib/python3.6/site-packages/seaborn/distributions.py:2557: FutureWarning: `distplot` is a deprecated function and will be removed in a future version. Please adapt your code to use either `displot` (a figure-level function with similar flexibility) or `histplot` (an axes-level function for histograms).\n",
      "  warnings.warn(msg, FutureWarning)\n",
      "/home/phuocbui/.local/share/virtualenvs/reimplement-5tNh0ajX/lib/python3.6/site-packages/seaborn/distributions.py:2557: FutureWarning: `distplot` is a deprecated function and will be removed in a future version. Please adapt your code to use either `displot` (a figure-level function with similar flexibility) or `histplot` (an axes-level function for histograms).\n",
      "  warnings.warn(msg, FutureWarning)\n",
      "/home/phuocbui/.local/share/virtualenvs/reimplement-5tNh0ajX/lib/python3.6/site-packages/seaborn/distributions.py:2557: FutureWarning: `distplot` is a deprecated function and will be removed in a future version. Please adapt your code to use either `displot` (a figure-level function with similar flexibility) or `histplot` (an axes-level function for histograms).\n",
      "  warnings.warn(msg, FutureWarning)\n"
     ]
    },
    {
     "data": {
      "image/png": "[encoded data removed]",
      "text/plain": [
       "<Figure size 864x360 with 3 Axes>"
      ]
     },
     "metadata": {
      "needs_background": "light"
     },
     "output_type": "display_data"
    }
   ],
   "source": [
    "plot_samples_prior(prior_samples_2,data)"
   ]
  },
  {
   "cell_type": "code",
   "execution_count": 10,
   "id": "00e18e58",
   "metadata": {},
   "outputs": [
    {
     "name": "stdout",
     "output_type": "stream",
     "text": [
      "model 1 error: 1.4468901876353906\n",
      "model 2 error: 2.0057320406848524\n"
     ]
    },
    {
     "data": {
      "image/png": "[encoded data removed]",
      "text/plain": [
       "<Figure size 360x360 with 1 Axes>"
      ]
     },
     "metadata": {
      "needs_background": "light"
     },
     "output_type": "display_data"
    }
   ],
   "source": [
    "df = plot_predictive(x_l,x_u,y,y_u,samples,samples_2,true_params)"
   ]
  },
  {
   "cell_type": "code",
   "execution_count": 54,
   "id": "ea2a1303",
   "metadata": {},
   "outputs": [
    {
     "data": {
      "text/html": [
       "<div>\n",
       "<style scoped>\n",
       "    .dataframe tbody tr th:only-of-type {\n",
       "        vertical-align: middle;\n",
       "    }\n",
       "\n",
       "    .dataframe tbody tr th {\n",
       "        vertical-align: top;\n",
       "    }\n",
       "\n",
       "    .dataframe thead th {\n",
       "        text-align: right;\n",
       "    }\n",
       "</style>\n",
       "<table border=\"1\" class=\"dataframe\">\n",
       "  <thead>\n",
       "    <tr style=\"text-align: right;\">\n",
       "      <th></th>\n",
       "      <th>x</th>\n",
       "      <th>y_pred</th>\n",
       "    </tr>\n",
       "  </thead>\n",
       "  <tbody>\n",
       "    <tr>\n",
       "      <th>count</th>\n",
       "      <td>400000.000000</td>\n",
       "      <td>400000.000000</td>\n",
       "    </tr>\n",
       "    <tr>\n",
       "      <th>mean</th>\n",
       "      <td>3.042469</td>\n",
       "      <td>2.295065</td>\n",
       "    </tr>\n",
       "    <tr>\n",
       "      <th>std</th>\n",
       "      <td>2.215849</td>\n",
       "      <td>1.479428</td>\n",
       "    </tr>\n",
       "    <tr>\n",
       "      <th>min</th>\n",
       "      <td>-2.828998</td>\n",
       "      <td>-8.038303</td>\n",
       "    </tr>\n",
       "    <tr>\n",
       "      <th>25%</th>\n",
       "      <td>1.155221</td>\n",
       "      <td>2.041509</td>\n",
       "    </tr>\n",
       "    <tr>\n",
       "      <th>50%</th>\n",
       "      <td>2.901166</td>\n",
       "      <td>2.770452</td>\n",
       "    </tr>\n",
       "    <tr>\n",
       "      <th>75%</th>\n",
       "      <td>4.803154</td>\n",
       "      <td>3.101980</td>\n",
       "    </tr>\n",
       "    <tr>\n",
       "      <th>max</th>\n",
       "      <td>7.483979</td>\n",
       "      <td>4.103863</td>\n",
       "    </tr>\n",
       "  </tbody>\n",
       "</table>\n",
       "</div>"
      ],
      "text/plain": [
       "                   x         y_pred\n",
       "count  400000.000000  400000.000000\n",
       "mean        3.042469       2.295065\n",
       "std         2.215849       1.479428\n",
       "min        -2.828998      -8.038303\n",
       "25%         1.155221       2.041509\n",
       "50%         2.901166       2.770452\n",
       "75%         4.803154       3.101980\n",
       "max         7.483979       4.103863"
      ]
     },
     "execution_count": 54,
     "metadata": {},
     "output_type": "execute_result"
    }
   ],
   "source": [
    "df[df['sigma']=='1'].describe()"
   ]
  },
  {
   "cell_type": "code",
   "execution_count": 29,
   "id": "b44ea078",
   "metadata": {},
   "outputs": [
    {
     "data": {
      "text/html": [
       "<div>\n",
       "<style scoped>\n",
       "    .dataframe tbody tr th:only-of-type {\n",
       "        vertical-align: middle;\n",
       "    }\n",
       "\n",
       "    .dataframe tbody tr th {\n",
       "        vertical-align: top;\n",
       "    }\n",
       "\n",
       "    .dataframe thead th {\n",
       "        text-align: right;\n",
       "    }\n",
       "</style>\n",
       "<table border=\"1\" class=\"dataframe\">\n",
       "  <thead>\n",
       "    <tr style=\"text-align: right;\">\n",
       "      <th></th>\n",
       "      <th>x</th>\n",
       "      <th>y_pred</th>\n",
       "    </tr>\n",
       "  </thead>\n",
       "  <tbody>\n",
       "    <tr>\n",
       "      <th>count</th>\n",
       "      <td>200000.000000</td>\n",
       "      <td>200000.000000</td>\n",
       "    </tr>\n",
       "    <tr>\n",
       "      <th>mean</th>\n",
       "      <td>2.700503</td>\n",
       "      <td>2.495384</td>\n",
       "    </tr>\n",
       "    <tr>\n",
       "      <th>std</th>\n",
       "      <td>2.102521</td>\n",
       "      <td>0.683697</td>\n",
       "    </tr>\n",
       "    <tr>\n",
       "      <th>min</th>\n",
       "      <td>-3.082888</td>\n",
       "      <td>-2.677177</td>\n",
       "    </tr>\n",
       "    <tr>\n",
       "      <th>25%</th>\n",
       "      <td>1.385222</td>\n",
       "      <td>2.302867</td>\n",
       "    </tr>\n",
       "    <tr>\n",
       "      <th>50%</th>\n",
       "      <td>2.745887</td>\n",
       "      <td>2.666808</td>\n",
       "    </tr>\n",
       "    <tr>\n",
       "      <th>75%</th>\n",
       "      <td>4.195591</td>\n",
       "      <td>2.845071</td>\n",
       "    </tr>\n",
       "    <tr>\n",
       "      <th>max</th>\n",
       "      <td>6.931687</td>\n",
       "      <td>5.182469</td>\n",
       "    </tr>\n",
       "  </tbody>\n",
       "</table>\n",
       "</div>"
      ],
      "text/plain": [
       "                   x         y_pred\n",
       "count  200000.000000  200000.000000\n",
       "mean        2.700503       2.495384\n",
       "std         2.102521       0.683697\n",
       "min        -3.082888      -2.677177\n",
       "25%         1.385222       2.302867\n",
       "50%         2.745887       2.666808\n",
       "75%         4.195591       2.845071\n",
       "max         6.931687       5.182469"
      ]
     },
     "execution_count": 29,
     "metadata": {},
     "output_type": "execute_result"
    }
   ],
   "source": [
    "df[df['sigma']=='our model'].describe()"
   ]
  },
  {
   "cell_type": "code",
   "execution_count": 16,
   "id": "6a4ecde4",
   "metadata": {},
   "outputs": [
    {
     "ename": "SyntaxError",
     "evalue": "invalid syntax (<ipython-input-16-c08c43de4870>, line 43)",
     "output_type": "error",
     "traceback": [
      "\u001b[0;36m  File \u001b[0;32m\"<ipython-input-16-c08c43de4870>\"\u001b[0;36m, line \u001b[0;32m43\u001b[0m\n\u001b[0;31m    \"gamma\":{\"concentration\":[1,2,3,4],\"rate\":[1,1,,2,2]}\u001b[0m\n\u001b[0m                                                   ^\u001b[0m\n\u001b[0;31mSyntaxError\u001b[0m\u001b[0;31m:\u001b[0m invalid syntax\n"
     ]
    }
   ],
   "source": [
    "## prepare data\n",
    "\n",
    "m1=-2\n",
    "m2=3.\n",
    "sig1=1.\n",
    "sig2=1.\n",
    "\n",
    "weight = np.array([1.,2.,3.,4.])\n",
    "p = np.array([1,2,5,6.])\n",
    "gamma = np.array([5,6.,1.,4.])\n",
    "n_l =100\n",
    "n_u = 100\n",
    "def radial_basic_function(x,p,gamma):\n",
    "    \"\"\"\n",
    "    This function for scalar inputs\n",
    "    \"\"\"\n",
    "    return np.exp(np.concatenate([-(x-p_)**2/gam**2 for p_,gam in zip(p,gamma)],axis=1))\n",
    "\n",
    "x_l = np.random.normal(m1,np.sqrt(sig1),size=n_l)\n",
    "x_u = np.random.normal(m2,np.sqrt(sig2),size=n_u)\n",
    "\n",
    "y = np.random.normal(0,0.3,size=n_l) + np.matmul(radial_basic_function(x_l,p,gamma),weight) \n",
    "y_u = np.random.normal(0,0.3,size=n_u) +  np.matmul(radial_basic_function(x_u,p,gamma),weight) \n",
    "\n",
    "## change to tensor\n",
    "true_params = {\"weight\":weight,\n",
    "               \"m1\":m1,\n",
    "               \"m2\":m2,\n",
    "                \"p\":p,\n",
    "                \"gamma\":gamma,\n",
    "               \"sigma1\":sig1,\n",
    "               \"sigma2\":sig2,\n",
    "                }\n",
    "data = {\"x_l\": torch.from_numpy(x_l),\n",
    "        \"x_u\":torch.from_numpy(x_u),\n",
    "        \"y\":torch.from_numpy(y),\n",
    "    \n",
    "        \"n_l\":n_l,\n",
    "        \"n_u\":n_u}\n",
    "\n",
    "prior = {\"weight\":{\"mean\":[-1,-4.,-3,-2],\"std\":[1.,2.,5,6.]},\n",
    "         \"p\":{\"mean\":[2,-6,6,-3],\"std\":[5,4,7,1]},\n",
    "         \"gamma\":{\"concentration\":[1,2,3,4],\"rate\":[1,1,,2,2]}\n",
    "         \"m1\":[-5,5],\n",
    "         \"m2\":[-5,5],\n",
    "         \"sigma1\":[1,3],\n",
    "         \"sigma2\":[4,4]}\n",
    "\n",
    "toy = ToyExmaple()\n",
    "prior_samples,samples = toy.inference(toy.model,prior,data)"
   ]
  },
  {
   "cell_type": "code",
   "execution_count": 4,
   "id": "df92af6b",
   "metadata": {},
   "outputs": [
    {
     "name": "stderr",
     "output_type": "stream",
     "text": [
      "Sample: 100%|██████████| 20200/20200 [01:30, 224.14it/s, step size=7.58e-01, acc. prob=0.902]\n"
     ]
    }
   ],
   "source": [
    "prior_samples_2,samples_2 = toy.inference(toy.model_2,prior,data)"
   ]
  },
  {
   "cell_type": "code",
   "execution_count": 14,
   "id": "c24853be",
   "metadata": {
    "tags": []
   },
   "outputs": [
    {
     "name": "stderr",
     "output_type": "stream",
     "text": [
      "/home/phuocbui/.local/share/virtualenvs/reimplement-5tNh0ajX/lib/python3.6/site-packages/seaborn/distributions.py:2557: FutureWarning: `distplot` is a deprecated function and will be removed in a future version. Please adapt your code to use either `displot` (a figure-level function with similar flexibility) or `histplot` (an axes-level function for histograms).\n",
      "  warnings.warn(msg, FutureWarning)\n",
      "/home/phuocbui/.local/share/virtualenvs/reimplement-5tNh0ajX/lib/python3.6/site-packages/seaborn/distributions.py:2557: FutureWarning: `distplot` is a deprecated function and will be removed in a future version. Please adapt your code to use either `displot` (a figure-level function with similar flexibility) or `histplot` (an axes-level function for histograms).\n",
      "  warnings.warn(msg, FutureWarning)\n",
      "/home/phuocbui/.local/share/virtualenvs/reimplement-5tNh0ajX/lib/python3.6/site-packages/seaborn/distributions.py:2557: FutureWarning: `distplot` is a deprecated function and will be removed in a future version. Please adapt your code to use either `displot` (a figure-level function with similar flexibility) or `histplot` (an axes-level function for histograms).\n",
      "  warnings.warn(msg, FutureWarning)\n",
      "/home/phuocbui/.local/share/virtualenvs/reimplement-5tNh0ajX/lib/python3.6/site-packages/seaborn/distributions.py:2557: FutureWarning: `distplot` is a deprecated function and will be removed in a future version. Please adapt your code to use either `displot` (a figure-level function with similar flexibility) or `histplot` (an axes-level function for histograms).\n",
      "  warnings.warn(msg, FutureWarning)\n",
      "/home/phuocbui/.local/share/virtualenvs/reimplement-5tNh0ajX/lib/python3.6/site-packages/seaborn/distributions.py:2557: FutureWarning: `distplot` is a deprecated function and will be removed in a future version. Please adapt your code to use either `displot` (a figure-level function with similar flexibility) or `histplot` (an axes-level function for histograms).\n",
      "  warnings.warn(msg, FutureWarning)\n",
      "/home/phuocbui/.local/share/virtualenvs/reimplement-5tNh0ajX/lib/python3.6/site-packages/seaborn/distributions.py:2557: FutureWarning: `distplot` is a deprecated function and will be removed in a future version. Please adapt your code to use either `displot` (a figure-level function with similar flexibility) or `histplot` (an axes-level function for histograms).\n",
      "  warnings.warn(msg, FutureWarning)\n"
     ]
    },
    {
     "data": {
      "image/png": "[encoded data removed]",
      "text/plain": [
       "<Figure size 864x360 with 3 Axes>"
      ]
     },
     "metadata": {
      "needs_background": "light"
     },
     "output_type": "display_data"
    }
   ],
   "source": [
    "sites = list(prior_samples.keys())\n",
    "fig, axs = plt.subplots(nrows=1, ncols=len(sites), figsize=(12, 5))\n",
    "fig.suptitle(\"Prior Checking\", fontsize=16)\n",
    "for i, ax in enumerate(axs.reshape(-1)):\n",
    "    site = sites[i]\n",
    "    sns.distplot(prior_samples[site], ax=ax, label=\"Prior\")\n",
    "    sns.distplot(data[site].cpu().numpy(), ax=ax, label=\"True\")\n",
    "    ax.set_title(site)\n",
    "handles, labels = ax.get_legend_handles_labels()\n",
    "fig.legend(handles, labels, loc='upper right');"
   ]
  },
  {
   "cell_type": "code",
   "execution_count": 6,
   "id": "9c3a26ad",
   "metadata": {},
   "outputs": [
    {
     "name": "stderr",
     "output_type": "stream",
     "text": [
      "/home/phuocbui/.local/share/virtualenvs/reimplement-5tNh0ajX/lib/python3.6/site-packages/seaborn/distributions.py:2557: FutureWarning: `distplot` is a deprecated function and will be removed in a future version. Please adapt your code to use either `displot` (a figure-level function with similar flexibility) or `histplot` (an axes-level function for histograms).\n",
      "  warnings.warn(msg, FutureWarning)\n",
      "/home/phuocbui/.local/share/virtualenvs/reimplement-5tNh0ajX/lib/python3.6/site-packages/seaborn/distributions.py:2557: FutureWarning: `distplot` is a deprecated function and will be removed in a future version. Please adapt your code to use either `displot` (a figure-level function with similar flexibility) or `histplot` (an axes-level function for histograms).\n",
      "  warnings.warn(msg, FutureWarning)\n",
      "/home/phuocbui/.local/share/virtualenvs/reimplement-5tNh0ajX/lib/python3.6/site-packages/seaborn/distributions.py:2557: FutureWarning: `distplot` is a deprecated function and will be removed in a future version. Please adapt your code to use either `displot` (a figure-level function with similar flexibility) or `histplot` (an axes-level function for histograms).\n",
      "  warnings.warn(msg, FutureWarning)\n",
      "/home/phuocbui/.local/share/virtualenvs/reimplement-5tNh0ajX/lib/python3.6/site-packages/seaborn/distributions.py:2557: FutureWarning: `distplot` is a deprecated function and will be removed in a future version. Please adapt your code to use either `displot` (a figure-level function with similar flexibility) or `histplot` (an axes-level function for histograms).\n",
      "  warnings.warn(msg, FutureWarning)\n",
      "/home/phuocbui/.local/share/virtualenvs/reimplement-5tNh0ajX/lib/python3.6/site-packages/seaborn/distributions.py:2557: FutureWarning: `distplot` is a deprecated function and will be removed in a future version. Please adapt your code to use either `displot` (a figure-level function with similar flexibility) or `histplot` (an axes-level function for histograms).\n",
      "  warnings.warn(msg, FutureWarning)\n",
      "/home/phuocbui/.local/share/virtualenvs/reimplement-5tNh0ajX/lib/python3.6/site-packages/seaborn/distributions.py:2557: FutureWarning: `distplot` is a deprecated function and will be removed in a future version. Please adapt your code to use either `displot` (a figure-level function with similar flexibility) or `histplot` (an axes-level function for histograms).\n",
      "  warnings.warn(msg, FutureWarning)\n"
     ]
    },
    {
     "data": {
      "image/png": "[encoded data removed]",
      "text/plain": [
       "<Figure size 864x360 with 3 Axes>"
      ]
     },
     "metadata": {
      "needs_background": "light"
     },
     "output_type": "display_data"
    }
   ],
   "source": [
    "sites = list(prior_samples_2.keys())\n",
    "fig, axs = plt.subplots(nrows=1, ncols=len(sites), figsize=(12, 5))\n",
    "fig.suptitle(\"Prior Checking\", fontsize=16)\n",
    "for i, ax in enumerate(axs.reshape(-1)):\n",
    "    site = sites[i]\n",
    "    sns.distplot(prior_samples_2[site], ax=ax, label=\"Prior\")\n",
    "    sns.distplot(data[site].cpu().numpy(), ax=ax, label=\"True\")\n",
    "    ax.set_title(site)\n",
    "handles, labels = ax.get_legend_handles_labels()\n",
    "fig.legend(handles, labels, loc='upper right');"
   ]
  },
  {
   "cell_type": "code",
   "execution_count": 7,
   "id": "3318b6e6",
   "metadata": {},
   "outputs": [
    {
     "name": "stderr",
     "output_type": "stream",
     "text": [
      "/home/phuocbui/.local/share/virtualenvs/reimplement-5tNh0ajX/lib/python3.6/site-packages/seaborn/distributions.py:2557: FutureWarning: `distplot` is a deprecated function and will be removed in a future version. Please adapt your code to use either `displot` (a figure-level function with similar flexibility) or `histplot` (an axes-level function for histograms).\n",
      "  warnings.warn(msg, FutureWarning)\n",
      "/home/phuocbui/.local/share/virtualenvs/reimplement-5tNh0ajX/lib/python3.6/site-packages/seaborn/distributions.py:2557: FutureWarning: `distplot` is a deprecated function and will be removed in a future version. Please adapt your code to use either `displot` (a figure-level function with similar flexibility) or `histplot` (an axes-level function for histograms).\n",
      "  warnings.warn(msg, FutureWarning)\n",
      "/home/phuocbui/.local/share/virtualenvs/reimplement-5tNh0ajX/lib/python3.6/site-packages/seaborn/distributions.py:2557: FutureWarning: `distplot` is a deprecated function and will be removed in a future version. Please adapt your code to use either `displot` (a figure-level function with similar flexibility) or `histplot` (an axes-level function for histograms).\n",
      "  warnings.warn(msg, FutureWarning)\n",
      "/home/phuocbui/.local/share/virtualenvs/reimplement-5tNh0ajX/lib/python3.6/site-packages/seaborn/distributions.py:2557: FutureWarning: `distplot` is a deprecated function and will be removed in a future version. Please adapt your code to use either `displot` (a figure-level function with similar flexibility) or `histplot` (an axes-level function for histograms).\n",
      "  warnings.warn(msg, FutureWarning)\n",
      "/home/phuocbui/.local/share/virtualenvs/reimplement-5tNh0ajX/lib/python3.6/site-packages/seaborn/distributions.py:2557: FutureWarning: `distplot` is a deprecated function and will be removed in a future version. Please adapt your code to use either `displot` (a figure-level function with similar flexibility) or `histplot` (an axes-level function for histograms).\n",
      "  warnings.warn(msg, FutureWarning)\n",
      "/home/phuocbui/.local/share/virtualenvs/reimplement-5tNh0ajX/lib/python3.6/site-packages/seaborn/distributions.py:2557: FutureWarning: `distplot` is a deprecated function and will be removed in a future version. Please adapt your code to use either `displot` (a figure-level function with similar flexibility) or `histplot` (an axes-level function for histograms).\n",
      "  warnings.warn(msg, FutureWarning)\n"
     ]
    },
    {
     "data": {
      "image/png": "[encoded data removed]",
      "text/plain": [
       "<Figure size 864x360 with 6 Axes>"
      ]
     },
     "metadata": {
      "needs_background": "light"
     },
     "output_type": "display_data"
    }
   ],
   "source": [
    "true_params = {\"a\":a,\n",
    "               \"b\":b,\n",
    "               \"m1\":m1,\n",
    "               \"m2\":m2,\n",
    "               \"sigma1\":sig1,\n",
    "               \"sigma2\":sig2,\n",
    "                }\n",
    "sites = list(samples.keys())\n",
    "fig, axs = plt.subplots(nrows=1, ncols=len(sites), figsize=(12, 5))\n",
    "fig.suptitle(\"Posterior Checking\", fontsize=16)\n",
    "for i, ax in enumerate(axs.reshape(-1)):\n",
    "    site = sites[i]\n",
    "    sns.distplot(samples[site], ax=ax, label=\"posterior\")\n",
    "    ax.axvline(true_params[site],ymin=0,ymax=1,color='red',label='True')\n",
    "    ax.set_title(site)\n",
    "handles, labels = ax.get_legend_handles_labels()\n",
    "fig.legend(handles, labels, loc='upper right');"
   ]
  },
  {
   "cell_type": "code",
   "execution_count": 8,
   "id": "4b7c04d5",
   "metadata": {},
   "outputs": [
    {
     "name": "stderr",
     "output_type": "stream",
     "text": [
      "/home/phuocbui/.local/share/virtualenvs/reimplement-5tNh0ajX/lib/python3.6/site-packages/seaborn/distributions.py:2557: FutureWarning: `distplot` is a deprecated function and will be removed in a future version. Please adapt your code to use either `displot` (a figure-level function with similar flexibility) or `histplot` (an axes-level function for histograms).\n",
      "  warnings.warn(msg, FutureWarning)\n",
      "/home/phuocbui/.local/share/virtualenvs/reimplement-5tNh0ajX/lib/python3.6/site-packages/seaborn/distributions.py:2557: FutureWarning: `distplot` is a deprecated function and will be removed in a future version. Please adapt your code to use either `displot` (a figure-level function with similar flexibility) or `histplot` (an axes-level function for histograms).\n",
      "  warnings.warn(msg, FutureWarning)\n",
      "/home/phuocbui/.local/share/virtualenvs/reimplement-5tNh0ajX/lib/python3.6/site-packages/seaborn/distributions.py:2557: FutureWarning: `distplot` is a deprecated function and will be removed in a future version. Please adapt your code to use either `displot` (a figure-level function with similar flexibility) or `histplot` (an axes-level function for histograms).\n",
      "  warnings.warn(msg, FutureWarning)\n",
      "/home/phuocbui/.local/share/virtualenvs/reimplement-5tNh0ajX/lib/python3.6/site-packages/seaborn/distributions.py:2557: FutureWarning: `distplot` is a deprecated function and will be removed in a future version. Please adapt your code to use either `displot` (a figure-level function with similar flexibility) or `histplot` (an axes-level function for histograms).\n",
      "  warnings.warn(msg, FutureWarning)\n",
      "/home/phuocbui/.local/share/virtualenvs/reimplement-5tNh0ajX/lib/python3.6/site-packages/seaborn/distributions.py:2557: FutureWarning: `distplot` is a deprecated function and will be removed in a future version. Please adapt your code to use either `displot` (a figure-level function with similar flexibility) or `histplot` (an axes-level function for histograms).\n",
      "  warnings.warn(msg, FutureWarning)\n",
      "/home/phuocbui/.local/share/virtualenvs/reimplement-5tNh0ajX/lib/python3.6/site-packages/seaborn/distributions.py:2557: FutureWarning: `distplot` is a deprecated function and will be removed in a future version. Please adapt your code to use either `displot` (a figure-level function with similar flexibility) or `histplot` (an axes-level function for histograms).\n",
      "  warnings.warn(msg, FutureWarning)\n"
     ]
    },
    {
     "data": {
      "image/png": "[encoded data removed]",
      "text/plain": [
       "<Figure size 864x360 with 6 Axes>"
      ]
     },
     "metadata": {
      "needs_background": "light"
     },
     "output_type": "display_data"
    }
   ],
   "source": [
    "\n",
    "sites = list(samples_2.keys())\n",
    "fig, axs = plt.subplots(nrows=1, ncols=len(sites), figsize=(12, 5))\n",
    "fig.suptitle(\"Posterior Checking\", fontsize=16)\n",
    "for i, ax in enumerate(axs.reshape(-1)):\n",
    "    site = sites[i]\n",
    "    sns.distplot(samples_2[site], ax=ax, label=\"posterior\")\n",
    "    ax.axvline(true_params[site],ymin=0,ymax=1,color='red',label='True')\n",
    "    ax.set_title(site)\n",
    "handles, labels = ax.get_legend_handles_labels()\n",
    "fig.legend(handles, labels, loc='upper right');"
   ]
  },
  {
   "cell_type": "code",
   "execution_count": 9,
   "id": "0f8971b7",
   "metadata": {},
   "outputs": [
    {
     "name": "stdout",
     "output_type": "stream",
     "text": [
      "model 1 error: 2.578187138541312\n",
      "model 2 error: 0.8441672325121912\n"
     ]
    },
    {
     "data": {
      "image/png": "[encoded data removed]",
      "text/plain": [
       "<Figure size 360x360 with 1 Axes>"
      ]
     },
     "metadata": {
      "needs_background": "light"
     },
     "output_type": "display_data"
    }
   ],
   "source": [
    "import matplotlib.pyplot as plt\n",
    "import seaborn as sns\n",
    " \n",
    "    \n",
    "\n",
    "fig,axes = plt.subplots(figsize=(5,5))\n",
    "predict_df = pd.DataFrame(columns=['x','y_pred','sigma'])\n",
    "model_params = np.array([samples['a'],samples['b']]).T\n",
    "model_1_params = np.array([samples_2['a'],samples_2['b']]).T\n",
    "covariate = np.concatenate([radial_basic_function(x_u,1.,3.).reshape(-1,1), radial_basic_function(x_u,2,4.).reshape(-1,1)],axis=1)\n",
    "# wrong_covariate =  np.concatenate([np.ones_like(x_u).reshape(-1,1),x_u.reshape(-1,1)],axis=1)\n",
    "# y_u = np.sum( covariate * np.array([a,b]) ,axis=1)\n",
    "our_model_error = np.mean((y_u - np.matmul(covariate ,np.mean(model_params,axis=0,keepdims=True).T))**2)#0.0\n",
    "sig_1_model_error = np.mean((y_u - np.matmul(covariate ,np.mean(model_1_params,axis=0,keepdims=True).T))**2)#0.0\n",
    "\n",
    "print(f\"model 1 error: {our_model_error}\")\n",
    "print(f\"model 2 error: {sig_1_model_error}\")\n",
    "\n",
    "# for i in range(len(x_u)):\n",
    "#     predict_df = pd.concat([predict_df,pd.DataFrame({'x':np.tile(x_u[i],len(model_params)),'y_pred':np.sum(model_params * covariate[i],axis=1),\n",
    "#                                     'sigma':['our model']*len(model_params)})])\n",
    "#     # our_model_error += np.sum((y_u[i] - np.sum(model_params * covariate[i],axis=1))**2)\n",
    "#     predict_df = pd.concat([predict_df,pd.DataFrame({'x':np.tile(x_u[i],len(model_1_params)),'y_pred':np.sum(model_1_params * covariate[i],axis=1),\n",
    "#                                     'sigma':['1']*len(model_1_params)})])\n",
    "    # sig_1_model_error += np.sum((y_u[i] - np.sum(model_1_params * covariate[i],axis=1))**2)\n",
    "predict_df_1 = pd.DataFrame({'x':np.tile(x_u,len(model_params)),'y_pred':np.matmul(model_params,covariate.T).flatten(),\\\n",
    "                                     'sigma':['our model']*len(model_params) * len(x_u) })\n",
    "predict_df_2 = pd.DataFrame({'x':np.tile(x_u,len(model_1_params)),'y_pred':np.matmul(model_1_params,covariate.T).flatten(),\\\n",
    "                                     'sigma':['1']*len(model_1_params) * len(x_u) })\n",
    "\n",
    "predict_df = pd.concat([predict_df_1,predict_df_2])\n",
    "axes.set_title(\"Our model Error {:.3f}, {} model error {:.3f}\".format(our_model_error\\\n",
    "                ,r'$\\sigma=1$',sig_1_model_error))\n",
    "axes.plot(x_u,y_u,'ro',label=\"unlabel data\")\n",
    "axes.plot(x_l,y,'go',label=\"label data\" )\n",
    "\n",
    "pseu_do = np.linspace(min(min(x_u),min(x_l)),max(max(x_l),max(x_u)),100)\n",
    "axes.plot(pseu_do,np.sum( np.concatenate([radial_basic_function(pseu_do,1.,3.).reshape(-1,1), \\\n",
    "                                          radial_basic_function(pseu_do,2,4.).reshape(-1,1)],axis=1) * np.array([a,b]) ,axis=1),'-.',label=\"true func\" )\n",
    "\n",
    "sns.lineplot(data=predict_df, x=\"x\", y=\"y_pred\", hue=\"sigma\",ax=axes,ci='sd')\n",
    "plt.show()"
   ]
  },
  {
   "cell_type": "code",
   "execution_count": null,
   "id": "be9ae231",
   "metadata": {},
   "outputs": [
    {
     "name": "stderr",
     "output_type": "stream",
     "text": [
      "Sample: 100%|██████████| 20200/20200 [01:22, 245.18it/s, step size=5.86e-01, acc. prob=0.928]\n",
      "Sample:  20%|██        | 4092/20200 [00:18, 257.01it/s, step size=4.26e-01, acc. prob=0.930]"
     ]
    }
   ],
   "source": [
    "prior_samples,samples = toy.inference(toy.model_wrong,prior,data)\n",
    "prior_samples_2,samples_2 = toy.inference(toy.model_2_wrong,prior,data)"
   ]
  },
  {
   "cell_type": "code",
   "execution_count": null,
   "id": "957d8798",
   "metadata": {},
   "outputs": [],
   "source": [
    "sites = list(prior_samples.keys())\n",
    "fig, axs = plt.subplots(nrows=1, ncols=len(sites), figsize=(12, 5))\n",
    "fig.suptitle(\"Prior Checking\", fontsize=16)\n",
    "for i, ax in enumerate(axs.reshape(-1)):\n",
    "    site = sites[i]\n",
    "    sns.distplot(prior_samples[site], ax=ax, label=\"Prior\")\n",
    "    sns.distplot(data[site].cpu().numpy(), ax=ax, label=\"True\")\n",
    "    ax.set_title(site)\n",
    "handles, labels = ax.get_legend_handles_labels()\n",
    "fig.legend(handles, labels, loc='upper right');"
   ]
  },
  {
   "cell_type": "code",
   "execution_count": null,
   "id": "9e45ea5c",
   "metadata": {},
   "outputs": [],
   "source": [
    "sites = list(prior_samples_2.keys())\n",
    "fig, axs = plt.subplots(nrows=1, ncols=len(sites), figsize=(12, 5))\n",
    "fig.suptitle(\"Prior Checking\", fontsize=16)\n",
    "for i, ax in enumerate(axs.reshape(-1)):\n",
    "    site = sites[i]\n",
    "    sns.distplot(prior_samples_2[site], ax=ax, label=\"Prior\")\n",
    "    sns.distplot(data[site].cpu().numpy(), ax=ax, label=\"True\")\n",
    "    ax.set_title(site)\n",
    "handles, labels = ax.get_legend_handles_labels()\n",
    "fig.legend(handles, labels, loc='upper right');"
   ]
  },
  {
   "cell_type": "code",
   "execution_count": null,
   "id": "2b861383",
   "metadata": {},
   "outputs": [],
   "source": [
    "true_params = {\"a\":a,\n",
    "               \"b\":b,\n",
    "               \"m1\":m1,\n",
    "               \"m2\":m2,\n",
    "               \"sigma1\":sig1,\n",
    "               \"sigma2\":sig2,\n",
    "                }\n",
    "sites = list(samples.keys())\n",
    "fig, axs = plt.subplots(nrows=1, ncols=len(sites), figsize=(12, 5))\n",
    "fig.suptitle(\"Posterior Checking\", fontsize=16)\n",
    "for i, ax in enumerate(axs.reshape(-1)):\n",
    "    site = sites[i]\n",
    "    sns.distplot(samples[site], ax=ax, label=\"posterior\")\n",
    "    ax.axvline(true_params[site],ymin=0,ymax=1,color='red',label='True')\n",
    "    ax.set_title(site)\n",
    "handles, labels = ax.get_legend_handles_labels()\n",
    "fig.legend(handles, labels, loc='upper right');"
   ]
  },
  {
   "cell_type": "code",
   "execution_count": null,
   "id": "5f7c8bcc",
   "metadata": {},
   "outputs": [],
   "source": [
    "\n",
    "sites = list(samples_2.keys())\n",
    "fig, axs = plt.subplots(nrows=1, ncols=len(sites), figsize=(12, 5))\n",
    "fig.suptitle(\"Posterior Checking\", fontsize=16)\n",
    "for i, ax in enumerate(axs.reshape(-1)):\n",
    "    site = sites[i]\n",
    "    sns.distplot(samples_2[site], ax=ax, label=\"posterior\")\n",
    "    ax.axvline(true_params[site],ymin=0,ymax=1,color='red',label='True')\n",
    "    ax.set_title(site)\n",
    "handles, labels = ax.get_legend_handles_labels()\n",
    "fig.legend(handles, labels, loc='upper right');"
   ]
  },
  {
   "cell_type": "code",
   "execution_count": null,
   "id": "eb244202",
   "metadata": {},
   "outputs": [],
   "source": [
    "import matplotlib.pyplot as plt\n",
    "import seaborn as sns\n",
    " \n",
    "    \n",
    "\n",
    "fig,axes = plt.subplots(figsize=(5,5))\n",
    "predict_df = pd.DataFrame(columns=['x','y_pred','sigma'])\n",
    "model_params = np.array([samples['a'],samples['b']]).T\n",
    "model_1_params = np.array([samples_2['a'],samples_2['b']]).T\n",
    "# covariate = np.concatenate([radial_basic_function(x_u,1.,3.).reshape(-1,1), radial_basic_function(x_u,2,4.).reshape(-1,1)],axis=1)\n",
    "wrong_covariate =  np.concatenate([np.ones_like(x_u).reshape(-1,1),x_u.reshape(-1,1)],axis=1)\n",
    "# y_u = np.sum( covariate * np.array([a,b]) ,axis=1)\n",
    "our_model_error = np.mean((y_u - np.matmul(wrong_covariate ,np.mean(model_params,axis=0,keepdims=True).T))**2)#0.0\n",
    "sig_1_model_error = np.mean((y_u - np.matmul(wrong_covariate ,np.mean(model_1_params,axis=0,keepdims=True).T))**2)#0.0\n",
    "\n",
    "print(f\"model 1 error: {our_model_error}\")\n",
    "print(f\"model 2 error: {sig_1_model_error}\")\n",
    "\n",
    "# for i in range(len(x_u)):\n",
    "#     predict_df = pd.concat([predict_df,pd.DataFrame({'x':np.tile(x_u[i],len(model_params)),'y_pred':np.sum(model_params * covariate[i],axis=1),\n",
    "#                                     'sigma':['our model']*len(model_params)})])\n",
    "#     # our_model_error += np.sum((y_u[i] - np.sum(model_params * covariate[i],axis=1))**2)\n",
    "#     predict_df = pd.concat([predict_df,pd.DataFrame({'x':np.tile(x_u[i],len(model_1_params)),'y_pred':np.sum(model_1_params * covariate[i],axis=1),\n",
    "#                                     'sigma':['1']*len(model_1_params)})])\n",
    "    # sig_1_model_error += np.sum((y_u[i] - np.sum(model_1_params * covariate[i],axis=1))**2)\n",
    "predict_df_1 = pd.DataFrame({'x':np.tile(x_u,len(model_params)),'y_pred':np.matmul(model_params,wrong_covariate.T).flatten(),\\\n",
    "                                     'sigma':['our model']*len(model_params) * len(x_u) })\n",
    "predict_df_2 = pd.DataFrame({'x':np.tile(x_u,len(model_1_params)),'y_pred':np.matmul(model_1_params,wrong_covariate.T).flatten(),\\\n",
    "                                     'sigma':['1']*len(model_1_params) * len(x_u) })\n",
    "\n",
    "predict_df = pd.concat([predict_df_1,predict_df_2])\n",
    "axes.set_title(\"Our model Error {:.3f}, {} model error {:.3f}\".format(our_model_error\\\n",
    "                ,r'$\\sigma=1$',sig_1_model_error))\n",
    "axes.plot(x_u,y_u,'ro',label=\"unlabel data\")\n",
    "axes.plot(x_l,y,'go',label=\"label data\" )\n",
    "\n",
    "pseu_do = np.linspace(min(min(x_u),min(x_l)),max(max(x_l),max(x_u)),100)\n",
    "axes.plot(pseu_do,np.sum( np.concatenate([radial_basic_function(pseu_do,1.,3.).reshape(-1,1), \\\n",
    "                                          radial_basic_function(pseu_do,2,4.).reshape(-1,1)],axis=1) * np.array([a,b]) ,axis=1),'-.',label=\"true func\" )\n",
    "\n",
    "sns.lineplot(data=predict_df, x=\"x\", y=\"y_pred\", hue=\"sigma\",ax=axes,ci='sd')\n",
    "plt.show()"
   ]
  },
  {
   "cell_type": "markdown",
   "id": "a9ad1355",
   "metadata": {},
   "source": [
    "## Square "
   ]
  },
  {
   "cell_type": "code",
   "execution_count": null,
   "id": "756be6dd",
   "metadata": {},
   "outputs": [],
   "source": [
    "from sklearn.neighbors import KNeighborsClassifier,NearestNeighbors,DistanceMetric\n",
    "import numpy as np\n",
    "\n",
    "from pyro.infer import MCMC, NUTS,HMC\n",
    "        \n",
    "\n",
    "M = 5\n",
    "neigh = NearestNeighbors(metric='euclidean',n_neighbors=M)\n",
    "\n",
    "def radial_basic_function(x,p,gamma):\n",
    "    \"\"\"\n",
    "    This function for scalar inputs\n",
    "    \"\"\"\n",
    "    return np.exp(-(x-p)**2/gamma**2) + np.random.normal(0,1,size=x.shape)\n",
    "\n",
    "\n",
    "def covariate_export(x):\n",
    "    ##\n",
    "    # return np.concatenate([x.reshape(-1,1)**3,-x.reshape(-1,1),np.zeros_like(x).reshape(-1,1)],axis=1)\n",
    "    ### using RBF\n",
    "    return np.concatenate([radial_basic_function(x.reshape(-1,1),2.,1.),radial_basic_function(x.reshape(-1,1),4.,2.)],axis=1)\n",
    "\n",
    "def covariate_misclassify_export(x):\n",
    "    return np.concatenate([x.reshape(-1,1),np.ones_like(x).reshape(-1,1),np.zeros_like(x).reshape(-1,1)],axis=1)\n",
    "\n",
    "def new_model(x_l, x_u, y):\n",
    "    a = pyro.sample(\"a\", dist.Normal(0., 10.))\n",
    "    b = pyro.sample(\"b\", dist.Normal(0., 10.))\n",
    "#     b_r = pyro.sample(\"bR\", dist.Normal(0., 1.))\n",
    "#     b_ar = pyro.sample(\"bAR\", dist.Normal(0., 1.))\n",
    "    m1 = pyro.sample(\"m1\", dist.Normal(0., 10.))\n",
    "    m2 = pyro.sample(\"m2\", dist.Normal(0., 10.))\n",
    "    \n",
    "    sigma1 = pyro.sample(\"sigma1\", dist.InverseGamma(1, 1))\n",
    "    sigma2 = pyro.sample(\"sigma2\", dist.InverseGamma(1, 1))\n",
    "                         \n",
    "    with pyro.plate(\"x_L\", len(x_l)):\n",
    "        pyro.sample(\"obs_x\", dist.Normal(m1, sigma1), obs=x_l)\n",
    "    with pyro.plate(\"x_U\", len(x_u)):\n",
    "        pyro.sample(\"unobs_x\", dist.Normal(m2, sigma2), obs=x_u)\n",
    "        \n",
    "    mean = a  + b*x_l\n",
    "    \n",
    "    neigh.fit(x_u.cpu().detach().numpy().reshape(-1,1))\n",
    "    distance ,idx = neigh.kneighbors(x_l.cpu().detach().numpy().reshape(-1,1)) ## shape n_x,M\n",
    "    neigh.fit(x_l.cpu().detach().numpy().reshape(-1,1))\n",
    "    self_distance,_ = neigh.kneighbors() ## shape n_x,M\n",
    "    sigma = np.sum(distance,axis=1)/np.sum(self_distance,axis=1)\n",
    "    sigma = torch.from_numpy(sigma)\n",
    "    with pyro.plate(\"y\", len(x_l)):\n",
    "        pyro.sample(\"obs_y\", dist.Normal(mean, np.sqrt(sigma)), obs=y)   \n",
    "\n",
    "        \n",
    "def new_model_2(x_l, x_u, y):\n",
    "    a = pyro.sample(\"a\", dist.Normal(0., 10.))\n",
    "    b = pyro.sample(\"b\", dist.Normal(0., 10.))\n",
    "#     b_r = pyro.sample(\"bR\", dist.Normal(0., 1.))\n",
    "#     b_ar = pyro.sample(\"bAR\", dist.Normal(0., 1.))\n",
    "    m1 = pyro.sample(\"m1\", dist.Normal(0., 10.))\n",
    "    m2 = pyro.sample(\"m2\", dist.Normal(0., 10.))\n",
    "    \n",
    "    sigma1 = pyro.sample(\"sigma1\", dist.InverseGamma(1, 1))\n",
    "    sigma2 = pyro.sample(\"sigma2\", dist.InverseGamma(1, 1))\n",
    "                         \n",
    "    with pyro.plate(\"x_L\", len(x_l)):\n",
    "        pyro.sample(\"obs_x\", dist.Normal(m1, sigma1), obs=x_l)\n",
    "    with pyro.plate(\"x_U\", len(x_u)):\n",
    "        pyro.sample(\"unobs_x\", dist.Normal(m2, sigma2), obs=x_u)\n",
    "        \n",
    "    mean = a  + b*x_l\n",
    "\n",
    "    with pyro.plate(\"y\", len(x_l)):\n",
    "        pyro.sample(\"obs_y\", dist.Normal(mean, 1.), obs=y) \n",
    "        \n",
    "\n",
    "m1=-2\n",
    "m2=5.5\n",
    "sig1=1.\n",
    "sig2=1.\n",
    "a=1\n",
    "b=2\n",
    "n_l =100\n",
    "n_u = 100\n",
    "x_l = np.random.normal(m1,np.sqrt(sig1),size=n_l)\n",
    "x_u = np.random.normal(m2,np.sqrt(sig2),size=n_u)\n",
    "y = np.random.normal(0,0.3,size=n_l) + x_l *a + b * x_l**2\n",
    "# nuts_kernel = NUTS(new_model_2)\n",
    "hmc_kernel =  HMC(new_model, step_size=0.0855, num_steps=4)\n",
    "mcmc = MCMC(hmc_kernel, num_samples=10000, warmup_steps=200)\n",
    "mcmc.run(torch.from_numpy(x_l),torch.from_numpy(x_u),torch.from_numpy(y))\n",
    "\n",
    "hmc_samples_1 = {k: v.detach().cpu().numpy() for k, v in mcmc.get_samples().items()}\n",
    "\n",
    "hmc_kernel =  HMC(new_model_2, step_size=0.0855, num_steps=4)\n",
    "mcmc = MCMC(hmc_kernel, num_samples=10000, warmup_steps=200)\n",
    "mcmc.run(torch.from_numpy(x_l),torch.from_numpy(x_u),torch.from_numpy(y))\n",
    "hmc_samples_2 = {k: v.detach().cpu().numpy() for k, v in mcmc.get_samples().items()}"
   ]
  },
  {
   "cell_type": "code",
   "execution_count": 25,
   "id": "2003b709",
   "metadata": {},
   "outputs": [
    {
     "name": "stdout",
     "output_type": "stream",
     "text": [
      "model 1 error: 30.23774753726438\n",
      "model 2 error: 243.39635258105676\n"
     ]
    },
    {
     "data": {
      "image/png": "[encoded data removed]",
      "text/plain": [
       "<Figure size 360x360 with 1 Axes>"
      ]
     },
     "metadata": {
      "needs_background": "light"
     },
     "output_type": "display_data"
    }
   ],
   "source": [
    "import matplotlib.pyplot as plt\n",
    "import seaborn as sns\n",
    " \n",
    "    \n",
    "\n",
    "fig,axes = plt.subplots(figsize=(5,5))\n",
    "predict_df = pd.DataFrame(columns=['x','y_pred','sigma'])\n",
    "model_1_params = np.array([hmc_samples_2['a'],hmc_samples_2['b']]).T\n",
    "model_params = np.array([hmc_samples_1['a'],hmc_samples_1['b']]).T\n",
    "covariate = np.concatenate([x_u.reshape(-1,1),x_u.reshape(-1,1)**2],axis=1)\n",
    "wrong_covariate =  np.concatenate([np.ones_like(x_u).reshape(-1,1),x_u.reshape(-1,1)],axis=1)\n",
    "y_u = np.sum( covariate * np.array([a,b]) ,axis=1)\n",
    "our_model_error = np.mean((y_u - np.matmul(wrong_covariate ,np.mean(model_params,axis=0,keepdims=True).T))**2)#0.0\n",
    "sig_1_model_error = np.mean((y_u - np.matmul(wrong_covariate ,np.mean(model_1_params,axis=0,keepdims=True).T))**2)#0.0\n",
    "\n",
    "print(f\"model 1 error: {our_model_error}\")\n",
    "print(f\"model 2 error: {sig_1_model_error}\")\n",
    "\n",
    "# for i in range(len(x_u)):\n",
    "#     predict_df = pd.concat([predict_df,pd.DataFrame({'x':np.tile(x_u[i],len(model_params)),'y_pred':np.sum(model_params * covariate[i],axis=1),\n",
    "#                                     'sigma':['our model']*len(model_params)})])\n",
    "#     # our_model_error += np.sum((y_u[i] - np.sum(model_params * covariate[i],axis=1))**2)\n",
    "#     predict_df = pd.concat([predict_df,pd.DataFrame({'x':np.tile(x_u[i],len(model_1_params)),'y_pred':np.sum(model_1_params * covariate[i],axis=1),\n",
    "#                                     'sigma':['1']*len(model_1_params)})])\n",
    "    # sig_1_model_error += np.sum((y_u[i] - np.sum(model_1_params * covariate[i],axis=1))**2)\n",
    "predict_df_1 = pd.DataFrame({'x':np.tile(x_u,len(model_params)),'y_pred':np.matmul(model_params,wrong_covariate.T).flatten(),\\\n",
    "                                     'sigma':['our model']*len(model_params) * len(x_u) })\n",
    "predict_df_2 = pd.DataFrame({'x':np.tile(x_u,len(model_1_params)),'y_pred':np.matmul(model_1_params,wrong_covariate.T).flatten(),\\\n",
    "                                     'sigma':['1']*len(model_1_params) * len(x_u) })\n",
    "\n",
    "predict_df = pd.concat([predict_df_1,predict_df_2])\n",
    "axes.set_title(\"Our model Error {:.3f}, {} model error {:.3f}\".format(our_model_error\\\n",
    "                ,r'$\\sigma=1$',sig_1_model_error))\n",
    "axes.plot(x_u,y_u,'ro',label=\"unlabel data\")\n",
    "axes.plot(x_l,y,'go',label=\"label data\" )\n",
    "\n",
    "pseu_do = np.linspace(min(min(x_u),min(x_l)),max(max(x_l),max(x_u)),100)\n",
    "axes.plot(pseu_do,np.sum( np.concatenate([pseu_do.reshape(-1,1),pseu_do.reshape(-1,1)**2],axis=1) * np.array([a,b]) ,axis=1),'-.',label=\"true func\" )\n",
    "sns.lineplot(data=predict_df, x=\"x\", y=\"y_pred\", hue=\"sigma\",ax=axes,ci='sd')\n",
    "plt.show()"
   ]
  }
 ],
 "metadata": {
  "interpreter": {
   "hash": "a817a2a7ef8f2d12fce343cefe658da794af7168b49387f6974a56af674d483d"
  },
  "kernelspec": {
   "display_name": "Python 3",
   "language": "python",
   "name": "python3"
  },
  "language_info": {
   "codemirror_mode": {
    "name": "ipython",
    "version": 3
   },
   "file_extension": ".py",
   "mimetype": "text/x-python",
   "name": "python",
   "nbconvert_exporter": "python",
   "pygments_lexer": "ipython3",
   "version": "3.6.9"
  }
 },
 "nbformat": 4,
 "nbformat_minor": 5
}
