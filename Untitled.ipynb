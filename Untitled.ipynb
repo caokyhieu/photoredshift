{
 "cells": [
  {
   "cell_type": "code",
   "execution_count": 1,
   "id": "b4927eb9-3d9e-46c3-bbc0-4cb966badbfe",
   "metadata": {},
   "outputs": [],
   "source": [
    "import numpy as np\n",
    "import torch\n",
    "import pyro\n"
   ]
  },
  {
   "cell_type": "code",
   "execution_count": 2,
   "id": "5362f2f5-1ab6-4b5a-96e1-1d62a6ea5837",
   "metadata": {},
   "outputs": [
    {
     "name": "stdout",
     "output_type": "stream",
     "text": [
      "sample tensor(0.5250)\n",
      "log prob tensor(-1.0567)\n"
     ]
    }
   ],
   "source": [
    "loc = 0.   # mean zero\n",
    "scale = 1. # unit variance\n",
    "normal = torch.distributions.Normal(loc, scale) # create a normal distribution object\n",
    "x = normal.rsample() # draw a sample from N(0,1)\n",
    "print(\"sample\", x)\n",
    "print(\"log prob\", normal.log_prob(x)) # score the sample from N(0,1)"
   ]
  },
  {
   "cell_type": "code",
   "execution_count": 3,
   "id": "87b8c4f6-828d-45a6-af07-1935f24ccadd",
   "metadata": {},
   "outputs": [],
   "source": [
    "def weather():\n",
    "    cloudy = torch.distributions.Bernoulli(0.3).sample()\n",
    "    cloudy = 'cloudy' if cloudy.item() == 1.0 else 'sunny'\n",
    "    mean_temp = {'cloudy': 55.0, 'sunny': 75.0}[cloudy]\n",
    "    scale_temp = {'cloudy': 10.0, 'sunny': 15.0}[cloudy]\n",
    "    temp = torch.distributions.Normal(mean_temp, scale_temp).rsample()\n",
    "    return cloudy, temp.item()"
   ]
  },
  {
   "cell_type": "code",
   "execution_count": 12,
   "id": "f30263e9-0410-4989-8733-3bf2c387cf53",
   "metadata": {},
   "outputs": [
    {
     "name": "stdout",
     "output_type": "stream",
     "text": [
      "tensor(0.2638)\n"
     ]
    }
   ],
   "source": [
    "x = pyro.sample(\"my_sample\", pyro.distributions.Normal(loc, scale))\n",
    "print(x)"
   ]
  },
  {
   "cell_type": "code",
   "execution_count": 13,
   "id": "522ff7ee-23fa-4c73-aed2-90a0e20dffe9",
   "metadata": {},
   "outputs": [
    {
     "name": "stdout",
     "output_type": "stream",
     "text": [
      "('cloudy', 49.15452194213867)\n",
      "('sunny', 51.496917724609375)\n",
      "('sunny', 81.95269775390625)\n"
     ]
    }
   ],
   "source": [
    "def weather():\n",
    "    cloudy = pyro.sample('cloudy', pyro.distributions.Bernoulli(0.3))\n",
    "    cloudy = 'cloudy' if cloudy.item() == 1.0 else 'sunny'\n",
    "    mean_temp = {'cloudy': 55.0, 'sunny': 75.0}[cloudy]\n",
    "    scale_temp = {'cloudy': 10.0, 'sunny': 15.0}[cloudy]\n",
    "    temp = pyro.sample('temp', pyro.distributions.Normal(mean_temp, scale_temp))\n",
    "    return cloudy, temp.item()\n",
    "\n",
    "for _ in range(3):\n",
    "    print(weather())"
   ]
  },
  {
   "cell_type": "code",
   "execution_count": 14,
   "id": "3119e487-38f1-4f4c-9a13-1ac2b803764e",
   "metadata": {},
   "outputs": [],
   "source": [
    "def ice_cream_sales():\n",
    "    cloudy, temp = weather()\n",
    "    expected_sales = 200. if cloudy == 'sunny' and temp > 80.0 else 50.\n",
    "    ice_cream = pyro.sample('ice_cream', pyro.distributions.Normal(expected_sales, 10.0))\n",
    "    return ice_cream"
   ]
  },
  {
   "cell_type": "code",
   "execution_count": 22,
   "id": "6886bcce-caea-4507-bee8-5ecd1b314b15",
   "metadata": {},
   "outputs": [
    {
     "name": "stdout",
     "output_type": "stream",
     "text": [
      "22\n"
     ]
    }
   ],
   "source": [
    "def geometric(p, t=None):\n",
    "    if t is None:\n",
    "        t = 0\n",
    "    x = pyro.sample(\"x_{}\".format(t), pyro.distributions.Bernoulli(p))\n",
    "    if x.item() == 1:\n",
    "        return 0\n",
    "    else:\n",
    "        return 1 + geometric(p, t + 1)\n",
    "\n",
    "print(geometric(0.01))"
   ]
  },
  {
   "cell_type": "code",
   "execution_count": 23,
   "id": "409403aa-670b-4c9b-b621-846282f2046c",
   "metadata": {},
   "outputs": [
    {
     "name": "stdout",
     "output_type": "stream",
     "text": [
      "tensor(1.1205)\n"
     ]
    }
   ],
   "source": [
    "def normal_product(loc, scale):\n",
    "    z1 = pyro.sample(\"z1\", pyro.distributions.Normal(loc, scale))\n",
    "    z2 = pyro.sample(\"z2\", pyro.distributions.Normal(loc, scale))\n",
    "    y = z1 * z2\n",
    "    return y\n",
    "\n",
    "def make_normal_normal():\n",
    "    mu_latent = pyro.sample(\"mu_latent\", pyro.distributions.Normal(0, 1))\n",
    "    fn = lambda scale: normal_product(mu_latent, scale)\n",
    "    return fn\n",
    "\n",
    "print(make_normal_normal()(1.))"
   ]
  },
  {
   "cell_type": "markdown",
   "id": "e6a2fc3a-0e81-4630-b8a8-81d5e19510f8",
   "metadata": {},
   "source": [
    "## An Introduction to Inference in Pyro"
   ]
  },
  {
   "cell_type": "code",
   "execution_count": 24,
   "id": "eaa54380-edd6-4187-b33e-c20b6cc1daf2",
   "metadata": {},
   "outputs": [],
   "source": [
    "import matplotlib.pyplot as plt\n",
    "import numpy as np\n",
    "import torch\n",
    "\n",
    "import pyro\n",
    "import pyro.infer\n",
    "import pyro.optim\n",
    "import pyro.distributions as dist\n",
    "\n",
    "pyro.set_rng_seed(101)"
   ]
  },
  {
   "cell_type": "code",
   "execution_count": 35,
   "id": "3202532e-b580-4d63-8068-2e88269b2e6b",
   "metadata": {},
   "outputs": [],
   "source": [
    "def scale(guess):\n",
    "    weight = pyro.sample(\"weight\", dist.Normal(guess, 1.0))\n",
    "    return pyro.sample(\"measurement\", dist.Normal(weight, 0.75))\n"
   ]
  },
  {
   "cell_type": "code",
   "execution_count": 39,
   "id": "732f9d7a-a47f-424d-9cac-eebdd73ea3b2",
   "metadata": {},
   "outputs": [],
   "source": [
    "conditioned_scale = pyro.condition(scale, data={\"measurement\": torch.tensor(9.5)})\n"
   ]
  },
  {
   "cell_type": "code",
   "execution_count": 27,
   "id": "1655837e-9b66-4e10-948c-f07cf3da942d",
   "metadata": {},
   "outputs": [],
   "source": [
    "def deferred_conditioned_scale(measurement, guess):\n",
    "    return pyro.condition(scale, data={\"measurement\": measurement})(guess)"
   ]
  },
  {
   "cell_type": "code",
   "execution_count": 28,
   "id": "d3aa71e5-792d-4f8c-a8f0-eadcb60b977c",
   "metadata": {},
   "outputs": [],
   "source": [
    "def scale_obs(guess):  # equivalent to conditioned_scale above\n",
    "    weight = pyro.sample(\"weight\", dist.Normal(guess, 1.))\n",
    "     # here we condition on measurement == 9.5\n",
    "    return pyro.sample(\"measurement\", dist.Normal(weight, 0.75), obs=9.5)"
   ]
  },
  {
   "cell_type": "code",
   "execution_count": 29,
   "id": "90eb0980-15ea-4e90-ae05-1bb09a990105",
   "metadata": {},
   "outputs": [],
   "source": [
    "def perfect_guide(guess):\n",
    "    loc =(0.75**2 * guess + 9.5) / (1 + 0.75**2) # 9.14\n",
    "    scale = np.sqrt(0.75**2/(1 + 0.75**2)) # 0.6\n",
    "    return pyro.sample(\"weight\", dist.Normal(loc, scale))"
   ]
  },
  {
   "cell_type": "code",
   "execution_count": 30,
   "id": "2af51c0a-c0e3-4add-84ce-3da909c69d16",
   "metadata": {},
   "outputs": [],
   "source": [
    "def intractable_scale(guess):\n",
    "    weight = pyro.sample(\"weight\", dist.Normal(guess, 1.0))\n",
    "    return pyro.sample(\"measurement\", dist.Normal(some_nonlinear_function(weight), 0.75))"
   ]
  },
  {
   "cell_type": "code",
   "execution_count": 37,
   "id": "69b6cc9e-4f11-421c-84f4-0b0198453a5b",
   "metadata": {},
   "outputs": [],
   "source": [
    "def scale_parametrized_guide(guess):\n",
    "    a = pyro.param(\"a\", torch.tensor(guess))\n",
    "    b = pyro.param(\"b\", torch.tensor(1.))\n",
    "    return pyro.sample(\"weight\", dist.Normal(a, torch.abs(b)))"
   ]
  },
  {
   "cell_type": "code",
   "execution_count": 32,
   "id": "719bd96a-7070-4576-afda-e2491e01e55f",
   "metadata": {},
   "outputs": [],
   "source": [
    "from torch.distributions import constraints\n",
    "\n",
    "def scale_parametrized_guide_constrained(guess):\n",
    "    a = pyro.param(\"a\", torch.tensor(guess))\n",
    "    b = pyro.param(\"b\", torch.tensor(1.), constraint=constraints.positive)\n",
    "    return pyro.sample(\"weight\", dist.Normal(a, b))  # no more torch.abs"
   ]
  },
  {
   "cell_type": "code",
   "execution_count": 40,
   "id": "05e07b4c-dd9e-425f-af64-8023d1d89e8b",
   "metadata": {},
   "outputs": [
    {
     "name": "stdout",
     "output_type": "stream",
     "text": [
      "a =  9.111556053161621\n",
      "b =  0.6287863850593567\n"
     ]
    },
    {
     "data": {
      "image/png": "[encoded data removed]",
      "text/plain": [
       "<Figure size 432x288 with 1 Axes>"
      ]
     },
     "metadata": {
      "needs_background": "light"
     },
     "output_type": "display_data"
    }
   ],
   "source": [
    "guess = 8.5\n",
    "\n",
    "pyro.clear_param_store()\n",
    "svi = pyro.infer.SVI(model=conditioned_scale,\n",
    "                     guide=scale_parametrized_guide,\n",
    "                     optim=pyro.optim.SGD({\"lr\": 0.001, \"momentum\":0.1}),\n",
    "                     loss=pyro.infer.Trace_ELBO())\n",
    "\n",
    "\n",
    "losses, a,b  = [], [], []\n",
    "num_steps = 2500\n",
    "for t in range(num_steps):\n",
    "    losses.append(svi.step(guess))\n",
    "    a.append(pyro.param(\"a\").item())\n",
    "    b.append(pyro.param(\"b\").item())\n",
    "\n",
    "plt.plot(losses)\n",
    "plt.title(\"ELBO\")\n",
    "plt.xlabel(\"step\")\n",
    "plt.ylabel(\"loss\");\n",
    "print('a = ',pyro.param(\"a\").item())\n",
    "print('b = ', pyro.param(\"b\").item())"
   ]
  },
  {
   "cell_type": "markdown",
   "id": "aad036e5-5275-416c-a616-c23e3c7acc32",
   "metadata": {},
   "source": [
    "### SVI Part I: An Introduction to Stochastic Variational Inference in Pyro"
   ]
  },
  {
   "cell_type": "code",
   "execution_count": 41,
   "id": "18935f85-c5d4-486a-9c06-6bee573c09ba",
   "metadata": {},
   "outputs": [],
   "source": [
    "import pyro.distributions as dist\n",
    "\n",
    "def model(data):\n",
    "    # define the hyperparameters that control the beta prior\n",
    "    alpha0 = torch.tensor(10.0)\n",
    "    beta0 = torch.tensor(10.0)\n",
    "    # sample f from the beta prior\n",
    "    f = pyro.sample(\"latent_fairness\", dist.Beta(alpha0, beta0))\n",
    "    # loop over the observed data\n",
    "    for i in range(len(data)):\n",
    "        # observe datapoint i using the bernoulli\n",
    "        # likelihood Bernoulli(f)\n",
    "        pyro.sample(\"obs_{}\".format(i), dist.Bernoulli(f), obs=data[i])"
   ]
  },
  {
   "cell_type": "code",
   "execution_count": 42,
   "id": "a8ee1c07-7d6b-4e71-8d6a-7a11bb917faa",
   "metadata": {},
   "outputs": [],
   "source": [
    "def guide(data):\n",
    "    # register the two variational parameters with Pyro.\n",
    "    alpha_q = pyro.param(\"alpha_q\", torch.tensor(15.0),\n",
    "                         constraint=constraints.positive)\n",
    "    beta_q = pyro.param(\"beta_q\", torch.tensor(15.0),\n",
    "                        constraint=constraints.positive)\n",
    "    # sample latent_fairness from the distribution Beta(alpha_q, beta_q)\n",
    "    pyro.sample(\"latent_fairness\", dist.Beta(alpha_q, beta_q))"
   ]
  },
  {
   "cell_type": "code",
   "execution_count": 43,
   "id": "44780f7e-d5a6-4ee2-ab7b-6b0b33f38e41",
   "metadata": {},
   "outputs": [
    {
     "name": "stdout",
     "output_type": "stream",
     "text": [
      "....................\n",
      "based on the data and our prior belief, the fairness of the coin is 0.527 +- 0.090\n"
     ]
    }
   ],
   "source": [
    "import math\n",
    "import os\n",
    "import torch\n",
    "import torch.distributions.constraints as constraints\n",
    "import pyro\n",
    "from pyro.optim import Adam\n",
    "from pyro.infer import SVI, Trace_ELBO\n",
    "import pyro.distributions as dist\n",
    "\n",
    "# this is for running the notebook in our testing framework\n",
    "smoke_test = ('CI' in os.environ)\n",
    "n_steps = 2 if smoke_test else 2000\n",
    "\n",
    "assert pyro.__version__.startswith('1.6.0')\n",
    "\n",
    "# clear the param store in case we're in a REPL\n",
    "pyro.clear_param_store()\n",
    "\n",
    "# create some data with 6 observed heads and 4 observed tails\n",
    "data = []\n",
    "for _ in range(6):\n",
    "    data.append(torch.tensor(1.0))\n",
    "for _ in range(4):\n",
    "    data.append(torch.tensor(0.0))\n",
    "\n",
    "def model(data):\n",
    "    # define the hyperparameters that control the beta prior\n",
    "    alpha0 = torch.tensor(10.0)\n",
    "    beta0 = torch.tensor(10.0)\n",
    "    # sample f from the beta prior\n",
    "    f = pyro.sample(\"latent_fairness\", dist.Beta(alpha0, beta0))\n",
    "    # loop over the observed data\n",
    "    for i in range(len(data)):\n",
    "        # observe datapoint i using the bernoulli likelihood\n",
    "        pyro.sample(\"obs_{}\".format(i), dist.Bernoulli(f), obs=data[i])\n",
    "\n",
    "def guide(data):\n",
    "    # register the two variational parameters with Pyro\n",
    "    # - both parameters will have initial value 15.0.\n",
    "    # - because we invoke constraints.positive, the optimizer\n",
    "    # will take gradients on the unconstrained parameters\n",
    "    # (which are related to the constrained parameters by a log)\n",
    "    alpha_q = pyro.param(\"alpha_q\", torch.tensor(15.0),\n",
    "                         constraint=constraints.positive)\n",
    "    beta_q = pyro.param(\"beta_q\", torch.tensor(15.0),\n",
    "                        constraint=constraints.positive)\n",
    "    # sample latent_fairness from the distribution Beta(alpha_q, beta_q)\n",
    "    pyro.sample(\"latent_fairness\", dist.Beta(alpha_q, beta_q))\n",
    "\n",
    "# setup the optimizer\n",
    "adam_params = {\"lr\": 0.0005, \"betas\": (0.90, 0.999)}\n",
    "optimizer = Adam(adam_params)\n",
    "\n",
    "# setup the inference algorithm\n",
    "svi = SVI(model, guide, optimizer, loss=Trace_ELBO())\n",
    "\n",
    "# do gradient steps\n",
    "for step in range(n_steps):\n",
    "    svi.step(data)\n",
    "    if step % 100 == 0:\n",
    "        print('.', end='')\n",
    "\n",
    "# grab the learned variational parameters\n",
    "alpha_q = pyro.param(\"alpha_q\").item()\n",
    "beta_q = pyro.param(\"beta_q\").item()\n",
    "\n",
    "# here we use some facts about the beta distribution\n",
    "# compute the inferred mean of the coin's fairness\n",
    "inferred_mean = alpha_q / (alpha_q + beta_q)\n",
    "# compute inferred standard deviation\n",
    "factor = beta_q / (alpha_q * (1.0 + alpha_q + beta_q))\n",
    "inferred_std = inferred_mean * math.sqrt(factor)\n",
    "\n",
    "print(\"\\nbased on the data and our prior belief, the fairness \" +\n",
    "      \"of the coin is %.3f +- %.3f\" % (inferred_mean, inferred_std))"
   ]
  },
  {
   "cell_type": "code",
   "execution_count": 1,
   "id": "7a7d72a3-cb46-43a4-91df-88ed5e878336",
   "metadata": {},
   "outputs": [
    {
     "name": "stdout",
     "output_type": "stream",
     "text": [
      "........................................"
     ]
    },
    {
     "data": {
      "image/png": "[encoded data removed]",
      "text/plain": [
       "<Figure size 432x288 with 1 Axes>"
      ]
     },
     "metadata": {
      "needs_background": "light"
     },
     "output_type": "display_data"
    }
   ],
   "source": [
    "# this is for running the notebook in our testing framework\n",
    "import numpy as np\n",
    "import math\n",
    "import os\n",
    "import torch\n",
    "import torch.distributions.constraints as constraints\n",
    "import pyro\n",
    "from pyro.optim import Adam\n",
    "from pyro.infer import SVI, Trace_ELBO\n",
    "import pyro.distributions as dist\n",
    "import matplotlib.pyplot as plt\n",
    "assert pyro.__version__.startswith('1.6.0')\n",
    "\n",
    "# clear the param store in case we're in a REPL\n",
    "pyro.clear_param_store()\n",
    "n_steps=4000\n",
    "# create some data with 6 observed heads and 4 observed tails\n",
    "data = np.array([(15,7),(2,2),(20,5),(35,23),(13,10),(1,0),(19,6),(27,18),(21,10),(43,31)])\n",
    "data = torch.from_numpy(data)\n",
    "\n",
    "\n",
    "\n",
    "def sample_model(data):\n",
    "    a1 = torch.tensor(1.0)\n",
    "    a2 = torch.tensor(1/10.0)\n",
    "    b1 = torch.tensor(1.0)\n",
    "    b2 = torch.tensor(1/10.0)\n",
    "    beta = torch.tensor(1.0)\n",
    "    alpha = torch.tensor(0.57/0.43)\n",
    "    \n",
    "    ## define global alpha beta\n",
    "    glob_alpha = pyro.sample(\"global_alpha\", dist.Gamma(a1, a2))\n",
    "    glob_beta = pyro.sample(\"global_beta\", dist.Gamma(b1, b2))\n",
    "    \n",
    "   # loop over theta and observed data\n",
    "#     theta = []\n",
    "#     for i in range(len(data)):\n",
    "    for i in pyro.plate(\"data_loop\", len(data)):\n",
    "        # observe datapoint i using the bernoulli likelihood\n",
    "        theta = pyro.sample(\"theta_{}\".format(i), dist.Beta(glob_alpha,glob_beta))\n",
    "        pyro.sample(\"obs_{}\".format(i), dist.Binomial(data[i][0],theta),obs=data[i][1])\n",
    "    \n",
    "def guide(data):\n",
    "    # register the two variational parameters with Pyro\n",
    "    # - both parameters will have initial value 15.0.\n",
    "    # - because we invoke constraints.positive, the optimizer\n",
    "    # will take gradients on the unconstrained parameters\n",
    "    # (which are related to the constrained parameters by a log)\n",
    "    alpha1 = pyro.param(\"alpha1\", torch.tensor(5.0),\n",
    "                         constraint=constraints.positive)\n",
    "    alpha2 = pyro.param(\"alpha2\", torch.tensor(5.0),\n",
    "                        constraint=constraints.positive)\n",
    "    \n",
    "    beta1 = pyro.param(\"beta1\", torch.tensor(5.0),\n",
    "                         constraint=constraints.positive)\n",
    "    beta2 = pyro.param(\"beta2\", torch.tensor(5.0),\n",
    "                        constraint=constraints.positive)\n",
    "    \n",
    "    # sample global latent variable\n",
    "    pyro.sample(\"global_alpha\", dist.Weibull(alpha1, alpha2))\n",
    "    pyro.sample(\"global_beta\", dist.Weibull(beta1, beta2))\n",
    "    \n",
    "    ### sample local latent variable\n",
    "    for i in pyro.plate(\"data_loop\", len(data)):\n",
    "        a = pyro.param(\"a_{}\".format(i), torch.tensor(5.0),\n",
    "                         constraint=constraints.positive)\n",
    "        b = pyro.param(\"b_{}\".format(i), torch.tensor(5.0),\n",
    "                         constraint=constraints.positive)\n",
    "        \n",
    "        pyro.sample(\"theta_{}\".format(i), dist.Beta(a, b))\n",
    "        \n",
    "    \n",
    "    \n",
    "    \n",
    "# setup the optimizer\n",
    "adam_params = {\"lr\": 0.0003, \"betas\": (0.90, 0.999)}\n",
    "optimizer = Adam(adam_params)\n",
    "\n",
    "# setup the inference algorithm\n",
    "svi = SVI(sample_model, guide, optimizer, loss=Trace_ELBO(num_particles=10))\n",
    "\n",
    "# do gradient steps\n",
    "\n",
    "losses, a1,a2  = [], [], []\n",
    "\n",
    "for step in range(n_steps):\n",
    "#     svi.step(data)\n",
    "    losses.append(svi.step(data))\n",
    "    a1.append(pyro.param(\"alpha1\").item())\n",
    "    a2.append(pyro.param(\"alpha2\").item())\n",
    "    if step % 100 == 0:\n",
    "        print('.', end='')\n",
    "\n",
    "        \n",
    "\n",
    "# grab the learned variational parameters\n",
    "# alpha_1 = pyro.param(\"alpha1\").item()\n",
    "# alpha_2 = pyro.param(\"alpha2\").item()\n",
    "# beta_1 = pyro.param(\"beta1\").item()\n",
    "# beta_2 = pyro.param(\"beta2\").item()\n",
    "plt.plot(losses)\n",
    "plt.title(\"ELBO\")\n",
    "plt.xlabel(\"step\")\n",
    "plt.ylabel(\"loss\");\n",
    "# print('a = ',pyro.param(\"a\").item())\n",
    "# print('b = ', pyro.param(\"b\").item())\n",
    "# # here we use some facts about the beta distribution\n",
    "# # compute the inferred mean of the coin's fairness\n",
    "# inferred_mean = alpha_q / (alpha_q + beta_q)\n",
    "# # compute inferred standard deviation\n",
    "# factor = beta_q / (alpha_q * (1.0 + alpha_q + beta_q))\n",
    "# inferred_std = inferred_mean * math.sqrt(factor)\n",
    "\n",
    "    \n",
    "    \n",
    "    "
   ]
  },
  {
   "cell_type": "code",
   "execution_count": 2,
   "id": "75ea2ea0-2c1e-43df-bb9c-2694e4b32b4c",
   "metadata": {},
   "outputs": [],
   "source": [
    "alpha_1 = pyro.param(\"alpha1\").item()\n",
    "alpha_2 = pyro.param(\"alpha2\").item()"
   ]
  },
  {
   "cell_type": "code",
   "execution_count": 19,
   "id": "a81ec6dd-c31e-42c1-939b-b94d95a8b596",
   "metadata": {},
   "outputs": [
    {
     "name": "stderr",
     "output_type": "stream",
     "text": [
      "Sample: 100%|██████████| 2000/2000 [05:20,  6.24it/s, step size=1.74e-01, acc. prob=0.920]\n"
     ]
    }
   ],
   "source": [
    "from pyro.infer.mcmc import MCMC, NUTS\n",
    "kernel = NUTS(sample_model)\n",
    "m8_1stan = MCMC(kernel, num_samples=1000)\n",
    "m8_1stan.run(data)"
   ]
  },
  {
   "cell_type": "code",
   "execution_count": 25,
   "id": "1c841133-7b15-4760-9359-354621f38dcd",
   "metadata": {},
   "outputs": [
    {
     "name": "stdout",
     "output_type": "stream",
     "text": [
      "\n",
      "                    mean       std    median      5.0%     95.0%     n_eff     r_hat\n",
      "  global_alpha      8.72      5.55      7.43      1.74     16.20    274.92      1.00\n",
      "   global_beta      7.05      4.13      6.09      1.45     12.98    276.08      1.00\n",
      "       theta_0      0.51      0.10      0.51      0.35      0.67    981.83      1.00\n",
      "       theta_1      0.61      0.14      0.61      0.40      0.84   1378.22      1.00\n",
      "       theta_2      0.37      0.09      0.38      0.21      0.51    523.09      1.01\n",
      "       theta_3      0.62      0.07      0.63      0.52      0.74    631.61      1.01\n",
      "       theta_4      0.66      0.10      0.66      0.49      0.81    932.36      1.00\n",
      "       theta_5      0.50      0.15      0.51      0.23      0.73    792.69      1.00\n",
      "       theta_6      0.42      0.09      0.41      0.26      0.57    628.01      1.00\n",
      "       theta_7      0.63      0.08      0.63      0.50      0.77    740.71      1.00\n",
      "       theta_8      0.50      0.08      0.50      0.37      0.65    924.53      1.00\n",
      "       theta_9      0.68      0.06      0.68      0.58      0.79    609.54      1.00\n",
      "\n",
      "Number of divergences: 0\n"
     ]
    }
   ],
   "source": [
    "m8_1stan.summary()"
   ]
  },
  {
   "cell_type": "code",
   "execution_count": 42,
   "id": "fb324010-e3c9-4094-af8c-48ed1084757d",
   "metadata": {},
   "outputs": [],
   "source": [
    "import matplotlib.pyplot as plt\n",
    "n_bins=10\n",
    "aa = m8_1stan.get_samples()['global_alpha'].numpy()\n",
    "bb = m8_1stan.get_samples()['global_beta'].numpy()\n",
    "fig, axs = plt.subplots(1, 2, sharey=True, tight_layout=True)\n",
    "axs[0].hist(aa, bins=n_bins)\n",
    "axs[0].axvline(x=np.mean(aa),color=\"red\")\n",
    "axs[0].set_xlabel('Alpha')\n",
    "axs[0].set_ylabel('Freq')\n",
    "axs[1].hist(bb, bins=n_bins)\n",
    "axs[1].axvline(x=np.mean(bb),color=\"red\")\n",
    "axs[1].set_xlabel('Beta')\n",
    "axs[1].set_ylabel('Freq')\n",
    "fig.savefig('gibbs_sample_1.png')\n",
    "plt.close('all')"
   ]
  },
  {
   "cell_type": "code",
   "execution_count": null,
   "id": "242a3809-fdac-418c-b8a6-f2da05b4c211",
   "metadata": {},
   "outputs": [],
   "source": [
    "# ### define model to test MCMC\n",
    "# import scipy.stats as stats\n",
    "# data = stats.multivariate_normal(mean=[1,1],cov=[[1,1/4],[1/4,1]]).rvs(100)\n",
    "# data =torch.from_numpy(data)    "
   ]
  },
  {
   "cell_type": "code",
   "execution_count": 24,
   "id": "3583c763-70db-499a-a7cf-0387a8cb610b",
   "metadata": {},
   "outputs": [
    {
     "ename": "AssertionError",
     "evalue": "trace_dist must be trace posterior distribution object",
     "output_type": "error",
     "traceback": [
      "\u001b[0;31m---------------------------------------------------------------------------\u001b[0m",
      "\u001b[0;31mAssertionError\u001b[0m                            Traceback (most recent call last)",
      "\u001b[0;32m<ipython-input-24-c9f0e047ba66>\u001b[0m in \u001b[0;36m<module>\u001b[0;34m\u001b[0m\n\u001b[1;32m      1\u001b[0m \u001b[0;32mfrom\u001b[0m \u001b[0mpyro\u001b[0m\u001b[0;34m.\u001b[0m\u001b[0minfer\u001b[0m\u001b[0;34m.\u001b[0m\u001b[0mabstract_infer\u001b[0m \u001b[0;32mimport\u001b[0m \u001b[0mEmpiricalMarginal\u001b[0m\u001b[0;34m\u001b[0m\u001b[0;34m\u001b[0m\u001b[0m\n\u001b[0;32m----> 2\u001b[0;31m \u001b[0mposterior\u001b[0m \u001b[0;34m=\u001b[0m \u001b[0mEmpiricalMarginal\u001b[0m\u001b[0;34m(\u001b[0m\u001b[0mm8_1stan\u001b[0m\u001b[0;34m,\u001b[0m \u001b[0;34m'global_alpha'\u001b[0m\u001b[0;34m)\u001b[0m\u001b[0;34m\u001b[0m\u001b[0;34m\u001b[0m\u001b[0m\n\u001b[0m",
      "\u001b[0;32m~/.local/share/virtualenvs/reimplement-5tNh0ajX/lib/python3.6/site-packages/pyro/distributions/distribution.py\u001b[0m in \u001b[0;36m__call__\u001b[0;34m(cls, *args, **kwargs)\u001b[0m\n\u001b[1;32m     16\u001b[0m             \u001b[0;32mif\u001b[0m \u001b[0mresult\u001b[0m \u001b[0;32mis\u001b[0m \u001b[0;32mnot\u001b[0m \u001b[0;32mNone\u001b[0m\u001b[0;34m:\u001b[0m\u001b[0;34m\u001b[0m\u001b[0;34m\u001b[0m\u001b[0m\n\u001b[1;32m     17\u001b[0m                 \u001b[0;32mreturn\u001b[0m \u001b[0mresult\u001b[0m\u001b[0;34m\u001b[0m\u001b[0;34m\u001b[0m\u001b[0m\n\u001b[0;32m---> 18\u001b[0;31m         \u001b[0;32mreturn\u001b[0m \u001b[0msuper\u001b[0m\u001b[0;34m(\u001b[0m\u001b[0;34m)\u001b[0m\u001b[0;34m.\u001b[0m\u001b[0m__call__\u001b[0m\u001b[0;34m(\u001b[0m\u001b[0;34m*\u001b[0m\u001b[0margs\u001b[0m\u001b[0;34m,\u001b[0m \u001b[0;34m**\u001b[0m\u001b[0mkwargs\u001b[0m\u001b[0;34m)\u001b[0m\u001b[0;34m\u001b[0m\u001b[0;34m\u001b[0m\u001b[0m\n\u001b[0m\u001b[1;32m     19\u001b[0m \u001b[0;34m\u001b[0m\u001b[0m\n\u001b[1;32m     20\u001b[0m     \u001b[0;34m@\u001b[0m\u001b[0mproperty\u001b[0m\u001b[0;34m\u001b[0m\u001b[0;34m\u001b[0m\u001b[0m\n",
      "\u001b[0;32m~/.local/share/virtualenvs/reimplement-5tNh0ajX/lib/python3.6/site-packages/pyro/infer/abstract_infer.py\u001b[0m in \u001b[0;36m__init__\u001b[0;34m(self, trace_posterior, sites, validate_args)\u001b[0m\n\u001b[1;32m     33\u001b[0m     \u001b[0;32mdef\u001b[0m \u001b[0m__init__\u001b[0m\u001b[0;34m(\u001b[0m\u001b[0mself\u001b[0m\u001b[0;34m,\u001b[0m \u001b[0mtrace_posterior\u001b[0m\u001b[0;34m,\u001b[0m \u001b[0msites\u001b[0m\u001b[0;34m=\u001b[0m\u001b[0;32mNone\u001b[0m\u001b[0;34m,\u001b[0m \u001b[0mvalidate_args\u001b[0m\u001b[0;34m=\u001b[0m\u001b[0;32mNone\u001b[0m\u001b[0;34m)\u001b[0m\u001b[0;34m:\u001b[0m\u001b[0;34m\u001b[0m\u001b[0;34m\u001b[0m\u001b[0m\n\u001b[1;32m     34\u001b[0m         \u001b[0;32massert\u001b[0m \u001b[0misinstance\u001b[0m\u001b[0;34m(\u001b[0m\u001b[0mtrace_posterior\u001b[0m\u001b[0;34m,\u001b[0m \u001b[0mTracePosterior\u001b[0m\u001b[0;34m)\u001b[0m\u001b[0;34m,\u001b[0m\u001b[0;31m \u001b[0m\u001b[0;31m\\\u001b[0m\u001b[0;34m\u001b[0m\u001b[0;34m\u001b[0m\u001b[0m\n\u001b[0;32m---> 35\u001b[0;31m             \u001b[0;34m\"trace_dist must be trace posterior distribution object\"\u001b[0m\u001b[0;34m\u001b[0m\u001b[0;34m\u001b[0m\u001b[0m\n\u001b[0m\u001b[1;32m     36\u001b[0m         \u001b[0;32mif\u001b[0m \u001b[0msites\u001b[0m \u001b[0;32mis\u001b[0m \u001b[0;32mNone\u001b[0m\u001b[0;34m:\u001b[0m\u001b[0;34m\u001b[0m\u001b[0;34m\u001b[0m\u001b[0m\n\u001b[1;32m     37\u001b[0m             \u001b[0msites\u001b[0m \u001b[0;34m=\u001b[0m \u001b[0;34m\"_RETURN\"\u001b[0m\u001b[0;34m\u001b[0m\u001b[0;34m\u001b[0m\u001b[0m\n",
      "\u001b[0;31mAssertionError\u001b[0m: trace_dist must be trace posterior distribution object"
     ]
    }
   ],
   "source": [
    "from pyro.infer.abstract_infer import EmpiricalMarginal\n",
    "posterior = EmpiricalMarginal(m8_1stan, 'global_alpha')"
   ]
  },
  {
   "cell_type": "code",
   "execution_count": 3,
   "id": "d456f040-a21a-4328-886f-5cef43fcfb4d",
   "metadata": {},
   "outputs": [
    {
     "data": {
      "text/plain": [
       "4.392040281847511"
      ]
     },
     "execution_count": 3,
     "metadata": {},
     "output_type": "execute_result"
    }
   ],
   "source": [
    "from  scipy.special import gamma as gam_f\n",
    "from  scipy.special import loggamma as log_gam_f\n",
    "\n",
    "alpha_1 * gam_f(1 + 1/alpha_2)"
   ]
  },
  {
   "cell_type": "code",
   "execution_count": 5,
   "id": "fb1388b3-2b65-437e-9db8-213e3d1f2965",
   "metadata": {},
   "outputs": [
    {
     "data": {
      "text/plain": [
       "3.6185159191858425"
      ]
     },
     "execution_count": 5,
     "metadata": {},
     "output_type": "execute_result"
    }
   ],
   "source": [
    "beta_1 = pyro.param(\"beta1\").item()\n",
    "beta_2 = pyro.param(\"beta2\").item()\n",
    "beta_1 * gam_f(1 + 1/beta_2)"
   ]
  },
  {
   "cell_type": "code",
   "execution_count": 61,
   "id": "a8c56b9d-21bd-486c-bd64-3a8b73f6baae",
   "metadata": {},
   "outputs": [
    {
     "data": {
      "text/plain": [
       "33.19880676269531"
      ]
     },
     "execution_count": 61,
     "metadata": {},
     "output_type": "execute_result"
    }
   ],
   "source": [
    "alpha_1"
   ]
  },
  {
   "cell_type": "code",
   "execution_count": 63,
   "id": "b3b48b18-ba58-46c5-852c-186b4309e662",
   "metadata": {},
   "outputs": [
    {
     "data": {
      "text/plain": [
       "0.16025587730409394"
      ]
     },
     "execution_count": 63,
     "metadata": {},
     "output_type": "execute_result"
    }
   ],
   "source": [
    "1/alpha_2"
   ]
  },
  {
   "cell_type": "code",
   "execution_count": 2,
   "id": "9935aa15-ef12-436e-b292-112e1bce1ef1",
   "metadata": {},
   "outputs": [
    {
     "name": "stderr",
     "output_type": "stream",
     "text": [
      "usage: ipykernel_launcher.py [-h] [-n [NUM_SAMPLES]]\n",
      "                             [--num-chains [NUM_CHAINS]]\n",
      "                             [--warmup-steps [WARMUP_STEPS]]\n",
      "                             [--rng_seed [RNG_SEED]] [--jit] [--cuda]\n",
      "ipykernel_launcher.py: error: unrecognized arguments: -f /home/phuocbui/.local/share/jupyter/runtime/kernel-1c41926f-9966-480c-87aa-d03f57f9ba81.json\n"
     ]
    },
    {
     "ename": "SystemExit",
     "evalue": "2",
     "output_type": "error",
     "traceback": [
      "An exception has occurred, use %tb to see the full traceback.\n",
      "\u001b[0;31mSystemExit\u001b[0m\u001b[0;31m:\u001b[0m 2\n"
     ]
    }
   ],
   "source": [
    "# Copyright (c) 2017-2019 Uber Technologies, Inc.\n",
    "# SPDX-License-Identifier: Apache-2.0\n",
    "\n",
    "import argparse\n",
    "import logging\n",
    "import math\n",
    "\n",
    "import pandas as pd\n",
    "import torch\n",
    "\n",
    "import pyro\n",
    "from pyro.distributions import Beta, Binomial, HalfCauchy, Normal, Pareto, Uniform\n",
    "from pyro.distributions.util import scalar_like\n",
    "from pyro.infer import MCMC, NUTS, Predictive\n",
    "from pyro.infer.mcmc.util import initialize_model, summary\n",
    "from pyro.util import ignore_experimental_warning\n",
    "\n",
    "\"\"\"\n",
    "Example has been adapted from [1]. It demonstrates how to do Bayesian inference using\n",
    "NUTS (or, HMC) in Pyro, and use of some common inference utilities.\n",
    "\n",
    "As in the Stan tutorial, this uses the small baseball dataset of Efron and Morris [2]\n",
    "to estimate players' batting average which is the fraction of times a player got a\n",
    "base hit out of the number of times they went up at bat.\n",
    "\n",
    "The dataset separates the initial 45 at-bats statistics from the remaining season.\n",
    "We use the hits data from the initial 45 at-bats to estimate the batting average\n",
    "for each player. We then use the remaining season's data to validate the predictions\n",
    "from our models.\n",
    "\n",
    "Three models are evaluated:\n",
    " - Complete pooling model: The success probability of scoring a hit is shared\n",
    "     amongst all players.\n",
    " - No pooling model: Each individual player's success probability is distinct and\n",
    "     there is no data sharing amongst players.\n",
    " - Partial pooling model: A hierarchical model with partial data sharing.\n",
    "\n",
    "\n",
    "We recommend Radford Neal's tutorial on HMC ([3]) to users who would like to get a\n",
    "more comprehensive understanding of HMC and its variants, and to [4] for details on\n",
    "the No U-Turn Sampler, which provides an efficient and automated way (i.e. limited\n",
    "hyper-parameters) of running HMC on different problems.\n",
    "\n",
    "[1] Carpenter B. (2016), [\"Hierarchical Partial Pooling for Repeated Binary Trials\"]\n",
    "    (http://mc-stan.org/users/documentation/case-studies/pool-binary-trials.html).\n",
    "[2] Efron B., Morris C. (1975), \"Data analysis using Stein's estimator and its\n",
    "    generalizations\", J. Amer. Statist. Assoc., 70, 311-319.\n",
    "[3] Neal, R. (2012), \"MCMC using Hamiltonian Dynamics\",\n",
    "    (https://arxiv.org/pdf/1206.1901.pdf)\n",
    "[4] Hoffman, M. D. and Gelman, A. (2014), \"The No-U-turn sampler: Adaptively setting\n",
    "    path lengths in Hamiltonian Monte Carlo\", (https://arxiv.org/abs/1111.4246)\n",
    "\"\"\"\n",
    "\n",
    "logging.basicConfig(format='%(message)s', level=logging.INFO)\n",
    "DATA_URL = \"https://d2hg8soec8ck9v.cloudfront.net/datasets/EfronMorrisBB.txt\"\n",
    "\n",
    "\n",
    "# ===================================\n",
    "#               MODELS\n",
    "# ===================================\n",
    "\n",
    "\n",
    "def fully_pooled(at_bats, hits):\n",
    "    r\"\"\"\n",
    "    Number of hits in $K$ at bats for each player has a Binomial\n",
    "    distribution with a common probability of success, $\\phi$.\n",
    "\n",
    "    :param (torch.Tensor) at_bats: Number of at bats for each player.\n",
    "    :param (torch.Tensor) hits: Number of hits for the given at bats.\n",
    "    :return: Number of hits predicted by the model.\n",
    "    \"\"\"\n",
    "    phi_prior = Uniform(scalar_like(at_bats, 0), scalar_like(at_bats, 1))\n",
    "    phi = pyro.sample(\"phi\", phi_prior)\n",
    "    num_players = at_bats.shape[0]\n",
    "    with pyro.plate(\"num_players\", num_players):\n",
    "        return pyro.sample(\"obs\", Binomial(at_bats, phi), obs=hits)\n",
    "\n",
    "\n",
    "def not_pooled(at_bats, hits):\n",
    "    r\"\"\"\n",
    "    Number of hits in $K$ at bats for each player has a Binomial\n",
    "    distribution with independent probability of success, $\\phi_i$.\n",
    "\n",
    "    :param (torch.Tensor) at_bats: Number of at bats for each player.\n",
    "    :param (torch.Tensor) hits: Number of hits for the given at bats.\n",
    "    :return: Number of hits predicted by the model.\n",
    "    \"\"\"\n",
    "    num_players = at_bats.shape[0]\n",
    "    with pyro.plate(\"num_players\", num_players):\n",
    "        phi_prior = Uniform(scalar_like(at_bats, 0), scalar_like(at_bats, 1))\n",
    "        phi = pyro.sample(\"phi\", phi_prior)\n",
    "        return pyro.sample(\"obs\", Binomial(at_bats, phi), obs=hits)\n",
    "\n",
    "\n",
    "def partially_pooled(at_bats, hits):\n",
    "    r\"\"\"\n",
    "    Number of hits has a Binomial distribution with independent\n",
    "    probability of success, $\\phi_i$. Each $\\phi_i$ follows a Beta\n",
    "    distribution with concentration parameters $c_1$ and $c_2$, where\n",
    "    $c_1 = m * kappa$, $c_2 = (1 - m) * kappa$, $m ~ Uniform(0, 1)$,\n",
    "    and $kappa ~ Pareto(1, 1.5)$.\n",
    "\n",
    "    :param (torch.Tensor) at_bats: Number of at bats for each player.\n",
    "    :param (torch.Tensor) hits: Number of hits for the given at bats.\n",
    "    :return: Number of hits predicted by the model.\n",
    "    \"\"\"\n",
    "    num_players = at_bats.shape[0]\n",
    "    m = pyro.sample(\"m\", Uniform(scalar_like(at_bats, 0), scalar_like(at_bats, 1)))\n",
    "    kappa = pyro.sample(\"kappa\", Pareto(scalar_like(at_bats, 1), scalar_like(at_bats, 1.5)))\n",
    "    with pyro.plate(\"num_players\", num_players):\n",
    "        phi_prior = Beta(m * kappa, (1 - m) * kappa)\n",
    "        phi = pyro.sample(\"phi\", phi_prior)\n",
    "        return pyro.sample(\"obs\", Binomial(at_bats, phi), obs=hits)\n",
    "\n",
    "\n",
    "def partially_pooled_with_logit(at_bats, hits):\n",
    "    r\"\"\"\n",
    "    Number of hits has a Binomial distribution with a logit link function.\n",
    "    The logits $\\alpha$ for each player is normally distributed with the\n",
    "    mean and scale parameters sharing a common prior.\n",
    "\n",
    "    :param (torch.Tensor) at_bats: Number of at bats for each player.\n",
    "    :param (torch.Tensor) hits: Number of hits for the given at bats.\n",
    "    :return: Number of hits predicted by the model.\n",
    "    \"\"\"\n",
    "    num_players = at_bats.shape[0]\n",
    "    loc = pyro.sample(\"loc\", Normal(scalar_like(at_bats, -1), scalar_like(at_bats, 1)))\n",
    "    scale = pyro.sample(\"scale\", HalfCauchy(scale=scalar_like(at_bats, 1)))\n",
    "    with pyro.plate(\"num_players\", num_players):\n",
    "        alpha = pyro.sample(\"alpha\", Normal(loc, scale))\n",
    "        return pyro.sample(\"obs\", Binomial(at_bats, logits=alpha), obs=hits)\n",
    "\n",
    "\n",
    "# ===================================\n",
    "#        DATA SUMMARIZE UTILS\n",
    "# ===================================\n",
    "\n",
    "\n",
    "def get_summary_table(posterior, sites, player_names, transforms={}, diagnostics=False, group_by_chain=False):\n",
    "    \"\"\"\n",
    "    Return summarized statistics for each of the ``sites`` in the\n",
    "    traces corresponding to the approximate posterior.\n",
    "    \"\"\"\n",
    "    site_stats = {}\n",
    "\n",
    "    for site_name in sites:\n",
    "        marginal_site = posterior[site_name].cpu()\n",
    "\n",
    "        if site_name in transforms:\n",
    "            marginal_site = transforms[site_name](marginal_site)\n",
    "\n",
    "        site_summary = summary({site_name: marginal_site}, prob=0.5, group_by_chain=group_by_chain)[site_name]\n",
    "        if site_summary[\"mean\"].shape:\n",
    "            site_df = pd.DataFrame(site_summary, index=player_names)\n",
    "        else:\n",
    "            site_df = pd.DataFrame(site_summary, index=[0])\n",
    "        if not diagnostics:\n",
    "            site_df = site_df.drop([\"n_eff\", \"r_hat\"], axis=1)\n",
    "        site_stats[site_name] = site_df.astype(float).round(2)\n",
    "\n",
    "    return site_stats\n",
    "\n",
    "\n",
    "def train_test_split(pd_dataframe):\n",
    "    \"\"\"\n",
    "    Training data - 45 initial at-bats and hits for each player.\n",
    "    Validation data - Full season at-bats and hits for each player.\n",
    "    \"\"\"\n",
    "    device = torch.Tensor().device\n",
    "    train_data = torch.tensor(pd_dataframe[[\"At-Bats\", \"Hits\"]].values, dtype=torch.float, device=device)\n",
    "    test_data = torch.tensor(pd_dataframe[[\"SeasonAt-Bats\", \"SeasonHits\"]].values, dtype=torch.float, device=device)\n",
    "    first_name = pd_dataframe[\"FirstName\"].values\n",
    "    last_name = pd_dataframe[\"LastName\"].values\n",
    "    player_names = [\" \".join([first, last]) for first, last in zip(first_name, last_name)]\n",
    "    return train_data, test_data, player_names\n",
    "\n",
    "\n",
    "# ===================================\n",
    "#       MODEL EVALUATION UTILS\n",
    "# ===================================\n",
    "\n",
    "\n",
    "def sample_posterior_predictive(model, posterior_samples, baseball_dataset):\n",
    "    \"\"\"\n",
    "    Generate samples from posterior predictive distribution.\n",
    "    \"\"\"\n",
    "    train, test, player_names = train_test_split(baseball_dataset)\n",
    "    at_bats = train[:, 0]\n",
    "    at_bats_season = test[:, 0]\n",
    "    logging.Formatter(\"%(message)s\")\n",
    "    logging.info(\"\\nPosterior Predictive:\")\n",
    "    logging.info(\"Hit Rate - Initial 45 At Bats\")\n",
    "    logging.info(\"-----------------------------\")\n",
    "    # set hits=None to convert it from observation node to sample node\n",
    "    train_predict = Predictive(model, posterior_samples)(at_bats, None)\n",
    "    train_summary = get_summary_table(train_predict,\n",
    "                                      sites=[\"obs\"],\n",
    "                                      player_names=player_names)[\"obs\"]\n",
    "    train_summary = train_summary.assign(ActualHits=baseball_dataset[[\"Hits\"]].values)\n",
    "    logging.info(train_summary)\n",
    "    logging.info(\"\\nHit Rate - Season Predictions\")\n",
    "    logging.info(\"-----------------------------\")\n",
    "    with ignore_experimental_warning():\n",
    "        test_predict = Predictive(model, posterior_samples)(at_bats_season, None)\n",
    "    test_summary = get_summary_table(test_predict,\n",
    "                                     sites=[\"obs\"],\n",
    "                                     player_names=player_names)[\"obs\"]\n",
    "    test_summary = test_summary.assign(ActualHits=baseball_dataset[[\"SeasonHits\"]].values)\n",
    "    logging.info(test_summary)\n",
    "\n",
    "\n",
    "def evaluate_pointwise_pred_density(model, posterior_samples, baseball_dataset):\n",
    "    \"\"\"\n",
    "    Evaluate the log probability density of observing the unseen data (season hits)\n",
    "    given a model and posterior distribution over the parameters.\n",
    "    \"\"\"\n",
    "    _, test, player_names = train_test_split(baseball_dataset)\n",
    "    at_bats_season, hits_season = test[:, 0], test[:, 1]\n",
    "    trace = Predictive(model, posterior_samples).get_vectorized_trace(at_bats_season, hits_season)\n",
    "    # Use LogSumExp trick to evaluate $log(1/num_samples \\sum_i p(new_data | \\theta^{i})) $,\n",
    "    # where $\\theta^{i}$ are parameter samples from the model's posterior.\n",
    "    trace.compute_log_prob()\n",
    "    post_loglik = trace.nodes[\"obs\"][\"log_prob\"]\n",
    "    # computes expected log predictive density at each data point\n",
    "    exp_log_density = (post_loglik.logsumexp(0) - math.log(post_loglik.shape[0])).sum()\n",
    "    logging.info(\"\\nLog pointwise predictive density\")\n",
    "    logging.info(\"--------------------------------\")\n",
    "    logging.info(\"{:.4f}\\n\".format(exp_log_density))\n",
    "\n",
    "\n",
    "def main(args):\n",
    "    baseball_dataset = pd.read_csv(DATA_URL, \"\\t\")\n",
    "    train, _, player_names = train_test_split(baseball_dataset)\n",
    "    at_bats, hits = train[:, 0], train[:, 1]\n",
    "    logging.info(\"Original Dataset:\")\n",
    "    logging.info(baseball_dataset)\n",
    "\n",
    "    # (1) Full Pooling Model\n",
    "    # In this model, we illustrate how to use MCMC with general potential_fn.\n",
    "    init_params, potential_fn, transforms, _ = initialize_model(\n",
    "        fully_pooled, model_args=(at_bats, hits), num_chains=args.num_chains,\n",
    "        jit_compile=args.jit, skip_jit_warnings=True)\n",
    "    nuts_kernel = NUTS(potential_fn=potential_fn)\n",
    "    mcmc = MCMC(nuts_kernel,\n",
    "                num_samples=args.num_samples,\n",
    "                warmup_steps=args.warmup_steps,\n",
    "                num_chains=args.num_chains,\n",
    "                initial_params=init_params,\n",
    "                transforms=transforms)\n",
    "    mcmc.run(at_bats, hits)\n",
    "    samples_fully_pooled = mcmc.get_samples()\n",
    "    logging.info(\"\\nModel: Fully Pooled\")\n",
    "    logging.info(\"===================\")\n",
    "    logging.info(\"\\nphi:\")\n",
    "    logging.info(get_summary_table(mcmc.get_samples(group_by_chain=True),\n",
    "                                   sites=[\"phi\"],\n",
    "                                   player_names=player_names,\n",
    "                                   diagnostics=True,\n",
    "                                   group_by_chain=True)[\"phi\"])\n",
    "    num_divergences = sum(map(len, mcmc.diagnostics()[\"divergences\"].values()))\n",
    "    logging.info(\"\\nNumber of divergent transitions: {}\\n\".format(num_divergences))\n",
    "    sample_posterior_predictive(fully_pooled, samples_fully_pooled, baseball_dataset)\n",
    "    evaluate_pointwise_pred_density(fully_pooled, samples_fully_pooled, baseball_dataset)\n",
    "\n",
    "    # (2) No Pooling Model\n",
    "    nuts_kernel = NUTS(not_pooled, jit_compile=args.jit, ignore_jit_warnings=True)\n",
    "    mcmc = MCMC(nuts_kernel,\n",
    "                num_samples=args.num_samples,\n",
    "                warmup_steps=args.warmup_steps,\n",
    "                num_chains=args.num_chains)\n",
    "    mcmc.run(at_bats, hits)\n",
    "    samples_not_pooled = mcmc.get_samples()\n",
    "    logging.info(\"\\nModel: Not Pooled\")\n",
    "    logging.info(\"=================\")\n",
    "    logging.info(\"\\nphi:\")\n",
    "    logging.info(get_summary_table(mcmc.get_samples(group_by_chain=True),\n",
    "                                   sites=[\"phi\"],\n",
    "                                   player_names=player_names,\n",
    "                                   diagnostics=True,\n",
    "                                   group_by_chain=True)[\"phi\"])\n",
    "    num_divergences = sum(map(len, mcmc.diagnostics()[\"divergences\"].values()))\n",
    "    logging.info(\"\\nNumber of divergent transitions: {}\\n\".format(num_divergences))\n",
    "    sample_posterior_predictive(not_pooled, samples_not_pooled, baseball_dataset)\n",
    "    evaluate_pointwise_pred_density(not_pooled, samples_not_pooled, baseball_dataset)\n",
    "\n",
    "    # (3) Partially Pooled Model\n",
    "    nuts_kernel = NUTS(partially_pooled, jit_compile=args.jit, ignore_jit_warnings=True)\n",
    "    mcmc = MCMC(nuts_kernel,\n",
    "                num_samples=args.num_samples,\n",
    "                warmup_steps=args.warmup_steps,\n",
    "                num_chains=args.num_chains)\n",
    "    mcmc.run(at_bats, hits)\n",
    "    samples_partially_pooled = mcmc.get_samples()\n",
    "    logging.info(\"\\nModel: Partially Pooled\")\n",
    "    logging.info(\"=======================\")\n",
    "    logging.info(\"\\nphi:\")\n",
    "    logging.info(get_summary_table(mcmc.get_samples(group_by_chain=True),\n",
    "                                   sites=[\"phi\"],\n",
    "                                   player_names=player_names,\n",
    "                                   diagnostics=True,\n",
    "                                   group_by_chain=True)[\"phi\"])\n",
    "    num_divergences = sum(map(len, mcmc.diagnostics()[\"divergences\"].values()))\n",
    "    logging.info(\"\\nNumber of divergent transitions: {}\\n\".format(num_divergences))\n",
    "    sample_posterior_predictive(partially_pooled, samples_partially_pooled, baseball_dataset)\n",
    "    evaluate_pointwise_pred_density(partially_pooled, samples_partially_pooled, baseball_dataset)\n",
    "\n",
    "    # (4) Partially Pooled with Logit Model\n",
    "    nuts_kernel = NUTS(partially_pooled_with_logit, jit_compile=args.jit, ignore_jit_warnings=True)\n",
    "    mcmc = MCMC(nuts_kernel,\n",
    "                num_samples=args.num_samples,\n",
    "                warmup_steps=args.warmup_steps,\n",
    "                num_chains=args.num_chains)\n",
    "    mcmc.run(at_bats, hits)\n",
    "    samples_partially_pooled_logit = mcmc.get_samples()\n",
    "    logging.info(\"\\nModel: Partially Pooled with Logit\")\n",
    "    logging.info(\"==================================\")\n",
    "    logging.info(\"\\nSigmoid(alpha):\")\n",
    "    logging.info(get_summary_table(mcmc.get_samples(group_by_chain=True),\n",
    "                                   sites=[\"alpha\"],\n",
    "                                   player_names=player_names,\n",
    "                                   transforms={\"alpha\": torch.sigmoid},\n",
    "                                   diagnostics=True,\n",
    "                                   group_by_chain=True)[\"alpha\"])\n",
    "    num_divergences = sum(map(len, mcmc.diagnostics()[\"divergences\"].values()))\n",
    "    logging.info(\"\\nNumber of divergent transitions: {}\\n\".format(num_divergences))\n",
    "    sample_posterior_predictive(partially_pooled_with_logit, samples_partially_pooled_logit,\n",
    "                                baseball_dataset)\n",
    "    evaluate_pointwise_pred_density(partially_pooled_with_logit, samples_partially_pooled_logit,\n",
    "                                    baseball_dataset)\n",
    "\n",
    "\n",
    "if __name__ == \"__main__\":\n",
    "    assert pyro.__version__.startswith('1.6.0')\n",
    "    parser = argparse.ArgumentParser(description=\"Baseball batting average using HMC\")\n",
    "    parser.add_argument(\"-n\", \"--num-samples\", nargs=\"?\", default=200, type=int)\n",
    "    parser.add_argument(\"--num-chains\", nargs='?', default=4, type=int)\n",
    "    parser.add_argument(\"--warmup-steps\", nargs='?', default=100, type=int)\n",
    "    parser.add_argument(\"--rng_seed\", nargs='?', default=0, type=int)\n",
    "    parser.add_argument(\"--jit\", action=\"store_true\", default=False,\n",
    "                        help=\"use PyTorch jit\")\n",
    "    parser.add_argument(\"--cuda\", action=\"store_true\", default=False,\n",
    "                        help=\"run this example in GPU\")\n",
    "    args = parser.parse_args()\n",
    "\n",
    "    # work around the error \"CUDA error: initialization error\"\n",
    "    # see https://github.com/pytorch/pytorch/issues/2517\n",
    "    torch.multiprocessing.set_start_method(\"spawn\")\n",
    "\n",
    "    pyro.set_rng_seed(args.rng_seed)\n",
    "    # Enable validation checks\n",
    "\n",
    "    # work around with the error \"RuntimeError: received 0 items of ancdata\"\n",
    "    # see https://discuss.pytorch.org/t/received-0-items-of-ancdata-pytorch-0-4-0/19823\n",
    "    torch.multiprocessing.set_sharing_strategy(\"file_system\")\n",
    "\n",
    "    if args.cuda:\n",
    "        torch.set_default_tensor_type(torch.cuda.FloatTensor)\n",
    "\n",
    "    main(args)"
   ]
  },
  {
   "cell_type": "code",
   "execution_count": null,
   "id": "e8153e3b-c781-4bf7-8da7-458729860525",
   "metadata": {},
   "outputs": [],
   "source": []
  }
 ],
 "metadata": {
  "kernelspec": {
   "display_name": "Python 3",
   "language": "python",
   "name": "python3"
  },
  "language_info": {
   "codemirror_mode": {
    "name": "ipython",
    "version": 3
   },
   "file_extension": ".py",
   "mimetype": "text/x-python",
   "name": "python",
   "nbconvert_exporter": "python",
   "pygments_lexer": "ipython3",
   "version": "3.6.9"
  }
 },
 "nbformat": 4,
 "nbformat_minor": 5
}
